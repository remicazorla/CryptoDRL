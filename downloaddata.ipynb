{
 "cells": [
  {
   "cell_type": "code",
   "execution_count": null,
   "id": "f7466a56",
   "metadata": {},
   "outputs": [],
   "source": [
    "pip install python-binance"
   ]
  },
  {
   "cell_type": "code",
   "execution_count": null,
   "id": "37a2f03c",
   "metadata": {},
   "outputs": [
    {
     "name": "stderr",
     "output_type": "stream",
     "text": [
      "  5%|▌         | 23/420 [09:03<1:21:34, 12.33s/it]"
     ]
    }
   ],
   "source": [
    "import pandas as pd\n",
    "from binance.client import Client\n",
    "from tqdm import tqdm\n",
    "\n",
    "client = Client()\n",
    "exchange_info = client.get_exchange_info()['symbols']\n",
    "symbols = [s['symbol'] for s in exchange_info]\n",
    "usdt_symbols = [x for x in symbols if x.endswith('USDT')]\n",
    "\n",
    "def download_symbol_data(symbol, start = \"01 january 2018\", interval = Client.KLINE_INTERVAL_1HOUR):\n",
    "    klinesT = client.get_historical_klines(symbol, interval, start)\n",
    "    df = pd.DataFrame(klinesT, columns = ['timestamp', 'open', 'high', 'low', 'close', 'volume', 'close_time', 'quote_av', 'trades', 'tb_base_av', 'tb_quote_av', 'ignore'])\n",
    "    df = df.set_index(df['timestamp'])\n",
    "    df.index = pd.to_datetime(df.index, unit='ms')\n",
    "    del df['timestamp']\n",
    "    df.to_pickle(f'usdt_data/{symbol}.pickle')\n",
    "    \n",
    "def download_symbols_data(symbols):\n",
    "    for symbol in tqdm(symbols):\n",
    "        try:\n",
    "            download_symbol_data(symbol)\n",
    "        except:\n",
    "            print(':)')\n",
    "\n",
    "download_symbols_data(usdt_symbols)"
   ]
  }
 ],
 "metadata": {
  "kernelspec": {
   "display_name": "Python 3 (Spyder)",
   "language": "python3",
   "name": "python3"
  },
  "language_info": {
   "codemirror_mode": {
    "name": "ipython",
    "version": 3
   },
   "file_extension": ".py",
   "mimetype": "text/x-python",
   "name": "python",
   "nbconvert_exporter": "python",
   "pygments_lexer": "ipython3",
   "version": "3.9.13"
  }
 },
 "nbformat": 4,
 "nbformat_minor": 5
}
