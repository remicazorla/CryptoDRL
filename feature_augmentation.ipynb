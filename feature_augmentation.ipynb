{
 "cells": [
  {
   "cell_type": "code",
   "execution_count": 1,
   "id": "1a0cc8f5",
   "metadata": {},
   "outputs": [],
   "source": [
    "from sklearn.preprocessing import MinMaxScaler\n",
    "from tsfresh import select_features\n",
    "from tsfresh.feature_extraction import extract_features\n",
    "import pandas as pd\n",
    "from tsfracdiff import FractionalDifferentiator\n",
    "import sys\n",
    "sys.path.append('..')\n",
    "from lib.download import *\n",
    "\n",
    "\n",
    "data = get_data_features('ETHUSDT').dropna()\n",
    "data = data.loc[:, data.nunique() != 1]\n",
    "fracDiff = FractionalDifferentiator()\n",
    "frac_data = fracDiff.FitTransform(data).dropna()\n",
    "#close j+1 est la target\n",
    "target_aligned = data[['close']].copy().shift(-1).iloc[:-1]\n",
    "data_aligned = data.iloc[:-1,:]\n",
    "data_aligned[\"target\"] = target_aligned"
   ]
  },
  {
   "cell_type": "code",
   "execution_count": null,
   "id": "a4b0e415",
   "metadata": {},
   "outputs": [],
   "source": [
    "#reverse le fracdiff cazr si je le predis je dois etre en mesure de le convertir en prix => recup les coeffs"
   ]
  },
  {
   "cell_type": "code",
   "execution_count": null,
   "id": "947ade76",
   "metadata": {},
   "outputs": [],
   "source": [
    "from tsfresh.utilities.dataframe_functions import make_forecasting_frame,impute\n",
    "from tsfresh.feature_extraction import MinimalFCParameters\n",
    "\n",
    "#close price features extraction  ====> etendre a d'autresds variables comme rsi et macd?\n",
    "close_price = frac_data[['open','close']].copy().reset_index().reset_index()\n",
    "df_shift, y = make_forecasting_frame(close_price[\"close\"], kind=\"price\", max_timeshift=10, rolling_direction=1)\n",
    "X = extract_features(df_shift, column_id=\"id\", column_sort=\"time\", column_value=\"value\", impute_function=impute)\n",
    "relevant_features = select_features(X, y).columns\n",
    "relevant_features"
   ]
  },
  {
   "cell_type": "code",
   "execution_count": null,
   "id": "a6b1a097",
   "metadata": {},
   "outputs": [],
   "source": [
    "feature selection a faire ici ou plutot faire du sequential feature selection sur les mopdelewxdirectement"
   ]
  },
  {
   "cell_type": "code",
   "execution_count": null,
   "id": "3f4f40ec",
   "metadata": {},
   "outputs": [],
   "source": [
    "essayer de voir la feaztutre importance dans timesnet ???????"
   ]
  },
  {
   "cell_type": "code",
   "execution_count": null,
   "id": "fa13f221",
   "metadata": {},
   "outputs": [],
   "source": [
    "comparer perf avec et sans tsfresh\n",
    "\n",
    "kelly / messenger\n",
    "\n",
    "\n",
    "il faut que je puisse frac diff les nouvelles valeurs => pr ca recup les ordres et rappliquer apres?\n",
    "\n",
    "essayer plusieurs target (diff open close sortino)\n",
    "\n",
    "fonction aggregate data une fois recuperees\n",
    "\n",
    "ajouter les prix des autres monnaies comme features\n",
    "manque ratios financiers\n",
    "\n",
    "variation en cluster dans les temps des cryptos\n",
    "\n",
    "tester m15\n",
    "\n",
    "on differencie pour augmenter la stationarité de la série, et on trouve la fraction minimale de differenciaition qui est inferieure a une pvalue de 0.05\n",
    "\n",
    "pas de times embedding + row shuffle ==>ATOM et getml pas tres utiles mais probablement tres utiles pour d'autres taches\n",
    "https://towardsdatascience.com/atom-a-python-package-for-fast-exploration-of-machine-learning-pipelines-653956a16e7b\n",
    "\n",
    "    \n",
    "getml en ligne. features crées n'ont pas ete utiles, l'adj close etati preponderante meme en mettant la target comme close shifted. essayer avec un predicteur custom plus tard (timesnet0)\n",
    "    \n",
    "from atom import ATOMRegressor\n",
    "atom = ATOMRegressor(data_aligned, y=\"target\", test_size=0.3, verbose=2)\n",
    "atom.feature_generation(\n",
    "    strategy=\"dfs\",\n",
    "    n_features=10,\n",
    "    operators=None,\n",
    ")#gfg\n",
    "atom.dataset.iloc[:,-1]"
   ]
  }
 ],
 "metadata": {
  "kernelspec": {
   "display_name": "Python 3 (Spyder)",
   "language": "python3",
   "name": "python3"
  },
  "language_info": {
   "codemirror_mode": {
    "name": "ipython",
    "version": 3
   },
   "file_extension": ".py",
   "mimetype": "text/x-python",
   "name": "python",
   "nbconvert_exporter": "python",
   "pygments_lexer": "ipython3",
   "version": "3.9.16"
  }
 },
 "nbformat": 4,
 "nbformat_minor": 5
}
