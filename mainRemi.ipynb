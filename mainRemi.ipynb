{
 "cells": [
  {
   "cell_type": "code",
   "execution_count": null,
   "id": "788b1f45",
   "metadata": {},
   "outputs": [],
   "source": [
    "!pip install imbalanced-learn"
   ]
  },
  {
   "cell_type": "code",
   "execution_count": 1,
   "id": "312c9b8c",
   "metadata": {},
   "outputs": [
    {
     "ename": "ModuleNotFoundError",
     "evalue": "No module named 'scipy.sparse'",
     "output_type": "error",
     "traceback": [
      "Traceback \u001b[1;36m(most recent call last)\u001b[0m:\n",
      "\u001b[0m  Cell \u001b[0;32mIn[1], line 1\u001b[0m\n    from sklearn.preprocessing import MinMaxScaler\u001b[0m\n",
      "\u001b[0m  File \u001b[0;32m~\\anaconda3\\envs\\tf-gpu\\lib\\site-packages\\sklearn\\__init__.py:82\u001b[0m\n    from .base import clone\u001b[0m\n",
      "\u001b[0m  File \u001b[0;32m~\\anaconda3\\envs\\tf-gpu\\lib\\site-packages\\sklearn\\base.py:17\u001b[0m\n    from .utils import _IS_32BIT\u001b[0m\n",
      "\u001b[1;36m  File \u001b[1;32m~\\anaconda3\\envs\\tf-gpu\\lib\\site-packages\\sklearn\\utils\\__init__.py:17\u001b[1;36m\n\u001b[1;33m    from scipy.sparse import issparse\u001b[1;36m\n",
      "\u001b[1;31mModuleNotFoundError\u001b[0m\u001b[1;31m:\u001b[0m No module named 'scipy.sparse'\n"
     ]
    }
   ],
   "source": [
    "from sklearn.preprocessing import MinMaxScaler\n",
    "from tsfresh import select_features\n",
    "from tsfresh.feature_extraction import extract_features\n",
    "import keras\n",
    "from tensorflow.keras import layers\n",
    "from tensorflow import keras\n",
    "\n",
    "from tqdm import tqdm\n",
    "import sys\n",
    "sys.path.append('..')\n",
    "from lib.download import *\n",
    "from sklearn.preprocessing import StandardScaler\n",
    "from sklearn.model_selection import train_test_split\n",
    "from sklearn.cluster import KMeans\n",
    "from sklearn.preprocessing import StandardScaler\n",
    "from sklearn.metrics import explained_variance_score\n",
    "\n",
    "usdt_tickers = get_pair_tickers()\n",
    "data = pd.read_pickle(f'data/usdt_data_features/{usdt_tickers[1]}.pickle').astype(float)\n",
    "data = data.dropna()\n",
    "scaler = StandardScaler()\n",
    "data_scaled = scaler.fit_transform(data)\n",
    "train_data = data_scaled[1:int(data.shape[0] * 0.8), :]\n",
    "test_data = data_scaled[int(data.shape[0] * 0.8):-1, :]\n",
    "#ajouter train test"
   ]
  },
  {
   "cell_type": "code",
   "execution_count": 2,
   "id": "ae5633c2",
   "metadata": {},
   "outputs": [],
   "source": [
    "import matplotlib.pyplot as plt\n",
    "from sklearn.cluster import KMeans\n",
    "from sklearn.metrics import silhouette_score\n",
    "from tqdm import tqdm\n",
    "import numpy as np\n",
    "\n",
    "def compute_silhouette_score(n_clusters, returns):\n",
    "    kmeans = KMeans(n_clusters=n_clusters, random_state=0)\n",
    "    kmeans.fit(returns)\n",
    "    return silhouette_score(returns, kmeans.predict(returns))\n",
    "\n",
    "silhouette_scores = []\n",
    "returns = np.array(data['close'].pct_change().dropna()).reshape(-1,1)\n",
    "cluster_sizes = [x*3 for x in range(1,10)]\n",
    "\n",
    "#silh = [compute_silhouette_score(n_clusters, returns) for n_clusters in tqdm(cluster_sizes)]"
   ]
  },
  {
   "cell_type": "code",
   "execution_count": null,
   "id": "023c2a3a",
   "metadata": {},
   "outputs": [],
   "source": [
    "plt.plot(silh)"
   ]
  },
  {
   "cell_type": "code",
   "execution_count": 3,
   "id": "2b740c7e",
   "metadata": {},
   "outputs": [
    {
     "data": {
      "text/plain": [
       "0    20275\n",
       "3    10080\n",
       "1     8661\n",
       "6     2346\n",
       "5     2008\n",
       "2      291\n",
       "4      227\n",
       "dtype: int64"
      ]
     },
     "execution_count": 3,
     "metadata": {},
     "output_type": "execute_result"
    }
   ],
   "source": [
    "rets_df = data['close'].pct_change().dropna().reset_index(drop=True)\n",
    "kmeans = KMeans(n_clusters=7, random_state=669)\n",
    "kmeans.fit(returns)\n",
    "classes = pd.DataFrame(kmeans.predict(returns))\n",
    "classes.value_counts()"
   ]
  },
  {
   "cell_type": "code",
   "execution_count": 4,
   "id": "f2392e00",
   "metadata": {},
   "outputs": [],
   "source": [
    "def sampling(args):\n",
    "    z_mean, z_log_var = args\n",
    "    batch = keras.backend.shape(z_mean)[0]\n",
    "    dim = keras.backend.int_shape(z_mean)[1]\n",
    "    epsilon = keras.backend.random_normal(shape=(batch, dim))\n",
    "    return z_mean + keras.backend.exp(0.5 * z_log_var) * epsilon\n",
    "\n",
    "def train_vae(latent_dim, train_data, test_data):\n",
    "    encoder_inputs = keras.Input(shape=(train_data.shape[1],))\n",
    "    x = layers.Dense(256, activation=\"relu\")(encoder_inputs)\n",
    "    x = layers.Dense(128, activation=\"relu\")(x)\n",
    "    x = layers.Dense(64, activation=\"relu\")(x)\n",
    "    z_mean = layers.Dense(latent_dim)(x)\n",
    "    z_log_var = layers.Dense(latent_dim)(x)\n",
    "\n",
    "    encoder = keras.Model(encoder_inputs, [z_mean, z_log_var], name=\"encoder\")\n",
    "\n",
    "    latent_inputs = keras.Input(shape=(latent_dim,))\n",
    "    x = layers.Dense(64, activation=\"relu\")(latent_inputs)\n",
    "    x = layers.Dense(128, activation=\"relu\")(x)\n",
    "    x = layers.Dense(256, activation=\"relu\")(x)\n",
    "    decoder_outputs = layers.Dense(train_data.shape[1])(x)\n",
    "\n",
    "    decoder = keras.Model(latent_inputs, decoder_outputs, name=\"decoder\")\n",
    "\n",
    "    encoder_outputs = encoder(encoder_inputs)\n",
    "    latent_outputs = encoder_outputs[0]\n",
    "    latent_outputs = keras.layers.Lambda(sampling, output_shape=(latent_dim,))([z_mean, z_log_var])\n",
    "    decoder_outputs = decoder(latent_outputs)\n",
    "\n",
    "    vae = keras.Model(encoder_inputs, decoder_outputs, name=\"vae\")\n",
    "\n",
    "    vae.compile(optimizer=\"adam\", loss=\"mse\")\n",
    "    history = vae.fit(train_data, train_data, epochs=100, batch_size=64, validation_data=(test_data, test_data), verbose=0)\n",
    "    last_10_epochs_loss = history.history['val_loss'][-10:]\n",
    "    mean_loss = np.mean(last_10_epochs_loss)\n",
    "    return mean_loss, encoder, history"
   ]
  },
  {
   "cell_type": "code",
   "execution_count": null,
   "id": "458c06db",
   "metadata": {},
   "outputs": [
    {
     "name": "stderr",
     "output_type": "stream",
     "text": [
      "  0%|          | 0/15 [00:00<?, ?it/s]"
     ]
    }
   ],
   "source": [
    "import concurrent.futures\n",
    "import matplotlib.pyplot as plt\n",
    "import numpy as np\n",
    "\n",
    "latent_dims = [x * 3 for x in range(5, 20)]\n",
    "losss = []\n",
    "\n",
    "def train_and_append_loss(latent_dim):\n",
    "    mean_loss, encoder, history = train_vae(latent_dim, train_data, test_data)\n",
    "    losss.append([mean_loss, latent_dim])\n",
    "\n",
    "with concurrent.futures.ThreadPoolExecutor() as executor:\n",
    "    futures = [executor.submit(train_and_append_loss, latent_dim) for latent_dim in latent_dims]\n",
    "    for f in tqdm(concurrent.futures.as_completed(futures), total=len(latent_dims)):\n",
    "        pass\n",
    "    \n",
    "plt.scatter(np.array(losss).T[1], np.array(losss).T[0])"
   ]
  },
  {
   "cell_type": "code",
   "execution_count": 5,
   "id": "a743725e",
   "metadata": {},
   "outputs": [
    {
     "data": {
      "image/png": "[encoded data removed]",
      "text/plain": [
       "<Figure size 432x288 with 1 Axes>"
      ]
     },
     "metadata": {},
     "output_type": "display_data"
    }
   ],
   "source": [
    "mean_loss, encore, history = train_vae(45, train_data, test_data)\n",
    "import matplotlib.pyplot as plt\n",
    "# Plot the reconstruction loss\n",
    "plt.plot(history.history['loss'], label='Training loss')\n",
    "plt.plot(history.history['val_loss'], label='Validation loss')\n",
    "plt.title('Reconstruction loss')\n",
    "plt.xlabel('Epoch')\n",
    "plt.ylabel('Loss')\n",
    "plt.legend()\n",
    "plt.show()"
   ]
  },
  {
   "cell_type": "code",
   "execution_count": null,
   "id": "cb875dc8",
   "metadata": {},
   "outputs": [],
   "source": [
    "features_train = encore.predict(train_data)\n",
    "features_test = encore.predict(test_data)\n",
    "features = pd.concat([pd.DataFrame(features_train[0]), pd.DataFrame(features_test[0])],axis=0, ignore_index=True)\n",
    "features.index = data.index\n",
    "features.tail()"
   ]
  },
  {
   "cell_type": "code",
   "execution_count": 26,
   "id": "53ee80dc",
   "metadata": {},
   "outputs": [],
   "source": [
    "y_train = classes[1:len(train_data)+1]\n",
    "y_test = classes[len(train_data)+1:]"
   ]
  },
  {
   "cell_type": "code",
   "execution_count": 27,
   "id": "23cbfcbf",
   "metadata": {},
   "outputs": [],
   "source": [
    "from lightgbm import LGBMClassifier\n",
    "from xgboost import XGBClassifier\n",
    "\n",
    "lgbm = LGBMClassifier(class_weight='balanced')\n",
    "lgbm.fit(train_data, y_train)\n",
    "\n",
    "predictions = lgbm.predict(test_data)\n",
    "predictions = pd.DataFrame(predictions)"
   ]
  },
  {
   "cell_type": "code",
   "execution_count": 28,
   "id": "4efdb278",
   "metadata": {},
   "outputs": [
    {
     "name": "stdout",
     "output_type": "stream",
     "text": [
      "accuracy_score on test dataset : 0.36812122593141167\n",
      "              precision    recall  f1-score   support\n",
      "\n",
      "           0       0.49      0.66      0.56      3345\n",
      "           1       0.11      0.22      0.14       796\n",
      "           2       0.05      0.04      0.04        46\n",
      "           3       0.36      0.25      0.30      2781\n",
      "           4       0.00      0.00      0.00         9\n",
      "           5       0.22      0.08      0.12       861\n",
      "           6       0.23      0.08      0.12       939\n",
      "\n",
      "    accuracy                           0.37      8777\n",
      "   macro avg       0.21      0.19      0.19      8777\n",
      "weighted avg       0.36      0.37      0.35      8777\n",
      "\n"
     ]
    },
    {
     "data": {
      "text/plain": [
       "<AxesSubplot: >"
      ]
     },
     "execution_count": 28,
     "metadata": {},
     "output_type": "execute_result"
    },
    {
     "data": {
      "image/png": "[encoded data removed]",
      "text/plain": [
       "<Figure size 432x288 with 1 Axes>"
      ]
     },
     "metadata": {},
     "output_type": "display_data"
    }
   ],
   "source": [
    "from sklearn.metrics import accuracy_score, classification_report, confusion_matrix\n",
    "import seaborn as sns\n",
    "accuracy_test = accuracy_score(y_test, predictions)\n",
    "print('accuracy_score on test dataset :', accuracy_test)\n",
    "print(classification_report(predictions, y_test))\n",
    "sns.set()\n",
    "mat=confusion_matrix(y_test, predictions)\n",
    "sns.heatmap(mat.T, square=True, annot=True, fmt='d', cbar=False)"
   ]
  },
  {
   "cell_type": "code",
   "execution_count": 30,
   "id": "23f7b823",
   "metadata": {},
   "outputs": [
    {
     "data": {
      "image/png": "[encoded data removed]",
      "text/plain": [
       "<Figure size 432x288 with 1 Axes>"
      ]
     },
     "metadata": {},
     "output_type": "display_data"
    }
   ],
   "source": [
    "import lightgbm as lgb \n",
    "import matplotlib.pyplot as plt\n",
    "\n",
    "# Plot the feature importances\n",
    "lgb.plot_importance(lgbm.booster_, max_num_features=20)\n",
    "plt.show()"
   ]
  },
  {
   "cell_type": "code",
   "execution_count": 34,
   "id": "09a2c8c2",
   "metadata": {},
   "outputs": [
    {
     "data": {
      "image/png": "[encoded data removed]",
      "text/plain": [
       "<Figure size 432x288 with 1 Axes>"
      ]
     },
     "metadata": {},
     "output_type": "display_data"
    }
   ],
   "source": [
    "rets_df[classes[0]==3].hist(bins=50);"
   ]
  },
  {
   "cell_type": "code",
   "execution_count": 79,
   "id": "04560723",
   "metadata": {},
   "outputs": [],
   "source": [
    "import tensorflow as tf\n",
    "from tensorflow.keras.models import Sequential\n",
    "from tensorflow.keras.layers import LSTM, GRU, Dense, Dropout, BatchNormalization\n",
    "from tensorflow.keras import regularizers\n",
    "from keras.utils import to_categorical\n",
    "from keras.callbacks import EarlyStopping, ReduceLROnPlateau\n",
    "from imblearn.over_sampling import SMOTE\n",
    "\n",
    "sm = SMOTE(random_state=42)\n",
    "X_train_resampled, y_train_resampled = sm.fit_resample(train_data, y_train)\n",
    "\n",
    "OH_ytrain = to_categorical(y_train_resampled)\n",
    "OH_ytest = to_categorical(y_test)\n",
    "X_train_resh = np.reshape(X_train_resampled, (X_train_resampled.shape[0], 1, X_train_resampled.shape[1]))\n",
    "X_test_resh = np.reshape(test_data, (test_data.shape[0], 1, test_data.shape[1]))\n",
    "\n",
    "timesteps, num_features = 1, 198\n",
    "\n",
    "n_classes = len(np.unique(y_train_resampled))\n",
    "class_weights = {i : 1/n_classes for i in range(n_classes)}\n",
    "\n",
    "model = Sequential()\n",
    "model.add(LSTM(7*24,input_shape=(timesteps, num_features), return_sequences=True, kernel_regularizer=regularizers.l2(0.001)))\n",
    "model.add(Dropout(0.8))\n",
    "model.add(LSTM(7*24,kernel_regularizer=regularizers.l2(0.001)))\n",
    "model.add(Dropout(0.4))\n",
    "model.add(Dense(len(classes.value_counts()), activation='softmax'))\n",
    "\n",
    "model.compile(loss='categorical_crossentropy', optimizer='RMSProp', metrics=['accuracy'])"
   ]
  },
  {
   "cell_type": "code",
   "execution_count": 80,
   "id": "ed3e82ad",
   "metadata": {},
   "outputs": [],
   "source": [
    "early_stop = EarlyStopping(patience=20)\n",
    "reduce_lr = ReduceLROnPlateau(factor=0.1, patience=20)"
   ]
  },
  {
   "cell_type": "code",
   "execution_count": 81,
   "id": "90a6654d",
   "metadata": {},
   "outputs": [
    {
     "name": "stdout",
     "output_type": "stream",
     "text": [
      "Epoch 1/50\n",
      "111/111 [==============================] - 6s 27ms/step - loss: 0.3612 - accuracy: 0.2454 - val_loss: 1.7402 - val_accuracy: 0.4034\n",
      "Epoch 2/50\n",
      "111/111 [==============================] - 2s 21ms/step - loss: 0.2587 - accuracy: 0.2826 - val_loss: 1.6195 - val_accuracy: 0.4194\n",
      "Epoch 3/50\n",
      "111/111 [==============================] - 2s 20ms/step - loss: 0.2555 - accuracy: 0.2949 - val_loss: 1.7105 - val_accuracy: 0.3574\n",
      "Epoch 4/50\n",
      "111/111 [==============================] - 2s 20ms/step - loss: 0.2532 - accuracy: 0.3071 - val_loss: 1.5586 - val_accuracy: 0.4421\n",
      "Epoch 5/50\n",
      "111/111 [==============================] - 2s 21ms/step - loss: 0.2515 - accuracy: 0.3145 - val_loss: 1.6165 - val_accuracy: 0.3867\n",
      "Epoch 6/50\n",
      "111/111 [==============================] - 2s 21ms/step - loss: 0.2500 - accuracy: 0.3234 - val_loss: 1.5964 - val_accuracy: 0.3998\n",
      "Epoch 7/50\n",
      "111/111 [==============================] - 2s 20ms/step - loss: 0.2490 - accuracy: 0.3268 - val_loss: 1.5884 - val_accuracy: 0.4093\n",
      "Epoch 8/50\n",
      "109/111 [============================>.] - ETA: 0s - loss: 0.2481 - accuracy: 0.3296"
     ]
    },
    {
     "ename": "KeyboardInterrupt",
     "evalue": "",
     "output_type": "error",
     "traceback": [
      "Traceback \u001b[1;36m(most recent call last)\u001b[0m:\n",
      "\u001b[0m  Cell \u001b[0;32mIn[81], line 1\u001b[0m\n    history = model.fit(X_train_resh, OH_ytrain, epochs=50, class_weight=class_weights, batch_size=24*7*6, validation_data=(X_test_resh, OH_ytest))#, callbacks=[early_stop, reduce_lr])\u001b[0m\n",
      "\u001b[0m  File \u001b[0;32m~\\anaconda3\\lib\\site-packages\\keras\\utils\\traceback_utils.py:65\u001b[0m in \u001b[0;35merror_handler\u001b[0m\n    return fn(*args, **kwargs)\u001b[0m\n",
      "\u001b[0m  File \u001b[0;32m~\\anaconda3\\lib\\site-packages\\keras\\engine\\training.py:1606\u001b[0m in \u001b[0;35mfit\u001b[0m\n    val_logs = self.evaluate(\u001b[0m\n",
      "\u001b[0m  File \u001b[0;32m~\\anaconda3\\lib\\site-packages\\keras\\utils\\traceback_utils.py:65\u001b[0m in \u001b[0;35merror_handler\u001b[0m\n    return fn(*args, **kwargs)\u001b[0m\n",
      "\u001b[0m  File \u001b[0;32m~\\anaconda3\\lib\\site-packages\\keras\\engine\\training.py:1939\u001b[0m in \u001b[0;35mevaluate\u001b[0m\n    for _, iterator in data_handler.enumerate_epochs():  # Single epoch.\u001b[0m\n",
      "\u001b[0m  File \u001b[0;32m~\\anaconda3\\lib\\site-packages\\keras\\engine\\data_adapter.py:1307\u001b[0m in \u001b[0;35menumerate_epochs\u001b[0m\n    data_iterator = iter(self._dataset)\u001b[0m\n",
      "\u001b[0m  File \u001b[0;32m~\\anaconda3\\lib\\site-packages\\tensorflow\\python\\data\\ops\\dataset_ops.py:499\u001b[0m in \u001b[0;35m__iter__\u001b[0m\n    return iterator_ops.OwnedIterator(self)\u001b[0m\n",
      "\u001b[0m  File \u001b[0;32m~\\anaconda3\\lib\\site-packages\\tensorflow\\python\\data\\ops\\iterator_ops.py:696\u001b[0m in \u001b[0;35m__init__\u001b[0m\n    self._create_iterator(dataset)\u001b[0m\n",
      "\u001b[0m  File \u001b[0;32m~\\anaconda3\\lib\\site-packages\\tensorflow\\python\\data\\ops\\iterator_ops.py:721\u001b[0m in \u001b[0;35m_create_iterator\u001b[0m\n    gen_dataset_ops.make_iterator(ds_variant, self._iterator_resource)\u001b[0m\n",
      "\u001b[1;36m  File \u001b[1;32m~\\anaconda3\\lib\\site-packages\\tensorflow\\python\\ops\\gen_dataset_ops.py:3408\u001b[1;36m in \u001b[1;35mmake_iterator\u001b[1;36m\n\u001b[1;33m    _result = pywrap_tfe.TFE_Py_FastPathExecute(\u001b[1;36m\n",
      "\u001b[1;31mKeyboardInterrupt\u001b[0m\n"
     ]
    }
   ],
   "source": [
    "history = model.fit(X_train_resh, OH_ytrain, epochs=50, class_weight=class_weights, batch_size=24*7*6, validation_data=(X_test_resh, OH_ytest))#, callbacks=[early_stop, reduce_lr])"
   ]
  },
  {
   "cell_type": "code",
   "execution_count": 209,
   "id": "b1de9a2d",
   "metadata": {},
   "outputs": [
    {
     "name": "stdout",
     "output_type": "stream",
     "text": [
      "275/275 [==============================] - 1s 2ms/step\n",
      "              precision    recall  f1-score   support\n",
      "\n",
      "           0       0.65      0.63      0.64      4545\n",
      "           1       0.50      0.08      0.14      2396\n",
      "           2       0.00      0.00      0.00         0\n",
      "           3       0.14      0.06      0.08        70\n",
      "           4       0.13      0.24      0.17      1021\n",
      "           5       0.12      0.05      0.07       733\n",
      "           6       0.03      0.08      0.04        12\n",
      "\n",
      "    accuracy                           0.38      8777\n",
      "   macro avg       0.22      0.16      0.16      8777\n",
      "weighted avg       0.50      0.38      0.39      8777\n",
      "\n"
     ]
    },
    {
     "data": {
      "text/plain": [
       "<AxesSubplot: >"
      ]
     },
     "execution_count": 209,
     "metadata": {},
     "output_type": "execute_result"
    },
    {
     "data": {
      "image/png": "[encoded data removed]",
      "text/plain": [
       "<Figure size 432x288 with 1 Axes>"
      ]
     },
     "metadata": {},
     "output_type": "display_data"
    }
   ],
   "source": [
    "from sklearn.metrics import confusion_matrix, classification_report\n",
    "import numpy as np\n",
    "import seaborn as sns\n",
    "\n",
    "predictions = model.predict(X_test_resh)\n",
    "predictions = np.argmax(predictions, axis=1)\n",
    "\n",
    "cm = confusion_matrix(y_test, predictions)\n",
    "\n",
    "\n",
    "print(classification_report(predictions, y_test))\n",
    "sns.set()\n",
    "sns.heatmap(cm.T, square=True, annot=True, fmt='d', cbar=False)"
   ]
  },
  {
   "cell_type": "code",
   "execution_count": 83,
   "id": "367d8caf",
   "metadata": {},
   "outputs": [
    {
     "ename": "ValueError",
     "evalue": "Input 0 of layer \"lstm_35\" is incompatible with the layer: expected ndim=3, found ndim=2. Full shape received: (None, 1774592)",
     "output_type": "error",
     "traceback": [
      "Traceback \u001b[1;36m(most recent call last)\u001b[0m:\n",
      "\u001b[0m  Cell \u001b[0;32mIn[83], line 18\u001b[0m\n    lstm = LSTM(32, return_sequences=True)(encoded)\u001b[0m\n",
      "\u001b[0m  File \u001b[0;32m~\\anaconda3\\lib\\site-packages\\keras\\layers\\rnn\\base_rnn.py:553\u001b[0m in \u001b[0;35m__call__\u001b[0m\n    return super().__call__(inputs, **kwargs)\u001b[0m\n",
      "\u001b[0m  File \u001b[0;32m~\\anaconda3\\lib\\site-packages\\keras\\utils\\traceback_utils.py:70\u001b[0m in \u001b[0;35merror_handler\u001b[0m\n    raise e.with_traceback(filtered_tb) from None\u001b[0m\n",
      "\u001b[1;36m  File \u001b[1;32m~\\anaconda3\\lib\\site-packages\\keras\\engine\\input_spec.py:232\u001b[1;36m in \u001b[1;35massert_input_compatibility\u001b[1;36m\n\u001b[1;33m    raise ValueError(\u001b[1;36m\n",
      "\u001b[1;31mValueError\u001b[0m\u001b[1;31m:\u001b[0m Input 0 of layer \"lstm_35\" is incompatible with the layer: expected ndim=3, found ndim=2. Full shape received: (None, 1774592)\n"
     ]
    }
   ],
   "source": [
    "from tensorflow.keras.layers import Input, LSTM, GRU, Dense, Dropout, BatchNormalization, TimeDistributed, Conv1D, MaxPooling1D, Flatten\n",
    "from tensorflow.keras.models import Model\n",
    "from tensorflow.keras.callbacks import EarlyStopping, ReduceLROnPlateau\n",
    "\n",
    "timesteps, num_features = X_train_resampled.shape[0], X_train_resampled.shape[1]\n",
    "\n",
    "# Autoencoder Layers\n",
    "input_layer = Input(shape=(timesteps, num_features))\n",
    "encoded = Conv1D(32, 3, activation='relu', padding='same')(input_layer)\n",
    "encoded = MaxPooling1D(2, padding='same')(encoded)\n",
    "encoded = Conv1D(64, 3, activation='relu', padding='same')(encoded)\n",
    "encoded = MaxPooling1D(2, padding='same')(encoded)\n",
    "encoded = Conv1D(128, 3, activation='relu', padding='same')(encoded)\n",
    "encoded = MaxPooling1D(2, padding='same')(encoded)\n",
    "encoded = Flatten()(encoded)\n",
    "\n",
    "# LSTM and GRU Layers\n",
    "lstm = LSTM(32, return_sequences=True)(encoded)\n",
    "gru = GRU(32)(lstm)\n",
    "\n",
    "# Dense Layers\n",
    "dense = Dense(64, activation='relu')(gru)\n",
    "dense = Dropout(0.5)(dense)\n",
    "dense = Dense(32, activation='relu')(dense)\n",
    "dense = Dropout(0.5)(dense)\n",
    "output_layer = Dense(n_classes, activation='softmax')(dense)\n",
    "\n",
    "# Model Compilation\n",
    "model = Model(input_layer, output_layer)\n",
    "model.compile(loss='categorical_crossentropy', optimizer='adam', metrics=['accuracy'])\n",
    "\n",
    "# Train the Model\n",
    "model.fit(X_train_resampled, OH_ytrain, epochs=50, batch_size=32, callbacks=[EarlyStopping(patience=5), ReduceLROnPlateau(patience=3)])"
   ]
  },
  {
   "cell_type": "code",
   "execution_count": 44,
   "id": "07d02746",
   "metadata": {},
   "outputs": [
    {
     "data": {
      "text/plain": [
       "0    20103\n",
       "4     9660\n",
       "2     9239\n",
       "1     2280\n",
       "5     2109\n",
       "6      258\n",
       "3      239\n",
       "dtype: int64"
      ]
     },
     "execution_count": 44,
     "metadata": {},
     "output_type": "execute_result"
    }
   ],
   "source": [
    "classes.value_counts()"
   ]
  },
  {
   "cell_type": "code",
   "execution_count": null,
   "id": "6d03ca97",
   "metadata": {},
   "outputs": [],
   "source": [
    "recuperer la partie fiable de chaque DL et stacker\n",
    "\n",
    "but => maximiser la precision sur les classes rares\n",
    "\n",
    "fonction qui donne davantage de poids aux classes rares=> tester differents poids et calculer en fonction une rentabilité\n",
    "\n",
    "predire chaque jour les classes pour chaque crypto, et faire un weight des crypto avec les meilleures predic tions\n",
    "\n",
    "Boruta, avant de finaliser le predicteur"
   ]
  },
  {
   "cell_type": "code",
   "execution_count": 126,
   "id": "87b1aa88",
   "metadata": {},
   "outputs": [
    {
     "data": {
      "image/png": "[encoded data removed]",
      "text/plain": [
       "<Figure size 432x288 with 1 Axes>"
      ]
     },
     "metadata": {},
     "output_type": "display_data"
    }
   ],
   "source": [
    "rets_df[classes[0]==3].hist(bins=50);"
   ]
  },
  {
   "cell_type": "code",
   "execution_count": null,
   "id": "0e518cc2",
   "metadata": {},
   "outputs": [],
   "source": [
    "custommmmmm"
   ]
  },
  {
   "cell_type": "code",
   "execution_count": 45,
   "id": "90953aa7",
   "metadata": {},
   "outputs": [
    {
     "data": {
      "text/plain": [
       "43888"
      ]
     },
     "execution_count": 45,
     "metadata": {},
     "output_type": "execute_result"
    }
   ],
   "source": [
    "classes.value_counts().sum()"
   ]
  },
  {
   "cell_type": "code",
   "execution_count": 47,
   "id": "431fc140",
   "metadata": {},
   "outputs": [
    {
     "data": {
      "text/plain": [
       "0.005696317900109369"
      ]
     },
     "execution_count": 47,
     "metadata": {},
     "output_type": "execute_result"
    }
   ],
   "source": [
    "250/43888"
   ]
  },
  {
   "cell_type": "code",
   "execution_count": 104,
   "id": "3b5fe1d6",
   "metadata": {},
   "outputs": [],
   "source": [
    "from sklearn.feature_selection import SelectKBest\n",
    "from sklearn.feature_selection import f_classif\n",
    "\n",
    "selector = SelectKBest(f_classif, k=10)\n",
    "selected_features_train = selector.fit_transform(train_data, y_train)\n",
    "selected_features_test = selector.transform(test_data)"
   ]
  },
  {
   "cell_type": "code",
   "execution_count": null,
   "id": "0b3805f9",
   "metadata": {},
   "outputs": [],
   "source": [
    "imbalanced deep learning"
   ]
  },
  {
   "cell_type": "code",
   "execution_count": null,
   "id": "ef2b1282",
   "metadata": {},
   "outputs": [],
   "source": [
    "#fonction a maximiser => rentabilité cumulée(voir projet paris sportifs)\n",
    "#nombre de clusters a reglers selon les perfs du machine learning\n",
    "donner classements au cluster\n",
    "ncluster a optimiser aussi"
   ]
  },
  {
   "cell_type": "code",
   "execution_count": 39,
   "id": "73308ee8",
   "metadata": {},
   "outputs": [
    {
     "ename": "SyntaxError",
     "evalue": "invalid syntax (2866234363.py, line 1)",
     "output_type": "error",
     "traceback": [
      "\u001b[1;36m  Cell \u001b[1;32mIn[39], line 1\u001b[1;36m\u001b[0m\n\u001b[1;33m    minmiser la fonction de mauvaises décisions +> positives tres negatives\u001b[0m\n\u001b[1;37m             ^\u001b[0m\n\u001b[1;31mSyntaxError\u001b[0m\u001b[1;31m:\u001b[0m invalid syntax\n"
     ]
    }
   ],
   "source": [
    "minmiser la fonction de mauvaises décisions +> positives tres negatives\n",
    "predict proba + portefeuille simulation\n",
    "plot decisiontree lgbm\n",
    "\n",
    "outliers et faeture selection\n",
    "\n",
    "convertir classe dans le meme univers en fonction du ranking (---,--,-,0,+,++,+++)"
   ]
  },
  {
   "cell_type": "code",
   "execution_count": 93,
   "id": "56a27811",
   "metadata": {},
   "outputs": [
    {
     "data": {
      "text/plain": [
       "0     6095\n",
       "12     281\n",
       "18     205\n",
       "11     200\n",
       "17     142\n",
       "19     113\n",
       "1       43\n",
       "5       35\n",
       "20      28\n",
       "15      27\n",
       "dtype: int64"
      ]
     },
     "execution_count": 93,
     "metadata": {},
     "output_type": "execute_result"
    }
   ],
   "source": [
    "predictions.value_counts()"
   ]
  },
  {
   "cell_type": "code",
   "execution_count": 23,
   "id": "5a5f651b",
   "metadata": {},
   "outputs": [
    {
     "name": "stderr",
     "output_type": "stream",
     "text": [
      "Feature Extraction: 100%|██████████| 30/30 [00:13<00:00,  2.24it/s]\n"
     ]
    }
   ],
   "source": [
    "close_features = extract_features(test[[\"index\", \"Close\"]], column_id='index')"
   ]
  },
  {
   "cell_type": "code",
   "execution_count": 49,
   "id": "201dbf94",
   "metadata": {},
   "outputs": [],
   "source": [
    "indexed_data = data.copy()\n",
    "indexed_data['id'] = pd.Series(range(len(indexed_data)), index=data.index)"
   ]
  },
  {
   "cell_type": "code",
   "execution_count": 50,
   "id": "25f9ec34",
   "metadata": {},
   "outputs": [],
   "source": [
    "indexed_data = indexed_data.reset_index().iloc[:,1:].reset_index()"
   ]
  },
  {
   "cell_type": "code",
   "execution_count": 75,
   "id": "b80df81a",
   "metadata": {},
   "outputs": [],
   "source": [
    "close_relevant_features = select_features(nanless_close_features.reset_index().iloc[1:,1:], indexed_data['Close'].diff().iloc[1:])"
   ]
  },
  {
   "cell_type": "code",
   "execution_count": 67,
   "id": "ff5d8b6f",
   "metadata": {},
   "outputs": [],
   "source": [
    "nanless_close_features = close_features.T.dropna().T.copy()\n",
    "\n",
    "#au lieu de faire le dropna() faire du back fill et drop ceux avec trop de d onnées manquantes"
   ]
  },
  {
   "cell_type": "code",
   "execution_count": null,
   "id": "5ede3554",
   "metadata": {},
   "outputs": [],
   "source": [
    "https://www.kaggle.com/code/patrickurbanke/feature-engineering-for-time-series"
   ]
  },
  {
   "cell_type": "code",
   "execution_count": null,
   "id": "95aa5944",
   "metadata": {},
   "outputs": [],
   "source": [
    "polynomial elbow + kmeans test train\n",
    "#differencier 1, 2, 3 fois\n",
    "#n x n features"
   ]
  }
 ],
 "metadata": {
  "kernelspec": {
   "display_name": "Python 3 (Spyder)",
   "language": "python3",
   "name": "python3"
  },
  "language_info": {
   "codemirror_mode": {
    "name": "ipython",
    "version": 3
   },
   "file_extension": ".py",
   "mimetype": "text/x-python",
   "name": "python",
   "nbconvert_exporter": "python",
   "pygments_lexer": "ipython3",
   "version": "3.8.16"
  }
 },
 "nbformat": 4,
 "nbformat_minor": 5
}
