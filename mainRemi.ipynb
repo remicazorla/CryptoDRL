{
 "cells": [
  {
   "cell_type": "code",
   "execution_count": 1,
   "id": "b5d9f782",
   "metadata": {},
   "outputs": [],
   "source": [
    "from sklearn.preprocessing import MinMaxScaler\n",
    "from tsfresh import select_features\n",
    "from tsfresh.feature_extraction import extract_features\n",
    "import keras\n",
    "from tensorflow.keras import layers\n",
    "from tensorflow import keras\n",
    "import pandas as pd\n",
    "from tqdm import tqdm\n",
    "import sys\n",
    "sys.path.append('..')\n",
    "from lib.download import *\n",
    "from sklearn.preprocessing import StandardScaler\n",
    "from sklearn.model_selection import train_test_split\n",
    "from sklearn.cluster import KMeans\n",
    "from sklearn.preprocessing import StandardScaler\n",
    "from sklearn.metrics import explained_variance_score\n",
    "\n",
    "usdt_tickers = get_pair_tickers()\n",
    "data = pd.read_pickle(f'data/usdt_data_features/{usdt_tickers[1]}.pickle').astype(float)\n",
    "data = data.dropna()\n",
    "scaler = StandardScaler()\n",
    "data_scaled = scaler.fit_transform(data)\n",
    "\n",
    "#ajouter train test"
   ]
  },
  {
   "cell_type": "code",
   "execution_count": 18,
   "id": "a72bc667",
   "metadata": {},
   "outputs": [
    {
     "data": {
      "image/png": "[encoded data removed]",
      "text/plain": [
       "<Figure size 432x288 with 1 Axes>"
      ]
     },
     "metadata": {},
     "output_type": "display_data"
    }
   ],
   "source": [
    "data['close'].pct_change().hist(bins=100);"
   ]
  },
  {
   "cell_type": "code",
   "execution_count": 3,
   "id": "d8338709",
   "metadata": {},
   "outputs": [
    {
     "name": "stderr",
     "output_type": "stream",
     "text": [
      "100%|██████████| 9/9 [03:41<00:00, 24.59s/it]\n"
     ]
    }
   ],
   "source": [
    "import concurrent.futures\n",
    "import matplotlib.pyplot as plt\n",
    "from sklearn.cluster import KMeans\n",
    "from sklearn.metrics import silhouette_score\n",
    "from tqdm import tqdm\n",
    "import numpy as np\n",
    "\n",
    "def compute_silhouette_score(n_clusters, returns):\n",
    "    kmeans = KMeans(n_clusters=n_clusters, random_state=0)\n",
    "    kmeans.fit(returns)\n",
    "    return silhouette_score(returns, kmeans.predict(returns))\n",
    "\n",
    "silhouette_scores = []\n",
    "returns = np.array(data['close'].pct_change().dropna()).reshape(-1,1)\n",
    "cluster_sizes = [x*3 for x in range(1,10)]\n",
    "\n",
    "silh = [compute_silhouette_score(n_clusters, returns) for n_clusters in tqdm(cluster_sizes)]"
   ]
  },
  {
   "cell_type": "code",
   "execution_count": 4,
   "id": "560297e2",
   "metadata": {},
   "outputs": [
    {
     "data": {
      "text/plain": [
       "[<matplotlib.lines.Line2D at 0x20569111dc0>]"
      ]
     },
     "execution_count": 4,
     "metadata": {},
     "output_type": "execute_result"
    },
    {
     "data": {
      "image/png": "[encoded data removed]",
      "text/plain": [
       "<Figure size 432x288 with 1 Axes>"
      ]
     },
     "metadata": {},
     "output_type": "display_data"
    }
   ],
   "source": [
    "plt.plot(silh)"
   ]
  },
  {
   "cell_type": "code",
   "execution_count": 27,
   "id": "6d4e0c89",
   "metadata": {},
   "outputs": [
    {
     "data": {
      "text/plain": [
       "0    17905\n",
       "4    15918\n",
       "2     5064\n",
       "1     3861\n",
       "3      641\n",
       "5      499\n",
       "dtype: int64"
      ]
     },
     "execution_count": 27,
     "metadata": {},
     "output_type": "execute_result"
    }
   ],
   "source": [
    "rets_df = data['close'].pct_change().dropna().reset_index(drop=True)\n",
    "kmeans = KMeans(n_clusters=6, random_state=0)\n",
    "kmeans.fit(returns)\n",
    "classes = pd.DataFrame(kmeans.predict(returns))\n",
    "classes.value_counts()"
   ]
  },
  {
   "cell_type": "code",
   "execution_count": null,
   "id": "572fa315",
   "metadata": {},
   "outputs": [],
   "source": [
    "#fonction a maximiser => rentabilité cumulée(voir projet paris sportifs)\n",
    "#nombre de clusters a reglers selon les perfs du machine learning\n",
    "donner classements au cluster"
   ]
  },
  {
   "cell_type": "code",
   "execution_count": 30,
   "id": "a3011a70",
   "metadata": {},
   "outputs": [
    {
     "data": {
      "image/png": "[encoded data removed]",
      "text/plain": [
       "<Figure size 432x288 with 1 Axes>"
      ]
     },
     "metadata": {},
     "output_type": "display_data"
    }
   ],
   "source": [
    "rets_df[classes[0]==2].hist(bins=50);"
   ]
  },
  {
   "cell_type": "code",
   "execution_count": 32,
   "id": "663faa16",
   "metadata": {},
   "outputs": [],
   "source": [
    "def sampling(args):\n",
    "    z_mean, z_log_var = args\n",
    "    batch = keras.backend.shape(z_mean)[0]\n",
    "    dim = keras.backend.int_shape(z_mean)[1]\n",
    "    epsilon = keras.backend.random_normal(shape=(batch, dim))\n",
    "    return z_mean + keras.backend.exp(0.5 * z_log_var) * epsilon\n",
    "\n",
    "def train_vae(latent_dim, train_data, test_data):\n",
    "    encoder_inputs = keras.Input(shape=(train_data.shape[1],))\n",
    "    x = layers.Dense(256, activation=\"relu\")(encoder_inputs)\n",
    "    x = layers.Dense(128, activation=\"relu\")(x)\n",
    "    x = layers.Dense(64, activation=\"relu\")(x)\n",
    "    z_mean = layers.Dense(latent_dim)(x)\n",
    "    z_log_var = layers.Dense(latent_dim)(x)\n",
    "\n",
    "    encoder = keras.Model(encoder_inputs, [z_mean, z_log_var], name=\"encoder\")\n",
    "\n",
    "    latent_inputs = keras.Input(shape=(latent_dim,))\n",
    "    x = layers.Dense(64, activation=\"relu\")(latent_inputs)\n",
    "    x = layers.Dense(128, activation=\"relu\")(x)\n",
    "    x = layers.Dense(256, activation=\"relu\")(x)\n",
    "    decoder_outputs = layers.Dense(train_data.shape[1])(x)\n",
    "\n",
    "    decoder = keras.Model(latent_inputs, decoder_outputs, name=\"decoder\")\n",
    "\n",
    "    encoder_outputs = encoder(encoder_inputs)\n",
    "    latent_outputs = encoder_outputs[0]\n",
    "    latent_outputs = keras.layers.Lambda(sampling, output_shape=(latent_dim,))([z_mean, z_log_var])\n",
    "    decoder_outputs = decoder(latent_outputs)\n",
    "\n",
    "    vae = keras.Model(encoder_inputs, decoder_outputs, name=\"vae\")\n",
    "\n",
    "    vae.compile(optimizer=\"adam\", loss=\"mse\")\n",
    "    history = vae.fit(train_data, train_data, epochs=100, batch_size=64, validation_data=(test_data, test_data), verbose=1)\n",
    "    last_10_epochs_loss = history.history['val_loss'][-10:]\n",
    "    mean_loss = np.mean(last_10_epochs_loss)\n",
    "    return mean_loss, encoder, history"
   ]
  },
  {
   "cell_type": "code",
   "execution_count": 3,
   "id": "24e28277",
   "metadata": {},
   "outputs": [
    {
     "name": "stderr",
     "output_type": "stream",
     "text": [
      "  0%|          | 0/15 [00:00<?, ?it/s]"
     ]
    },
    {
     "name": "stdout",
     "output_type": "stream",
     "text": [
      "WARNING:tensorflow:5 out of the last 13 calls to <function Model.make_train_function.<locals>.train_function at 0x0000029113E99A60> triggered tf.function retracing. Tracing is expensive and the excessive number of tracings could be due to (1) creating @tf.function repeatedly in a loop, (2) passing tensors with different shapes, (3) passing Python objects instead of tensors. For (1), please define your @tf.function outside of the loop. For (2), @tf.function has reduce_retracing=True option that can avoid unnecessary retracing. For (3), please refer to https://www.tensorflow.org/guide/function#controlling_retracing and https://www.tensorflow.org/api_docs/python/tf/function for  more details.\n",
      "WARNING:tensorflow:6 out of the last 15 calls to <function Model.make_train_function.<locals>.train_function at 0x0000029113F56C10> triggered tf.function retracing. Tracing is expensive and the excessive number of tracings could be due to (1) creating @tf.function repeatedly in a loop, (2) passing tensors with different shapes, (3) passing Python objects instead of tensors. For (1), please define your @tf.function outside of the loop. For (2), @tf.function has reduce_retracing=True option that can avoid unnecessary retracing. For (3), please refer to https://www.tensorflow.org/guide/function#controlling_retracing and https://www.tensorflow.org/api_docs/python/tf/function for  more details.\n"
     ]
    },
    {
     "name": "stderr",
     "output_type": "stream",
     "text": [
      "100%|██████████| 15/15 [27:33<00:00, 110.20s/it]  \n"
     ]
    }
   ],
   "source": [
    "import concurrent.futures\n",
    "import numpy as np\n",
    "\n",
    "latent_dims = [x * 3 for x in range(5, 20)]\n",
    "losss = []\n",
    "\n",
    "def train_and_append_loss(latent_dim):\n",
    "    mean_loss, encoder, history = train_vae(latent_dim, train_data, test_data)\n",
    "    losss.append([mean_loss, latent_dim])\n",
    "\n",
    "with concurrent.futures.ThreadPoolExecutor() as executor:\n",
    "    futures = [executor.submit(train_and_append_loss, latent_dim) for latent_dim in latent_dims]\n",
    "    for f in tqdm(concurrent.futures.as_completed(futures), total=len(latent_dims)):\n",
    "        pass"
   ]
  },
  {
   "cell_type": "code",
   "execution_count": 4,
   "id": "25462c91",
   "metadata": {},
   "outputs": [
    {
     "data": {
      "text/plain": [
       "[[0.16503725945949554, 27],\n",
       " [0.1576167181134224, 39],\n",
       " [0.16730373352766037, 30],\n",
       " [0.15401120185852052, 48],\n",
       " [0.23872399032115937, 18],\n",
       " [0.13724899739027024, 45],\n",
       " [0.1458254337310791, 33],\n",
       " [0.20190445631742476, 21],\n",
       " [0.26538967192173, 15],\n",
       " [0.1712586134672165, 54],\n",
       " [0.20173754543066025, 24],\n",
       " [0.14236289858818055, 42],\n",
       " [0.14197547733783722, 51],\n",
       " [0.14771448820829391, 57],\n",
       " [0.19143985509872435, 36]]"
      ]
     },
     "execution_count": 4,
     "metadata": {},
     "output_type": "execute_result"
    }
   ],
   "source": [
    "losss"
   ]
  },
  {
   "cell_type": "code",
   "execution_count": 5,
   "id": "900ebcc3",
   "metadata": {},
   "outputs": [
    {
     "data": {
      "text/plain": [
       "<matplotlib.collections.PathCollection at 0x29171b1b790>"
      ]
     },
     "execution_count": 5,
     "metadata": {},
     "output_type": "execute_result"
    },
    {
     "data": {
      "image/png": "[encoded data removed]",
      "text/plain": [
       "<Figure size 432x288 with 1 Axes>"
      ]
     },
     "metadata": {},
     "output_type": "display_data"
    }
   ],
   "source": [
    "import matplotlib.pyplot as plt\n",
    "plt.scatter(np.array(losss).T[1], np.array(losss).T[0])"
   ]
  },
  {
   "cell_type": "code",
   "execution_count": 33,
   "id": "58b47f09",
   "metadata": {},
   "outputs": [
    {
     "ename": "NameError",
     "evalue": "name 'train_data' is not defined",
     "output_type": "error",
     "traceback": [
      "Traceback \u001b[1;36m(most recent call last)\u001b[0m:\n",
      "\u001b[1;36m  Cell \u001b[1;32mIn[33], line 1\u001b[1;36m\n\u001b[1;33m    mean_loss, encore, history = train_vae(45, train_data, test_data)\u001b[1;36m\n",
      "\u001b[1;31mNameError\u001b[0m\u001b[1;31m:\u001b[0m name 'train_data' is not defined\n"
     ]
    }
   ],
   "source": [
    "mean_loss, encore, history = train_vae(45, train_data, test_data)"
   ]
  },
  {
   "cell_type": "code",
   "execution_count": 9,
   "id": "79aa3af3",
   "metadata": {},
   "outputs": [
    {
     "data": {
      "image/png": "[encoded data removed]",
      "text/plain": [
       "<Figure size 432x288 with 1 Axes>"
      ]
     },
     "metadata": {},
     "output_type": "display_data"
    }
   ],
   "source": [
    "import matplotlib.pyplot as plt\n",
    "# Plot the reconstruction loss\n",
    "plt.plot(history.history['loss'], label='Training loss')\n",
    "plt.plot(history.history['val_loss'], label='Validation loss')\n",
    "plt.title('Reconstruction loss')\n",
    "plt.xlabel('Epoch')\n",
    "plt.ylabel('Loss')\n",
    "plt.legend()\n",
    "plt.show()"
   ]
  },
  {
   "cell_type": "code",
   "execution_count": 10,
   "id": "dca43728",
   "metadata": {},
   "outputs": [
    {
     "name": "stdout",
     "output_type": "stream",
     "text": [
      "1097/1097 [==============================] - 3s 1ms/step\n",
      "275/275 [==============================] - 0s 1ms/step\n"
     ]
    },
    {
     "data": {
      "text/html": [
       "<div>\n",
       "<style scoped>\n",
       "    .dataframe tbody tr th:only-of-type {\n",
       "        vertical-align: middle;\n",
       "    }\n",
       "\n",
       "    .dataframe tbody tr th {\n",
       "        vertical-align: top;\n",
       "    }\n",
       "\n",
       "    .dataframe thead th {\n",
       "        text-align: right;\n",
       "    }\n",
       "</style>\n",
       "<table border=\"1\" class=\"dataframe\">\n",
       "  <thead>\n",
       "    <tr style=\"text-align: right;\">\n",
       "      <th></th>\n",
       "      <th>0</th>\n",
       "      <th>1</th>\n",
       "      <th>2</th>\n",
       "      <th>3</th>\n",
       "      <th>4</th>\n",
       "      <th>5</th>\n",
       "      <th>6</th>\n",
       "      <th>7</th>\n",
       "      <th>8</th>\n",
       "      <th>9</th>\n",
       "      <th>10</th>\n",
       "      <th>11</th>\n",
       "      <th>12</th>\n",
       "      <th>13</th>\n",
       "      <th>14</th>\n",
       "      <th>15</th>\n",
       "      <th>16</th>\n",
       "      <th>17</th>\n",
       "      <th>18</th>\n",
       "      <th>19</th>\n",
       "      <th>20</th>\n",
       "      <th>21</th>\n",
       "      <th>22</th>\n",
       "      <th>23</th>\n",
       "      <th>24</th>\n",
       "      <th>25</th>\n",
       "      <th>26</th>\n",
       "      <th>27</th>\n",
       "      <th>28</th>\n",
       "      <th>29</th>\n",
       "      <th>30</th>\n",
       "      <th>31</th>\n",
       "      <th>32</th>\n",
       "      <th>33</th>\n",
       "      <th>34</th>\n",
       "      <th>35</th>\n",
       "      <th>36</th>\n",
       "      <th>37</th>\n",
       "      <th>38</th>\n",
       "      <th>39</th>\n",
       "      <th>40</th>\n",
       "      <th>41</th>\n",
       "    </tr>\n",
       "    <tr>\n",
       "      <th>timestamp</th>\n",
       "      <th></th>\n",
       "      <th></th>\n",
       "      <th></th>\n",
       "      <th></th>\n",
       "      <th></th>\n",
       "      <th></th>\n",
       "      <th></th>\n",
       "      <th></th>\n",
       "      <th></th>\n",
       "      <th></th>\n",
       "      <th></th>\n",
       "      <th></th>\n",
       "      <th></th>\n",
       "      <th></th>\n",
       "      <th></th>\n",
       "      <th></th>\n",
       "      <th></th>\n",
       "      <th></th>\n",
       "      <th></th>\n",
       "      <th></th>\n",
       "      <th></th>\n",
       "      <th></th>\n",
       "      <th></th>\n",
       "      <th></th>\n",
       "      <th></th>\n",
       "      <th></th>\n",
       "      <th></th>\n",
       "      <th></th>\n",
       "      <th></th>\n",
       "      <th></th>\n",
       "      <th></th>\n",
       "      <th></th>\n",
       "      <th></th>\n",
       "      <th></th>\n",
       "      <th></th>\n",
       "      <th></th>\n",
       "      <th></th>\n",
       "      <th></th>\n",
       "      <th></th>\n",
       "      <th></th>\n",
       "      <th></th>\n",
       "      <th></th>\n",
       "    </tr>\n",
       "  </thead>\n",
       "  <tbody>\n",
       "    <tr>\n",
       "      <th>2023-01-30 14:00:00</th>\n",
       "      <td>-0.643941</td>\n",
       "      <td>0.641748</td>\n",
       "      <td>-1.060324</td>\n",
       "      <td>-0.770454</td>\n",
       "      <td>-0.477600</td>\n",
       "      <td>-2.138387</td>\n",
       "      <td>1.119661</td>\n",
       "      <td>-1.329886</td>\n",
       "      <td>0.507452</td>\n",
       "      <td>-0.209743</td>\n",
       "      <td>1.900491</td>\n",
       "      <td>0.038663</td>\n",
       "      <td>0.769183</td>\n",
       "      <td>-0.082229</td>\n",
       "      <td>-1.704337</td>\n",
       "      <td>1.298404</td>\n",
       "      <td>-0.066480</td>\n",
       "      <td>1.955322</td>\n",
       "      <td>0.951770</td>\n",
       "      <td>-1.847294</td>\n",
       "      <td>1.668406</td>\n",
       "      <td>1.349381</td>\n",
       "      <td>1.495830</td>\n",
       "      <td>-1.002453</td>\n",
       "      <td>0.052329</td>\n",
       "      <td>-2.680240</td>\n",
       "      <td>-0.693954</td>\n",
       "      <td>-1.452136</td>\n",
       "      <td>0.307019</td>\n",
       "      <td>0.648960</td>\n",
       "      <td>-0.427270</td>\n",
       "      <td>0.138122</td>\n",
       "      <td>0.585515</td>\n",
       "      <td>1.078094</td>\n",
       "      <td>1.209041</td>\n",
       "      <td>0.521636</td>\n",
       "      <td>-0.502390</td>\n",
       "      <td>0.460581</td>\n",
       "      <td>4.310499</td>\n",
       "      <td>0.991729</td>\n",
       "      <td>1.324838</td>\n",
       "      <td>2.476295</td>\n",
       "    </tr>\n",
       "    <tr>\n",
       "      <th>2023-01-30 15:00:00</th>\n",
       "      <td>-0.518822</td>\n",
       "      <td>1.468814</td>\n",
       "      <td>-0.658665</td>\n",
       "      <td>-0.963651</td>\n",
       "      <td>-0.160746</td>\n",
       "      <td>-1.068855</td>\n",
       "      <td>0.901276</td>\n",
       "      <td>0.498331</td>\n",
       "      <td>1.453151</td>\n",
       "      <td>0.100116</td>\n",
       "      <td>3.321106</td>\n",
       "      <td>1.618854</td>\n",
       "      <td>0.660959</td>\n",
       "      <td>-1.290088</td>\n",
       "      <td>-0.958622</td>\n",
       "      <td>0.017633</td>\n",
       "      <td>0.136782</td>\n",
       "      <td>-0.454645</td>\n",
       "      <td>0.340462</td>\n",
       "      <td>-1.251521</td>\n",
       "      <td>4.005771</td>\n",
       "      <td>1.654277</td>\n",
       "      <td>1.921175</td>\n",
       "      <td>-0.958054</td>\n",
       "      <td>0.325016</td>\n",
       "      <td>-1.667119</td>\n",
       "      <td>-1.811010</td>\n",
       "      <td>-0.947034</td>\n",
       "      <td>0.095833</td>\n",
       "      <td>0.767705</td>\n",
       "      <td>1.959687</td>\n",
       "      <td>-0.164994</td>\n",
       "      <td>0.931218</td>\n",
       "      <td>0.394322</td>\n",
       "      <td>2.558976</td>\n",
       "      <td>0.669287</td>\n",
       "      <td>2.096601</td>\n",
       "      <td>0.814983</td>\n",
       "      <td>1.549972</td>\n",
       "      <td>0.358374</td>\n",
       "      <td>1.132024</td>\n",
       "      <td>1.998578</td>\n",
       "    </tr>\n",
       "    <tr>\n",
       "      <th>2023-01-30 16:00:00</th>\n",
       "      <td>-1.321029</td>\n",
       "      <td>0.766731</td>\n",
       "      <td>-0.996818</td>\n",
       "      <td>-1.118589</td>\n",
       "      <td>-0.338572</td>\n",
       "      <td>-0.946731</td>\n",
       "      <td>1.433361</td>\n",
       "      <td>-0.564923</td>\n",
       "      <td>1.177645</td>\n",
       "      <td>-0.194345</td>\n",
       "      <td>1.874796</td>\n",
       "      <td>0.868644</td>\n",
       "      <td>0.822042</td>\n",
       "      <td>-0.661371</td>\n",
       "      <td>-0.990739</td>\n",
       "      <td>1.054078</td>\n",
       "      <td>0.032254</td>\n",
       "      <td>-0.806830</td>\n",
       "      <td>1.821303</td>\n",
       "      <td>-0.939330</td>\n",
       "      <td>3.363654</td>\n",
       "      <td>0.239684</td>\n",
       "      <td>0.683414</td>\n",
       "      <td>0.585132</td>\n",
       "      <td>-0.475032</td>\n",
       "      <td>-3.138953</td>\n",
       "      <td>-0.935506</td>\n",
       "      <td>-0.550767</td>\n",
       "      <td>-0.672283</td>\n",
       "      <td>0.666414</td>\n",
       "      <td>0.069311</td>\n",
       "      <td>-0.081616</td>\n",
       "      <td>0.375048</td>\n",
       "      <td>-0.121603</td>\n",
       "      <td>2.184786</td>\n",
       "      <td>0.751374</td>\n",
       "      <td>1.136752</td>\n",
       "      <td>-0.053948</td>\n",
       "      <td>1.724997</td>\n",
       "      <td>1.800416</td>\n",
       "      <td>1.546048</td>\n",
       "      <td>1.633325</td>\n",
       "    </tr>\n",
       "    <tr>\n",
       "      <th>2023-01-30 17:00:00</th>\n",
       "      <td>-0.676499</td>\n",
       "      <td>0.156689</td>\n",
       "      <td>-0.661361</td>\n",
       "      <td>-2.568167</td>\n",
       "      <td>0.219318</td>\n",
       "      <td>-1.124405</td>\n",
       "      <td>1.249711</td>\n",
       "      <td>-0.837662</td>\n",
       "      <td>1.467465</td>\n",
       "      <td>-0.270987</td>\n",
       "      <td>1.114976</td>\n",
       "      <td>0.981045</td>\n",
       "      <td>0.613841</td>\n",
       "      <td>-0.716863</td>\n",
       "      <td>-0.402949</td>\n",
       "      <td>0.962416</td>\n",
       "      <td>0.074027</td>\n",
       "      <td>-1.094583</td>\n",
       "      <td>2.227532</td>\n",
       "      <td>-0.229868</td>\n",
       "      <td>3.282094</td>\n",
       "      <td>0.095120</td>\n",
       "      <td>0.864903</td>\n",
       "      <td>0.328574</td>\n",
       "      <td>-1.013605</td>\n",
       "      <td>-2.529384</td>\n",
       "      <td>-0.733273</td>\n",
       "      <td>-1.244060</td>\n",
       "      <td>0.012575</td>\n",
       "      <td>0.809058</td>\n",
       "      <td>1.400822</td>\n",
       "      <td>-0.187791</td>\n",
       "      <td>0.506889</td>\n",
       "      <td>0.080106</td>\n",
       "      <td>2.371249</td>\n",
       "      <td>1.382801</td>\n",
       "      <td>1.158984</td>\n",
       "      <td>-0.375997</td>\n",
       "      <td>1.948231</td>\n",
       "      <td>0.999658</td>\n",
       "      <td>1.108078</td>\n",
       "      <td>1.172176</td>\n",
       "    </tr>\n",
       "    <tr>\n",
       "      <th>2023-01-30 18:00:00</th>\n",
       "      <td>-1.440602</td>\n",
       "      <td>0.145469</td>\n",
       "      <td>-0.798162</td>\n",
       "      <td>-2.638466</td>\n",
       "      <td>-0.157294</td>\n",
       "      <td>-0.974712</td>\n",
       "      <td>0.926384</td>\n",
       "      <td>-0.500059</td>\n",
       "      <td>1.364487</td>\n",
       "      <td>-0.991114</td>\n",
       "      <td>1.701605</td>\n",
       "      <td>1.186139</td>\n",
       "      <td>0.115126</td>\n",
       "      <td>-0.853234</td>\n",
       "      <td>-0.340170</td>\n",
       "      <td>-0.193737</td>\n",
       "      <td>0.256775</td>\n",
       "      <td>-0.716323</td>\n",
       "      <td>1.663281</td>\n",
       "      <td>0.250586</td>\n",
       "      <td>3.960152</td>\n",
       "      <td>-0.163757</td>\n",
       "      <td>1.292239</td>\n",
       "      <td>-0.508577</td>\n",
       "      <td>-1.457429</td>\n",
       "      <td>-2.387198</td>\n",
       "      <td>-1.113740</td>\n",
       "      <td>-1.260018</td>\n",
       "      <td>-0.002082</td>\n",
       "      <td>1.715412</td>\n",
       "      <td>0.921033</td>\n",
       "      <td>-1.157889</td>\n",
       "      <td>0.379475</td>\n",
       "      <td>1.671232</td>\n",
       "      <td>2.049720</td>\n",
       "      <td>1.258113</td>\n",
       "      <td>0.088528</td>\n",
       "      <td>-0.077888</td>\n",
       "      <td>1.491041</td>\n",
       "      <td>1.623197</td>\n",
       "      <td>2.040318</td>\n",
       "      <td>2.016764</td>\n",
       "    </tr>\n",
       "  </tbody>\n",
       "</table>\n",
       "</div>"
      ],
      "text/plain": [
       "                           0         1         2   ...        39        40        41\n",
       "timestamp                                          ...                              \n",
       "2023-01-30 14:00:00 -0.643941  0.641748 -1.060324  ...  0.991729  1.324838  2.476295\n",
       "2023-01-30 15:00:00 -0.518822  1.468814 -0.658665  ...  0.358374  1.132024  1.998578\n",
       "2023-01-30 16:00:00 -1.321029  0.766731 -0.996818  ...  1.800416  1.546048  1.633325\n",
       "2023-01-30 17:00:00 -0.676499  0.156689 -0.661361  ...  0.999658  1.108078  1.172176\n",
       "2023-01-30 18:00:00 -1.440602  0.145469 -0.798162  ...  1.623197  2.040318  2.016764\n",
       "\n",
       "[5 rows x 42 columns]"
      ]
     },
     "execution_count": 10,
     "metadata": {},
     "output_type": "execute_result"
    }
   ],
   "source": [
    "features_train = encore.predict(train_data)\n",
    "features_test = encore.predict(test_data)\n",
    "features = pd.concat([pd.DataFrame(features_train[0]), pd.DataFrame(features_test[0])],axis=0, ignore_index=True)\n",
    "features.index = data.index\n",
    "features.tail()"
   ]
  },
  {
   "cell_type": "code",
   "execution_count": 11,
   "id": "61f45de7",
   "metadata": {},
   "outputs": [
    {
     "data": {
      "image/png": "[encoded data removed]",
      "text/plain": [
       "<Figure size 432x288 with 1 Axes>"
      ]
     },
     "metadata": {},
     "output_type": "display_data"
    }
   ],
   "source": [
    "from sklearn.cluster import KMeans\n",
    "from sklearn.preprocessing import StandardScaler\n",
    "from sklearn.metrics import explained_variance_score\n",
    "\n",
    "scaler = StandardScaler()\n",
    "\n",
    "data_returns = data['close'].pct_change().dropna()\n",
    "returns_data_scaled = scaler.fit_transform(np.array(data_returns).reshape(-1,1))\n",
    "\n",
    "explained_variance = []\n",
    "for i in range(2, 30):\n",
    "    kmeans = KMeans(n_clusters=i, random_state=0)\n",
    "    kmeans.fit(returns_data_scaled)\n",
    "    explained_variance.append(explained_variance_score(returns_data_scaled, kmeans.predict(returns_data_scaled)))\n",
    "  \n",
    "plt.plot(range(2, 30), explained_variance, marker='o')\n",
    "plt.xlabel('Number of clusters')\n",
    "plt.ylabel('Explained variance')\n",
    "plt.show()"
   ]
  },
  {
   "cell_type": "code",
   "execution_count": 12,
   "id": "2e294430",
   "metadata": {},
   "outputs": [
    {
     "data": {
      "text/plain": [
       "timestamp\n",
       "2018-01-09 10:00:00   -0.369962\n",
       "2018-01-09 11:00:00    0.664387\n",
       "2018-01-09 12:00:00   -0.177229\n",
       "2018-01-09 13:00:00   -1.138569\n",
       "2018-01-09 14:00:00   -7.722974\n",
       "                         ...   \n",
       "2023-01-30 14:00:00    0.044436\n",
       "2023-01-30 15:00:00   -0.024950\n",
       "2023-01-30 16:00:00   -0.004717\n",
       "2023-01-30 17:00:00   -0.004281\n",
       "2023-01-30 18:00:00   -0.004093\n",
       "Name: close, Length: 43864, dtype: float64"
      ]
     },
     "execution_count": 12,
     "metadata": {},
     "output_type": "execute_result"
    }
   ],
   "source": [
    "data_returns"
   ]
  },
  {
   "cell_type": "code",
   "execution_count": 13,
   "id": "902cf2ac",
   "metadata": {},
   "outputs": [
    {
     "data": {
      "text/plain": [
       "timestamp\n",
       "2018-01-09 09:00:00    0.058192\n",
       "2018-01-09 10:00:00    0.036663\n",
       "2018-01-09 11:00:00    0.061022\n",
       "2018-01-09 12:00:00    0.050207\n",
       "2018-01-09 13:00:00   -0.006957\n",
       "                         ...   \n",
       "2023-01-30 14:00:00    0.377937\n",
       "2023-01-30 15:00:00    0.368508\n",
       "2023-01-30 16:00:00    0.366769\n",
       "2023-01-30 17:00:00    0.365199\n",
       "2023-01-30 18:00:00    0.363705\n",
       "Name: close, Length: 43865, dtype: float64"
      ]
     },
     "execution_count": 13,
     "metadata": {},
     "output_type": "execute_result"
    }
   ],
   "source": [
    "data['close']"
   ]
  },
  {
   "cell_type": "code",
   "execution_count": null,
   "id": "08e889c5",
   "metadata": {},
   "outputs": [],
   "source": [
    "polynomial + isolation cluster du au fait que je n'ai pas winsor les xcas extremes"
   ]
  },
  {
   "cell_type": "code",
   "execution_count": 73,
   "id": "3acc488c",
   "metadata": {},
   "outputs": [
    {
     "data": {
      "text/plain": [
       "0     34954\n",
       "12      437\n",
       "14      290\n",
       "18       62\n",
       "11       40\n",
       "8        21\n",
       "20       15\n",
       "6         4\n",
       "15        4\n",
       "5         3\n",
       "10        3\n",
       "4         2\n",
       "19        2\n",
       "7         1\n",
       "9         1\n",
       "1         1\n",
       "13        1\n",
       "3         1\n",
       "16        1\n",
       "17        1\n",
       "2         1\n",
       "dtype: int64"
      ]
     },
     "execution_count": 73,
     "metadata": {},
     "output_type": "execute_result"
    }
   ],
   "source": [
    "kmeans = KMeans(n_clusters=21, random_state=0)\n",
    "clusters = kmeans.fit_predict(returns_data_scaled)\n",
    "pd.DataFrame(clusters).value_counts()"
   ]
  },
  {
   "cell_type": "code",
   "execution_count": 61,
   "id": "e891b2e3",
   "metadata": {},
   "outputs": [
    {
     "data": {
      "image/png": "[encoded data removed]",
      "text/plain": [
       "<Figure size 432x288 with 1 Axes>"
      ]
     },
     "metadata": {},
     "output_type": "display_data"
    }
   ],
   "source": [
    "class_ret_df = pd.concat([data_returns,pd.DataFrame(clusters, index=data_returns.index, columns=['class'])],axis=1)\n",
    "class_ret_df['prix'] = data['close'][data.index.isin(class_ret_df.index)]\n",
    "\n",
    "for i in range(8):\n",
    "    print(class_ret_df['close'][class_ret_df['class']==i].mean()*100)\n",
    "    \n",
    "class_ret_df['close'][class_ret_df['class']==7].hist(bins=50);"
   ]
  },
  {
   "cell_type": "code",
   "execution_count": 86,
   "id": "e32f1d62",
   "metadata": {},
   "outputs": [],
   "source": [
    "new_features = features.iloc[1:,:]\n",
    "new_features[\"class\"] = clusters"
   ]
  },
  {
   "cell_type": "code",
   "execution_count": 102,
   "id": "bdfb04ac",
   "metadata": {},
   "outputs": [],
   "source": [
    "from lightgbm import LGBMClassifier\n",
    "from sklearn.model_selection import train_test_split\n",
    "\n",
    "X_train, X_test, y_train, y_test = train_test_split(new_features.iloc[:,:1], new_features[\"class\"], test_size = 0.2)\n",
    "\n",
    "scaler = StandardScaler()\n",
    "lgbm = LGBMClassifier(class_weight='balanced')\n",
    "\n",
    "train_scaledd = scaler.fit_transform(X_train)\n",
    "test_scaledd = scaler.transform(X_test)\n",
    "\n",
    "lgbm.fit(train_scaledd, y_train)\n",
    "\n",
    "predictions = lgbm.predict(test_scaledd)\n",
    "predictions = pd.DataFrame(predictions)"
   ]
  },
  {
   "cell_type": "code",
   "execution_count": 103,
   "id": "b1c96cf8",
   "metadata": {},
   "outputs": [
    {
     "name": "stdout",
     "output_type": "stream",
     "text": [
      "accuracy_score on test dataset : 0.23824801227507322\n",
      "              precision    recall  f1-score   support\n",
      "\n",
      "           0       0.24      0.99      0.39      1702\n",
      "           1       0.00      0.00      0.00        31\n",
      "           2       0.00      0.00      0.00        25\n",
      "           3       0.00      0.00      0.00        23\n",
      "           4       0.00      0.00      0.00        39\n",
      "           5       0.00      0.00      0.00        24\n",
      "           6       0.00      0.00      0.00       110\n",
      "           7       0.00      0.00      0.00        39\n",
      "           8       0.00      0.00      0.00       388\n",
      "           9       0.00      0.00      0.00        27\n",
      "          10       0.00      0.00      0.00        47\n",
      "          11       0.00      0.00      0.00       481\n",
      "          12       0.19      0.01      0.03      1114\n",
      "          13       0.00      0.00      0.00         0\n",
      "          14       0.25      0.01      0.02      1809\n",
      "          15       0.00      0.00      0.00        91\n",
      "          16       0.00      0.00      0.00        25\n",
      "          17       0.00      0.00      0.00         0\n",
      "          18       0.08      0.00      0.00       899\n",
      "          19       0.00      0.00      0.00        46\n",
      "          20       0.00      0.00      0.00       249\n",
      "\n",
      "    accuracy                           0.24      7169\n",
      "   macro avg       0.04      0.05      0.02      7169\n",
      "weighted avg       0.16      0.24      0.10      7169\n",
      "\n"
     ]
    },
    {
     "data": {
      "text/plain": [
       "<AxesSubplot: >"
      ]
     },
     "execution_count": 103,
     "metadata": {},
     "output_type": "execute_result"
    },
    {
     "data": {
      "image/png": "[encoded data removed]",
      "text/plain": [
       "<Figure size 432x288 with 1 Axes>"
      ]
     },
     "metadata": {},
     "output_type": "display_data"
    }
   ],
   "source": [
    "from sklearn.metrics import accuracy_score, classification_report, confusion_matrix\n",
    "import seaborn as sns\n",
    "accuracy_test = accuracy_score(y_test, predictions)\n",
    "print('accuracy_score on test dataset :', accuracy_test)\n",
    "print(classification_report(predictions, y_test))\n",
    "sns.set()\n",
    "mat=confusion_matrix(y_test, predictions)\n",
    "sns.heatmap(mat.T, square=True, annot=True, fmt='d', cbar=False)"
   ]
  },
  {
   "cell_type": "code",
   "execution_count": null,
   "id": "bbe18ea7",
   "metadata": {},
   "outputs": [],
   "source": []
  },
  {
   "cell_type": "code",
   "execution_count": 93,
   "id": "8027caf8",
   "metadata": {},
   "outputs": [
    {
     "data": {
      "text/plain": [
       "0     6095\n",
       "12     281\n",
       "18     205\n",
       "11     200\n",
       "17     142\n",
       "19     113\n",
       "1       43\n",
       "5       35\n",
       "20      28\n",
       "15      27\n",
       "dtype: int64"
      ]
     },
     "execution_count": 93,
     "metadata": {},
     "output_type": "execute_result"
    }
   ],
   "source": [
    "predictions.value_counts()"
   ]
  },
  {
   "cell_type": "code",
   "execution_count": 23,
   "id": "d94043ff",
   "metadata": {},
   "outputs": [
    {
     "name": "stderr",
     "output_type": "stream",
     "text": [
      "Feature Extraction: 100%|██████████| 30/30 [00:13<00:00,  2.24it/s]\n"
     ]
    }
   ],
   "source": [
    "close_features = extract_features(test[[\"index\", \"Close\"]], column_id='index')"
   ]
  },
  {
   "cell_type": "code",
   "execution_count": 49,
   "id": "898e3b8b",
   "metadata": {},
   "outputs": [],
   "source": [
    "indexed_data = data.copy()\n",
    "indexed_data['id'] = pd.Series(range(len(indexed_data)), index=data.index)"
   ]
  },
  {
   "cell_type": "code",
   "execution_count": 50,
   "id": "6a9f9295",
   "metadata": {},
   "outputs": [],
   "source": [
    "indexed_data = indexed_data.reset_index().iloc[:,1:].reset_index()"
   ]
  },
  {
   "cell_type": "code",
   "execution_count": 75,
   "id": "0244332d",
   "metadata": {},
   "outputs": [],
   "source": [
    "close_relevant_features = select_features(nanless_close_features.reset_index().iloc[1:,1:], indexed_data['Close'].diff().iloc[1:])"
   ]
  },
  {
   "cell_type": "code",
   "execution_count": 67,
   "id": "c6cb3846",
   "metadata": {},
   "outputs": [],
   "source": [
    "nanless_close_features = close_features.T.dropna().T.copy()\n",
    "\n",
    "#au lieu de faire le dropna() faire du back fill et drop ceux avec trop de d onnées manquantes"
   ]
  },
  {
   "cell_type": "code",
   "execution_count": null,
   "id": "784507ac",
   "metadata": {},
   "outputs": [],
   "source": [
    "https://www.kaggle.com/code/patrickurbanke/feature-engineering-for-time-series"
   ]
  },
  {
   "cell_type": "code",
   "execution_count": null,
   "id": "7b27b1c9",
   "metadata": {},
   "outputs": [],
   "source": [
    "polynomial elbow + kmeans test train\n",
    "#differencier 1, 2, 3 fois\n",
    "#n x n features"
   ]
  }
 ],
 "metadata": {
  "kernelspec": {
   "display_name": "Python 3 (Spyder)",
   "language": "python3",
   "name": "python3"
  },
  "language_info": {
   "codemirror_mode": {
    "name": "ipython",
    "version": 3
   },
   "file_extension": ".py",
   "mimetype": "text/x-python",
   "name": "python",
   "nbconvert_exporter": "python",
   "pygments_lexer": "ipython3",
   "version": "3.9.13"
  }
 },
 "nbformat": 4,
 "nbformat_minor": 5
}
