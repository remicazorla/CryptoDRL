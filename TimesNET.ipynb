{
 "cells": [
  {
   "cell_type": "code",
   "execution_count": 2,
   "id": "a2731a10",
   "metadata": {},
   "outputs": [],
   "source": [
    "import torch\n",
    "import pandas as pd\n",
    "import numpy as np\n",
    "from TimesNET import Model\n",
    "\n",
    "### feature engineering ### \n",
    "\n",
    "from tsfracdiff import FractionalDifferentiator\n",
    "import sys\n",
    "sys.path.append('..')\n",
    "from lib.download import *\n",
    "data = get_data_features('COSUSDT').dropna()\n",
    "data = data.loc[:, data.nunique() != 1]\n",
    "\n",
    "#close j+1 est la target\n",
    "target_aligned = data[['close']].copy().shift(-1).iloc[:-1]\n",
    "data_aligned = data.iloc[1:-1,:4]\n",
    "data_aligned[\"target\"] = target_aligned"
   ]
  },
  {
   "cell_type": "code",
   "execution_count": 3,
   "id": "b3fcb191",
   "metadata": {},
   "outputs": [],
   "source": [
    "aa = get_pair_tickers()"
   ]
  },
  {
   "cell_type": "code",
   "execution_count": 4,
   "id": "35f3058a",
   "metadata": {},
   "outputs": [],
   "source": [
    "import torch.nn as nn\n",
    "from torch import optim\n",
    "class cfg:\n",
    "    def __init__(self):\n",
    "        self.seq_len = 8 #longueur de la sequence 24*30*6\n",
    "        self.pred_len = 1 #nombre detapes a pred, essayer 24\n",
    "        self.label_len = self.pred_len\n",
    "        self.d_model = 16 #dimension des deep features\n",
    "        self.d_ff = 16 #dimension de skernels de l(inception)\n",
    "        self.enc_in = len(data_aligned.columns) #nombre de features\n",
    "        self.c_out = 1 # nombre de sorties (peut potentiellement predire plusieurs variables a la suite)\n",
    "        self.e_layers = 2 #nombre de timesBlock a potentiellement augmenter avec le nombre de features\n",
    "        self.embed = 'timeF' #type d'embed par défaut (sorte de time2vec series temporelles)\n",
    "        self.freq = 'h' #frequence des données\n",
    "        self.dropout = 0.1 #dropout pr l'embedding\n",
    "        self.top_k = 2 #ombre de frequences a prendre en compte\n",
    "        self.num_kernels = 6 #comme dans le modele inceptionv1\n",
    "        self.learning_rate = 0.001\n",
    "        self.batch_size = 16\n",
    "        self.features = ['close','open']\n",
    "        self.target = 'target'\n",
    "        self.checkpoints = 'test'\n",
    "        self.patience = 3\n",
    "        self.loss = 'MSE'\n",
    "        self.train_epochs = 20 #12\n",
    "        self.lradj = 'type2'\n",
    "        self.fracdiff = 'on'\n",
    "        self.minus_n_features = 150"
   ]
  },
  {
   "cell_type": "code",
   "execution_count": 5,
   "id": "324e5adc",
   "metadata": {},
   "outputs": [
    {
     "ename": "SyntaxError",
     "evalue": "invalid syntax (3662273608.py, line 1)",
     "output_type": "error",
     "traceback": [
      "\u001b[1;36m  Cell \u001b[1;32mIn[5], line 1\u001b[1;36m\u001b[0m\n\u001b[1;33m    entrainé avec num_kernels = 3 ....\u001b[0m\n\u001b[1;37m             ^\u001b[0m\n\u001b[1;31mSyntaxError\u001b[0m\u001b[1;31m:\u001b[0m invalid syntax\n"
     ]
    }
   ],
   "source": [
    "entrainé avec num_kernels = 3 ...."
   ]
  },
  {
   "cell_type": "code",
   "execution_count": null,
   "id": "5c53325e",
   "metadata": {},
   "outputs": [],
   "source": [
    "from torch.utils.data import Dataset\n",
    "from sklearn.preprocessing import StandardScaler\n",
    "from timefeatures import time_features\n",
    "\n",
    "#changer timeenc pr voir\n",
    "class CryptoLoader(Dataset):\n",
    "    def __init__(self, df, flag='train', features=['close','open'], target='target', timeenc=0, freq='h', fracdiff='on', minus_n_features = 150):\n",
    "        self.df = df.reset_index() # pour mettre le timestamp dans une nouvelle column          \n",
    "        self.features = features\n",
    "        self.target = target\n",
    "        self.timeenc = timeenc\n",
    "        self.config = cfg()\n",
    "        self.freq = freq\n",
    "        assert flag in ['train', 'test', 'val']\n",
    "        type_map = {'train': 0, 'val': 1, 'test': 2}\n",
    "        self.set_type = type_map[flag]\n",
    "        self.__read_data__()\n",
    "        \n",
    "    def __read_data__(self):\n",
    "        #filtre variables\n",
    "        self.scaler = StandardScaler()\n",
    "        df_raw = self.df.copy()\n",
    "        cols = list(df_raw.columns)\n",
    "        cols.remove(self.target)\n",
    "        cols.remove('timestamp')\n",
    "        \n",
    "        df_raw = df_raw[['timestamp'] + cols + [self.target]]\n",
    "        #calcul des ind sup et inf en fonction de : train, test, val\n",
    "        \n",
    "        num_train = int(len(df_raw) * 0.7)\n",
    "        num_test = int(len(df_raw) * 0.2)\n",
    "        num_vali = len(df_raw) - num_train - num_test\n",
    "        border1s = [0, num_train - self.config.seq_len, len(df_raw) - num_test - self.config.seq_len]\n",
    "        border2s = [num_train, num_train + num_vali, len(df_raw)]\n",
    "        border1 = border1s[self.set_type]\n",
    "        border2 = border2s[self.set_type]\n",
    "        \n",
    "        #pred MS => MM avec du -1\n",
    "        cols_data = df_raw.columns[1:]\n",
    "        df_data = df_raw[cols_data]\n",
    "        \n",
    "        #scale sur les données train pour eviter le feed forward bias\n",
    "        train_data = df_data[border1s[0]:border2s[0]]\n",
    "        self.scaler.fit(train_data.values)\n",
    "        dataa = self.scaler.transform(df_data.values)\n",
    "        #pas besoin de scale les features \n",
    "        \n",
    "        #encodage des données temporelles\n",
    "        df_stamp = df_raw[['timestamp']][border1:border2]\n",
    "        df_stamp['timestamp'] = pd.to_datetime(df_stamp.timestamp)\n",
    "        if self.timeenc == 0:\n",
    "            df_stamp['month'] = df_stamp.timestamp.apply(lambda row: row.month, 1)\n",
    "            df_stamp['day'] = df_stamp.timestamp.apply(lambda row: row.day, 1)\n",
    "            df_stamp['weekday'] = df_stamp.timestamp.apply(lambda row: row.weekday(), 1)\n",
    "            df_stamp['hour'] = df_stamp.timestamp.apply(lambda row: row.hour, 1)\n",
    "            data_stamp = df_stamp.drop(['timestamp'], 1).values\n",
    "        elif self.timeenc == 1:\n",
    "            data_stamp = time_features(pd.to_datetime(df_stamp['timestamp'].values), freq=self.freq)\n",
    "            data_stamp = data_stamp.transpose(1, 0)\n",
    "        self.data_x = dataa[border1:border2]\n",
    "        self.data_y = dataa[border1:border2]\n",
    "        self.data_stamp = data_stamp\n",
    "        \n",
    "        \n",
    "    def __getitem__(self, index):\n",
    "        s_begin = index\n",
    "        s_end = s_begin + self.config.seq_len\n",
    "        r_begin = s_end - self.config.label_len\n",
    "        r_end = r_begin + self.config.label_len + self.config.pred_len\n",
    "        seq_x = self.data_x[s_begin:s_end]\n",
    "        seq_y = self.data_y[r_begin:r_end]\n",
    "        seq_x_mark = self.data_stamp[s_begin:s_end]\n",
    "        seq_y_mark = self.data_stamp[r_begin:r_end]\n",
    "        return seq_x, seq_y, seq_x_mark, seq_y_mark\n",
    "        \n",
    "    def __len__(self):\n",
    "        return len(self.data_x) - self.config.seq_len - self.config.pred_len + 1\n",
    "\n",
    "    def inverse_transform(self, data):\n",
    "        return self.scaler.inverse_transform(data)"
   ]
  },
  {
   "cell_type": "code",
   "execution_count": null,
   "id": "c9a1f557",
   "metadata": {},
   "outputs": [],
   "source": [
    "from torch.utils.data import DataLoader\n",
    "\n",
    "def data_provider(df, args, flag):\n",
    "    timeenc = 0 if args.embed != 'timeF' else 1\n",
    "    shuffle_flag = True if flag != 'test' else False\n",
    "    drop_last = True\n",
    "\n",
    "    if flag == 'test':\n",
    "        drop_last = False\n",
    "        batch_size = 1  # bsz=1 for evaluation\n",
    "    else:\n",
    "        batch_size = args.batch_size  # bsz for train and valid\n",
    "    \n",
    "    data_set = CryptoLoader(\n",
    "        df=df,\n",
    "        flag=flag,\n",
    "        features=args.features,\n",
    "        target=args.target,\n",
    "        timeenc=timeenc,\n",
    "    )\n",
    "\n",
    "    data_loader = DataLoader(\n",
    "        data_set,\n",
    "        batch_size=batch_size,\n",
    "        shuffle=shuffle_flag,\n",
    "        drop_last=drop_last\n",
    "    )\n",
    "    return data_set, data_loader"
   ]
  },
  {
   "cell_type": "code",
   "execution_count": 6,
   "id": "3c976ecb",
   "metadata": {},
   "outputs": [],
   "source": [
    "import torch as t\n",
    "class smape_loss(nn.Module):\n",
    "    def __init__(self):\n",
    "        super(smape_loss, self).__init__()\n",
    "\n",
    "    def forward(self, insample: t.Tensor, freq: int,\n",
    "                forecast: t.Tensor, target: t.Tensor, mask: t.Tensor) -> t.float:\n",
    "        return 200 * t.mean(divide_no_nan(t.abs(forecast - target),\n",
    "                                          t.abs(forecast.data) + t.abs(target.data)) * mask)\n",
    "def adjust_learning_rate(optimizer, epoch, args):\n",
    "    # lr = args.learning_rate * (0.2 ** (epoch // 2))\n",
    "    if args.lradj == 'type1':\n",
    "        lr_adjust = {epoch: args.learning_rate * (0.5 ** ((epoch - 1) // 1))}\n",
    "    elif args.lradj == 'type2':\n",
    "        lr_adjust = {\n",
    "            15: 1e-5,\n",
    "        }\n",
    "    if epoch in lr_adjust.keys():\n",
    "        lr = lr_adjust[epoch]\n",
    "        for param_group in optimizer.param_groups:\n",
    "            param_group['lr'] = lr\n",
    "        print('Updating learning rate to {}'.format(lr))\n",
    "        \n",
    "def divide_no_nan(a, b):\n",
    "    result = a / b\n",
    "    result[result != result] = .0\n",
    "    result[result == np.inf] = .0\n",
    "    return result\n",
    "        \n",
    "def visual(true, preds=None, name='./pic/test.pdf'):\n",
    "    plt.figure()\n",
    "    plt.plot(true, label='GroundTruth', linewidth=2)\n",
    "    if preds is not None:\n",
    "        plt.plot(preds, label='Prediction', linewidth=2)\n",
    "    plt.legend()\n",
    "    plt.savefig(name, bbox_inches='tight')\n",
    "        \n",
    "class EarlyStopping:\n",
    "    def __init__(self, patience=7, verbose=False, delta=0):\n",
    "        self.patience = patience\n",
    "        self.verbose = verbose\n",
    "        self.counter = 0\n",
    "        self.best_score = None\n",
    "        self.early_stop = False\n",
    "        self.val_loss_min = np.Inf\n",
    "        self.delta = delta\n",
    "\n",
    "    def __call__(self, val_loss, model, path):\n",
    "        score = -val_loss\n",
    "        if self.best_score is None:\n",
    "            self.best_score = score\n",
    "            self.save_checkpoint(val_loss, model, path)\n",
    "        elif score < self.best_score + self.delta:\n",
    "            self.counter += 1\n",
    "            print(f'EarlyStopping counter: {self.counter} out of {self.patience}')\n",
    "            if self.counter >= self.patience:\n",
    "                self.early_stop = True\n",
    "        else:\n",
    "            self.best_score = score\n",
    "            self.save_checkpoint(val_loss, model, path)\n",
    "            self.counter = 0\n",
    "\n",
    "    def save_checkpoint(self, val_loss, model, path):\n",
    "        if self.verbose:\n",
    "            print(f'Validation loss decreased ({self.val_loss_min:.6f} --> {val_loss:.6f}).  Saving model ...')\n",
    "        torch.save(model.state_dict(), path + '/' + 'checkpoint.pth')\n",
    "        self.val_loss_min = val_loss\n"
   ]
  },
  {
   "cell_type": "code",
   "execution_count": 7,
   "id": "d49e8dd0",
   "metadata": {},
   "outputs": [],
   "source": [
    "class Crypto_Pred_Exp:\n",
    "    def __init__(self, df, args):\n",
    "        self.args = cfg()\n",
    "        self.df = df\n",
    "        self.device = torch.device('cuda')\n",
    "        self.frequency_map = 24\n",
    "        self.model = self._build_model()\n",
    "        \n",
    "    def _build_model(self):\n",
    "        model = Model(self.args).to(self.device)  \n",
    "        return model.float()\n",
    "    \n",
    "    def _get_data(self, flag):\n",
    "        data_set, data_loader = data_provider(self.df,self.args, flag)\n",
    "        return data_set, data_loader\n",
    "    \n",
    "    def _select_optimizer(self):\n",
    "        model_optim = optim.Adam(self.model.parameters(), lr=self.args.learning_rate)\n",
    "        return model_optim\n",
    "    \n",
    "    def _select_criterion(self, loss_name):\n",
    "        if loss_name == 'MSE':\n",
    "            return nn.MSELoss()\n",
    "        elif loss_name == 'SMAPE':\n",
    "            return smape_loss()\n",
    "        \n",
    "    def vali(self, vali_data, vali_loader, criterion):\n",
    "        total_loss = []\n",
    "        self.model.eval()\n",
    "        with torch.no_grad():\n",
    "            for i, (batch_x, batch_y, batch_x_mark, batch_y_mark) in enumerate(vali_loader):\n",
    "                batch_x = batch_x.float().to(self.device)\n",
    "                batch_y = batch_y.float()\n",
    "\n",
    "                batch_x_mark = batch_x_mark.float().to(self.device)\n",
    "                batch_y_mark = batch_y_mark.float().to(self.device)\n",
    "\n",
    "                # decoder input\n",
    "                dec_inp = torch.zeros_like(batch_y[:, -self.args.pred_len:, :]).float()\n",
    "                dec_inp = torch.cat([batch_y[:, :self.args.label_len, :], dec_inp], dim=1).float().to(self.device)\n",
    "                \n",
    "                # encoder - decoder\n",
    "                outputs = self.model(batch_x, batch_x_mark, dec_inp, batch_y_mark)\n",
    "\n",
    "                f_dim = -1\n",
    "                outputs = outputs[:, -self.args.pred_len:, f_dim:]\n",
    "                batch_y = batch_y[:, -self.args.pred_len:, f_dim:].to(self.device)\n",
    "\n",
    "                pred = outputs.detach().cpu()\n",
    "                true = batch_y.detach().cpu()\n",
    "\n",
    "                loss = criterion(pred, true)\n",
    "\n",
    "                total_loss.append(loss)\n",
    "        total_loss = np.average(total_loss)\n",
    "        self.model.train()\n",
    "        return total_loss\n",
    "\n",
    "    def train(self, setting):\n",
    "        train_data, train_loader = self._get_data(flag='train')\n",
    "        vali_data, vali_loader = self._get_data(flag='val')\n",
    "        test_data, test_loader = self._get_data(flag='test')\n",
    "\n",
    "        path = os.path.join(self.args.checkpoints, setting)\n",
    "        if not os.path.exists(path):\n",
    "            os.makedirs(path)\n",
    "\n",
    "        time_now = time.time()\n",
    "\n",
    "        train_steps = len(train_loader)\n",
    "        early_stopping = EarlyStopping(patience=self.args.patience, verbose=True)\n",
    "\n",
    "        model_optim = self._select_optimizer()\n",
    "        criterion = self._select_criterion(self.args.loss)\n",
    "\n",
    "        for epoch in range(self.args.train_epochs):\n",
    "            iter_count = 0\n",
    "            train_loss = []\n",
    "\n",
    "            self.model.train()\n",
    "            epoch_time = time.time()\n",
    "            for i, (batch_x, batch_y, batch_x_mark, batch_y_mark) in enumerate(train_loader):\n",
    "                iter_count += 1\n",
    "                model_optim.zero_grad()\n",
    "                batch_x = batch_x.float().to(self.device)\n",
    "\n",
    "                batch_y = batch_y.float().to(self.device)\n",
    "                batch_x_mark = batch_x_mark.float().to(self.device)\n",
    "                batch_y_mark = batch_y_mark.float().to(self.device)\n",
    "\n",
    "                # decoder input\n",
    "                dec_inp = torch.zeros_like(batch_y[:, -self.args.pred_len:, :]).float()\n",
    "                dec_inp = torch.cat([batch_y[:, :self.args.label_len, :], dec_inp], dim=1).float().to(self.device)\n",
    "\n",
    "                # encoder - decoder\n",
    "                outputs = self.model(batch_x, batch_x_mark, dec_inp, batch_y_mark)\n",
    "                f_dim = -1\n",
    "                outputs = outputs[:, -self.args.pred_len:, f_dim:]\n",
    "                batch_y = batch_y[:, -self.args.pred_len:, f_dim:].to(self.device)\n",
    "                loss = criterion(outputs, batch_y)\n",
    "                train_loss.append(loss.item())\n",
    "\n",
    "                if (i + 1) % 100 == 0:\n",
    "                    print(\"\\titers: {0}, epoch: {1} | loss: {2:.7f}\".format(i + 1, epoch + 1, loss.item()))\n",
    "                    speed = (time.time() - time_now) / iter_count\n",
    "                    left_time = speed * ((self.args.train_epochs - epoch) * train_steps - i)\n",
    "                    print('\\tspeed: {:.4f}s/iter; left time: {:.4f}s'.format(speed, left_time))\n",
    "                    iter_count = 0\n",
    "                    time_now = time.time()\n",
    "                    loss.backward()\n",
    "                    model_optim.step()\n",
    "\n",
    "            print(\"Epoch: {} cost time: {}\".format(epoch + 1, time.time() - epoch_time))\n",
    "            train_loss = np.average(train_loss)\n",
    "            vali_loss = self.vali(vali_data, vali_loader, criterion)\n",
    "            test_loss = self.vali(test_data, test_loader, criterion)\n",
    "\n",
    "            print(\"Epoch: {0}, Steps: {1} | Train Loss: {2:.7f} Vali Loss: {3:.7f} Test Loss: {4:.7f}\".format(\n",
    "                epoch + 1, train_steps, train_loss, vali_loss, test_loss))\n",
    "            early_stopping(vali_loss, self.model, path)\n",
    "            if early_stopping.early_stop:\n",
    "                print(\"Early stopping\")\n",
    "                break\n",
    "\n",
    "            adjust_learning_rate(model_optim, epoch + 1, self.args)\n",
    "\n",
    "        best_model_path = path + '/' + 'checkpoint.pth'\n",
    "        self.model.load_state_dict(torch.load(best_model_path))\n",
    "\n",
    "        return self.model\n",
    "\n",
    "    def test(self, setting, test=0):\n",
    "        test_data, test_loader = self._get_data(flag='test')\n",
    "        if test:\n",
    "            print('loading model')\n",
    "            self.model.load_state_dict(torch.load(os.path.join('./checkpoints/' + setting, 'checkpoint.pth')))\n",
    "\n",
    "        preds = []\n",
    "        trues = []\n",
    "        folder_path = './test_results/' + setting + '/'\n",
    "        if not os.path.exists(folder_path):\n",
    "            os.makedirs(folder_path)\n",
    "\n",
    "        self.model.eval()\n",
    "        with torch.no_grad():\n",
    "            for i, (batch_x, batch_y, batch_x_mark, batch_y_mark) in enumerate(test_loader):\n",
    "                batch_x = batch_x.float().to(self.device)\n",
    "                batch_y = batch_y.float().to(self.device)\n",
    "\n",
    "                batch_x_mark = batch_x_mark.float().to(self.device)\n",
    "                batch_y_mark = batch_y_mark.float().to(self.device)\n",
    "\n",
    "                # decoder input\n",
    "                dec_inp = torch.zeros_like(batch_y[:, -self.args.pred_len:, :]).float()\n",
    "                dec_inp = torch.cat([batch_y[:, :self.args.label_len, :], dec_inp], dim=1).float().to(self.device)\n",
    "                # encoder - decoder\n",
    "                outputs = self.model(batch_x, batch_x_mark, dec_inp, batch_y_mark)\n",
    "\n",
    "                f_dim = -1\n",
    "                outputs = outputs[:, -self.args.pred_len:, f_dim:]\n",
    "                batch_y = batch_y[:, -self.args.pred_len:, f_dim:].to(self.device)\n",
    "                outputs = outputs.detach().cpu().numpy()\n",
    "                batch_y = batch_y.detach().cpu().numpy()\n",
    "\n",
    "                pred = outputs\n",
    "                true = batch_y\n",
    "\n",
    "                preds.append(pred)\n",
    "                trues.append(true)\n",
    "                if i % 20 == 0:\n",
    "                    input = batch_x.detach().cpu().numpy()\n",
    "                    gt = np.concatenate((input[0, -100:, -1], true[0, -100:, -1]), axis=0)\n",
    "                    pd = np.concatenate((input[0, -100:, -1], pred[0, -100:, -1]), axis=0)\n",
    "                    visual(gt, pd, os.path.join(folder_path, str(i) + '.pdf'))\n",
    "\n",
    "        preds = np.array(preds)\n",
    "        trues = np.array(trues)\n",
    "        print('test shape:', preds.shape, trues.shape)\n",
    "        preds = preds.reshape(-1, preds.shape[-2], preds.shape[-1])\n",
    "        trues = trues.reshape(-1, trues.shape[-2], trues.shape[-1])\n",
    "        print('test shape:', preds.shape, trues.shape)\n",
    "\n",
    "        # result save\n",
    "        folder_path = './results/' + setting + '/'\n",
    "        if not os.path.exists(folder_path):\n",
    "            os.makedirs(folder_path)\n",
    "\n",
    "        mae, mse, rmse, mape, mspe = metric(preds, trues)\n",
    "        print('mse:{}, mae:{}'.format(mse, mae))\n",
    "        f = open(\"result_long_term_forecast.txt\", 'a')\n",
    "        f.write(setting + \"  \\n\")\n",
    "        f.write('mse:{}, mae:{}'.format(mse, mae))\n",
    "        f.write('\\n')\n",
    "        f.write('\\n')\n",
    "        f.close()\n",
    "\n",
    "        np.save(folder_path + 'metrics.npy', np.array([mae, mse, rmse, mape, mspe]))\n",
    "        np.save(folder_path + 'pred.npy', preds)\n",
    "        np.save(folder_path + 'true.npy', trues)\n",
    "\n",
    "        return"
   ]
  },
  {
   "cell_type": "code",
   "execution_count": 8,
   "id": "1df754a4",
   "metadata": {},
   "outputs": [],
   "source": [
    "import matplotlib.pyplot as plt\n",
    "\n",
    "def RSE(pred, true):\n",
    "    return np.sqrt(np.sum((true - pred) ** 2)) / np.sqrt(np.sum((true - true.mean()) ** 2))\n",
    "\n",
    "\n",
    "def CORR(pred, true):\n",
    "    u = ((true - true.mean(0)) * (pred - pred.mean(0))).sum(0)\n",
    "    d = np.sqrt(((true - true.mean(0)) ** 2 * (pred - pred.mean(0)) ** 2).sum(0))\n",
    "    return (u / d).mean(-1)\n",
    "\n",
    "\n",
    "def MAE(pred, true):\n",
    "    return np.mean(np.abs(pred - true))\n",
    "\n",
    "\n",
    "def MSE(pred, true):\n",
    "    return np.mean((pred - true) ** 2)\n",
    "\n",
    "\n",
    "def RMSE(pred, true):\n",
    "    return np.sqrt(MSE(pred, true))\n",
    "\n",
    "\n",
    "def MAPE(pred, true):\n",
    "    return np.mean(np.abs((pred - true) / true))\n",
    "\n",
    "\n",
    "def MSPE(pred, true):\n",
    "    return np.mean(np.square((pred - true) / true))\n",
    "\n",
    "\n",
    "def metric(pred, true):\n",
    "    mae = MAE(pred, true)\n",
    "    mse = MSE(pred, true)\n",
    "    rmse = RMSE(pred, true)\n",
    "    mape = MAPE(pred, true)\n",
    "    mspe = MSPE(pred, true)\n",
    "    return mae, mse, rmse, mape, mspe"
   ]
  },
  {
   "cell_type": "code",
   "execution_count": 10,
   "id": "98a134ef",
   "metadata": {},
   "outputs": [],
   "source": [
    "config = cfg()"
   ]
  },
  {
   "cell_type": "code",
   "execution_count": 11,
   "id": "871f41f5",
   "metadata": {},
   "outputs": [
    {
     "name": "stderr",
     "output_type": "stream",
     "text": [
      "  1%|          | 3/256 [00:08<15:33,  3.69s/it]"
     ]
    },
    {
     "name": "stdout",
     "output_type": "stream",
     "text": [
      "Crypto Morte Date dépassée LTCUPUSDT derniere date : 2022-01-27 02:00:00 taille : (11925, 11)\n",
      "Probleme Indicator\n",
      "ERROR LTCUPUSDT ouverture fichier feature\n"
     ]
    },
    {
     "name": "stderr",
     "output_type": "stream",
     "text": [
      "  2%|▏         | 4/256 [00:15<21:26,  5.11s/it]"
     ]
    },
    {
     "name": "stdout",
     "output_type": "stream",
     "text": [
      "Crypto Morte Date dépassée LTCDOWNUSDT derniere date : 2022-01-27 02:00:00 taille : (11901, 11)\n",
      "Probleme Indicator\n",
      "ERROR LTCDOWNUSDT ouverture fichier feature\n"
     ]
    },
    {
     "name": "stderr",
     "output_type": "stream",
     "text": [
      "  3%|▎         | 7/256 [00:27<17:23,  4.19s/it]"
     ]
    },
    {
     "name": "stdout",
     "output_type": "stream",
     "text": [
      "Crypto Morte Date dépassée NBSUSDT derniere date : 2022-10-24 08:00:00 taille : (18292, 11)\n",
      "Probleme Indicator\n",
      "ERROR NBSUSDT ouverture fichier feature\n"
     ]
    },
    {
     "name": "stderr",
     "output_type": "stream",
     "text": [
      "  4%|▍         | 11/256 [00:38<13:21,  3.27s/it]"
     ]
    },
    {
     "name": "stdout",
     "output_type": "stream",
     "text": [
      "Crypto Morte Date dépassée HNTUSDT derniere date : 2022-10-14 02:00:00 taille : (17975, 11)\n",
      "Probleme Indicator\n",
      "ERROR HNTUSDT ouverture fichier feature\n"
     ]
    },
    {
     "name": "stderr",
     "output_type": "stream",
     "text": [
      "  5%|▍         | 12/256 [00:44<16:29,  4.05s/it]"
     ]
    },
    {
     "name": "stdout",
     "output_type": "stream",
     "text": [
      "Crypto Morte Date dépassée UNIUPUSDT derniere date : 2021-12-23 02:00:00 taille : (10749, 11)\n",
      "Probleme Indicator\n",
      "ERROR UNIUPUSDT ouverture fichier feature\n"
     ]
    },
    {
     "name": "stderr",
     "output_type": "stream",
     "text": [
      "  5%|▌         | 14/256 [00:50<13:10,  3.27s/it]"
     ]
    },
    {
     "name": "stdout",
     "output_type": "stream",
     "text": [
      "Crypto Morte Date dépassée UNIDOWNUSDT derniere date : 2021-12-23 02:00:00 taille : (10725, 11)\n",
      "Probleme Indicator\n",
      "ERROR UNIDOWNUSDT ouverture fichier feature\n"
     ]
    },
    {
     "name": "stderr",
     "output_type": "stream",
     "text": [
      "  8%|▊         | 20/256 [00:57<08:39,  2.20s/it]"
     ]
    },
    {
     "name": "stdout",
     "output_type": "stream",
     "text": [
      "Crypto Morte Date dépassée SXPUPUSDT derniere date : 2021-11-25 02:00:00 taille : (9717, 11)\n",
      "Probleme Indicator\n",
      "ERROR SXPUPUSDT ouverture fichier feature\n"
     ]
    },
    {
     "name": "stderr",
     "output_type": "stream",
     "text": [
      "  8%|▊         | 21/256 [01:04<14:45,  3.77s/it]"
     ]
    },
    {
     "name": "stdout",
     "output_type": "stream",
     "text": [
      "Crypto Morte Date dépassée SXPDOWNUSDT derniere date : 2021-11-25 02:00:00 taille : (9669, 11)\n",
      "Probleme Indicator\n",
      "ERROR SXPDOWNUSDT ouverture fichier feature\n"
     ]
    },
    {
     "name": "stderr",
     "output_type": "stream",
     "text": [
      "  9%|▉         | 23/256 [01:12<15:50,  4.08s/it]"
     ]
    },
    {
     "name": "stdout",
     "output_type": "stream",
     "text": [
      "Crypto Morte Date dépassée FILUPUSDT derniere date : 2022-01-04 02:00:00 taille : (10557, 11)\n",
      "Probleme Indicator\n",
      "ERROR FILUPUSDT ouverture fichier feature\n"
     ]
    },
    {
     "name": "stderr",
     "output_type": "stream",
     "text": [
      "  9%|▉         | 24/256 [01:17<17:47,  4.60s/it]"
     ]
    },
    {
     "name": "stdout",
     "output_type": "stream",
     "text": [
      "Crypto Morte Date dépassée FILDOWNUSDT derniere date : 2022-01-04 02:00:00 taille : (10557, 11)\n",
      "Probleme Indicator\n",
      "ERROR FILDOWNUSDT ouverture fichier feature\n"
     ]
    },
    {
     "name": "stderr",
     "output_type": "stream",
     "text": [
      " 10%|▉         | 25/256 [01:23<19:07,  4.97s/it]"
     ]
    },
    {
     "name": "stdout",
     "output_type": "stream",
     "text": [
      "Crypto Morte Date dépassée YFIUPUSDT derniere date : 2021-12-02 03:00:00 taille : (9742, 11)\n",
      "Probleme Indicator\n",
      "ERROR YFIUPUSDT ouverture fichier feature\n"
     ]
    },
    {
     "name": "stderr",
     "output_type": "stream",
     "text": [
      " 11%|█         | 27/256 [01:29<13:59,  3.67s/it]"
     ]
    },
    {
     "name": "stdout",
     "output_type": "stream",
     "text": [
      "Crypto Morte Date dépassée YFIDOWNUSDT derniere date : 2021-12-02 03:00:00 taille : (9718, 11)\n",
      "Probleme Indicator\n",
      "ERROR YFIDOWNUSDT ouverture fichier feature\n"
     ]
    },
    {
     "name": "stderr",
     "output_type": "stream",
     "text": [
      " 12%|█▏        | 30/256 [01:34<09:39,  2.57s/it]"
     ]
    },
    {
     "name": "stdout",
     "output_type": "stream",
     "text": [
      "Crypto Morte Date dépassée BCHUPUSDT derniere date : 2022-01-04 02:00:00 taille : (6607, 11)\n",
      "Probleme Indicator\n",
      "ERROR BCHUPUSDT ouverture fichier feature\n"
     ]
    },
    {
     "name": "stderr",
     "output_type": "stream",
     "text": [
      " 12%|█▎        | 32/256 [01:38<07:56,  2.13s/it]"
     ]
    },
    {
     "name": "stdout",
     "output_type": "stream",
     "text": [
      "Crypto Morte Date dépassée BCHDOWNUSDT derniere date : 2022-01-04 02:00:00 taille : (6607, 11)\n",
      "Probleme Indicator\n",
      "ERROR BCHDOWNUSDT ouverture fichier feature\n"
     ]
    },
    {
     "name": "stderr",
     "output_type": "stream",
     "text": [
      " 14%|█▍        | 36/256 [01:48<09:37,  2.63s/it]"
     ]
    },
    {
     "name": "stdout",
     "output_type": "stream",
     "text": [
      "Crypto Morte Date dépassée DNTUSDT derniere date : 2022-10-24 08:00:00 taille : (17096, 11)\n",
      "Probleme Indicator\n",
      "ERROR DNTUSDT ouverture fichier feature\n"
     ]
    },
    {
     "name": "stderr",
     "output_type": "stream",
     "text": [
      " 16%|█▌        | 41/256 [01:53<06:42,  1.87s/it]"
     ]
    },
    {
     "name": "stdout",
     "output_type": "stream",
     "text": [
      "Crypto Morte Date dépassée AAVEUPUSDT derniere date : 2021-11-11 02:00:00 taille : (8373, 11)\n",
      "Probleme Indicator\n",
      "ERROR AAVEUPUSDT ouverture fichier feature\n"
     ]
    },
    {
     "name": "stderr",
     "output_type": "stream",
     "text": [
      " 17%|█▋        | 43/256 [01:58<06:51,  1.93s/it]"
     ]
    },
    {
     "name": "stdout",
     "output_type": "stream",
     "text": [
      "Crypto Morte Date dépassée AAVEDOWNUSDT derniere date : 2021-11-11 02:00:00 taille : (8350, 11)\n",
      "Probleme Indicator\n",
      "ERROR AAVEDOWNUSDT ouverture fichier feature\n"
     ]
    },
    {
     "name": "stderr",
     "output_type": "stream",
     "text": [
      " 17%|█▋        | 44/256 [02:07<14:36,  4.14s/it]"
     ]
    },
    {
     "name": "stdout",
     "output_type": "stream",
     "text": [
      "Crypto Morte Date dépassée SUSDUSDT derniere date : 2022-04-11 08:00:00 taille : (11812, 11)\n",
      "Probleme Indicator\n",
      "ERROR SUSDUSDT ouverture fichier feature\n"
     ]
    },
    {
     "name": "stderr",
     "output_type": "stream",
     "text": [
      " 18%|█▊        | 45/256 [02:12<15:00,  4.27s/it]"
     ]
    },
    {
     "name": "stdout",
     "output_type": "stream",
     "text": [
      "Crypto Morte Date dépassée SUSHIUPUSDT derniere date : 2021-12-14 02:00:00 taille : (8830, 11)\n",
      "Probleme Indicator\n",
      "ERROR SUSHIUPUSDT ouverture fichier feature\n"
     ]
    },
    {
     "name": "stderr",
     "output_type": "stream",
     "text": [
      " 18%|█▊        | 46/256 [02:16<15:16,  4.36s/it]"
     ]
    },
    {
     "name": "stdout",
     "output_type": "stream",
     "text": [
      "Crypto Morte Date dépassée SUSHIDOWNUSDT derniere date : 2021-12-14 02:00:00 taille : (8782, 11)\n",
      "Probleme Indicator\n",
      "ERROR SUSHIDOWNUSDT ouverture fichier feature\n"
     ]
    },
    {
     "name": "stderr",
     "output_type": "stream",
     "text": [
      " 18%|█▊        | 47/256 [02:21<15:12,  4.37s/it]"
     ]
    },
    {
     "name": "stdout",
     "output_type": "stream",
     "text": [
      "Crypto Morte Date dépassée XLMUPUSDT derniere date : 2021-12-14 02:00:00 taille : (8806, 11)\n",
      "Probleme Indicator\n",
      "ERROR XLMUPUSDT ouverture fichier feature\n"
     ]
    },
    {
     "name": "stderr",
     "output_type": "stream",
     "text": [
      " 19%|█▉        | 49/256 [02:25<10:44,  3.11s/it]"
     ]
    },
    {
     "name": "stdout",
     "output_type": "stream",
     "text": [
      "Crypto Morte Date dépassée XLMDOWNUSDT derniere date : 2021-12-14 02:00:00 taille : (8782, 11)\n",
      "Probleme Indicator\n",
      "ERROR XLMDOWNUSDT ouverture fichier feature\n"
     ]
    },
    {
     "name": "stderr",
     "output_type": "stream",
     "text": [
      " 23%|██▎       | 60/256 [02:36<06:59,  2.14s/it]"
     ]
    },
    {
     "name": "stdout",
     "output_type": "stream",
     "text": [
      "Crypto Morte Date dépassée BTCSTUSDT derniere date : 2022-11-28 02:00:00 taille : (16304, 11)\n",
      "Probleme Indicator\n",
      "ERROR BTCSTUSDT ouverture fichier feature\n"
     ]
    },
    {
     "name": "stderr",
     "output_type": "stream",
     "text": [
      " 30%|███       | 78/256 [02:46<04:12,  1.42s/it]"
     ]
    },
    {
     "name": "stdout",
     "output_type": "stream",
     "text": [
      "Crypto Morte Date dépassée RAMPUSDT derniere date : 2022-07-04 03:00:00 taille : (11240, 11)\n",
      "Probleme Indicator\n",
      "ERROR RAMPUSDT ouverture fichier feature\n"
     ]
    },
    {
     "name": "stderr",
     "output_type": "stream",
     "text": [
      " 32%|███▏      | 81/256 [02:52<05:04,  1.74s/it]"
     ]
    },
    {
     "name": "stdout",
     "output_type": "stream",
     "text": [
      "Crypto Morte Date dépassée EPSUSDT derniere date : 2022-05-09 03:00:00 taille : (9632, 11)\n",
      "Probleme Indicator\n",
      "ERROR EPSUSDT ouverture fichier feature\n"
     ]
    },
    {
     "name": "stderr",
     "output_type": "stream",
     "text": [
      " 33%|███▎      | 85/256 [02:55<03:40,  1.29s/it]"
     ]
    },
    {
     "name": "stdout",
     "output_type": "stream",
     "text": [
      "Crypto Morte Date dépassée 1INCHUPUSDT derniere date : 2021-12-02 03:00:00 taille : (5526, 11)\n",
      "Probleme Indicator\n",
      "ERROR 1INCHUPUSDT ouverture fichier feature\n"
     ]
    },
    {
     "name": "stderr",
     "output_type": "stream",
     "text": [
      " 34%|███▎      | 86/256 [02:58<05:08,  1.82s/it]"
     ]
    },
    {
     "name": "stdout",
     "output_type": "stream",
     "text": [
      "Crypto Morte Date dépassée 1INCHDOWNUSDT derniere date : 2021-12-02 03:00:00 taille : (5526, 11)\n",
      "Probleme Indicator\n",
      "ERROR 1INCHDOWNUSDT ouverture fichier feature\n"
     ]
    },
    {
     "name": "stderr",
     "output_type": "stream",
     "text": [
      " 34%|███▍      | 87/256 [03:07<11:22,  4.04s/it]"
     ]
    },
    {
     "name": "stdout",
     "output_type": "stream",
     "text": [
      "Crypto Morte Date dépassée BTGUSDT derniere date : 2022-10-24 08:00:00 taille : (13335, 11)\n",
      "Probleme Indicator\n",
      "ERROR BTGUSDT ouverture fichier feature\n"
     ]
    },
    {
     "name": "stderr",
     "output_type": "stream",
     "text": [
      " 35%|███▍      | 89/256 [03:16<10:41,  3.84s/it]"
     ]
    },
    {
     "name": "stdout",
     "output_type": "stream",
     "text": [
      "Crypto Morte Date dépassée MIRUSDT derniere date : 2022-12-27 02:00:00 taille : (14789, 11)\n",
      "Probleme Indicator\n",
      "ERROR MIRUSDT ouverture fichier feature\n"
     ]
    },
    {
     "name": "stderr",
     "output_type": "stream",
     "text": [
      " 40%|███▉      | 102/256 [03:22<02:29,  1.03it/s]"
     ]
    },
    {
     "name": "stdout",
     "output_type": "stream",
     "text": [
      "Crypto Morte Date dépassée NUUSDT derniere date : 2022-02-16 03:00:00 taille : (6161, 11)\n",
      "Probleme Indicator\n",
      "ERROR NUUSDT ouverture fichier feature\n"
     ]
    },
    {
     "name": "stderr",
     "output_type": "stream",
     "text": [
      " 41%|████      | 105/256 [03:30<06:48,  2.70s/it]"
     ]
    },
    {
     "name": "stdout",
     "output_type": "stream",
     "text": [
      "Crypto Morte Date dépassée TORNUSDT derniere date : 2022-12-27 02:00:00 taille : (13527, 11)\n",
      "Probleme Indicator\n",
      "ERROR TORNUSDT ouverture fichier feature\n"
     ]
    },
    {
     "name": "stderr",
     "output_type": "stream",
     "text": [
      " 42%|████▏     | 107/256 [03:33<04:51,  1.96s/it]"
     ]
    },
    {
     "name": "stdout",
     "output_type": "stream",
     "text": [
      "Crypto Morte Date dépassée KEEPUSDT derniere date : 2022-02-16 03:00:00 taille : (5848, 11)\n",
      "Probleme Indicator\n",
      "ERROR KEEPUSDT ouverture fichier feature\n"
     ]
    },
    {
     "name": "stderr",
     "output_type": "stream",
     "text": [
      " 50%|█████     | 129/256 [03:42<02:56,  1.39s/it]"
     ]
    },
    {
     "name": "stdout",
     "output_type": "stream",
     "text": [
      "Crypto Morte Date dépassée TRIBEUSDT derniere date : 2022-11-28 02:00:00 taille : (11059, 11)\n",
      "Probleme Indicator\n",
      "ERROR TRIBEUSDT ouverture fichier feature\n"
     ]
    },
    {
     "name": "stderr",
     "output_type": "stream",
     "text": [
      " 52%|█████▏    | 133/256 [03:48<04:16,  2.08s/it]"
     ]
    },
    {
     "name": "stdout",
     "output_type": "stream",
     "text": [
      "Crypto Morte Date dépassée POLYUSDT derniere date : 2022-10-10 02:00:00 taille : (9497, 11)\n",
      "Probleme Indicator\n",
      "ERROR POLYUSDT ouverture fichier feature\n"
     ]
    },
    {
     "name": "stderr",
     "output_type": "stream",
     "text": [
      " 53%|█████▎    | 136/256 [03:54<05:13,  2.61s/it]"
     ]
    },
    {
     "name": "stdout",
     "output_type": "stream",
     "text": [
      "Enregistrement data pour USDPUSDT d'une taille (11879, 11)\n",
      "Probleme Indicator\n",
      "Enregistrement feature pour USDPUSDT d'une taille (11879, 11)\n"
     ]
    },
    {
     "name": "stderr",
     "output_type": "stream",
     "text": [
      " 61%|██████    | 156/256 [03:59<00:55,  1.79it/s]"
     ]
    },
    {
     "name": "stdout",
     "output_type": "stream",
     "text": [
      "Crypto Morte Date dépassée RGTUSDT derniere date : 2022-03-14 03:00:00 taille : (3094, 11)\n",
      "Probleme Indicator\n",
      "ERROR RGTUSDT ouverture fichier feature\n"
     ]
    },
    {
     "name": "stderr",
     "output_type": "stream",
     "text": [
      " 68%|██████▊   | 173/256 [04:02<00:24,  3.43it/s]"
     ]
    },
    {
     "name": "stdout",
     "output_type": "stream",
     "text": [
      "Crypto Morte Date dépassée ANYUSDT derniere date : 2022-03-30 03:00:00 taille : (2782, 11)\n",
      "Probleme Indicator\n",
      "ERROR ANYUSDT ouverture fichier feature\n"
     ]
    },
    {
     "name": "stderr",
     "output_type": "stream",
     "text": [
      " 71%|███████▏  | 183/256 [04:06<00:49,  1.48it/s]"
     ]
    },
    {
     "name": "stdout",
     "output_type": "stream",
     "text": [
      "Crypto Morte Date dépassée USTUSDT derniere date : 2022-05-13 00:00:00 taille : (3353, 11)\n",
      "Probleme Indicator\n",
      "ERROR USTUSDT ouverture fichier feature\n"
     ]
    },
    {
     "name": "stderr",
     "output_type": "stream",
     "text": [
      " 75%|███████▌  | 193/256 [04:12<01:15,  1.20s/it]"
     ]
    },
    {
     "name": "stdout",
     "output_type": "stream",
     "text": [
      "Crypto Morte Date dépassée ANCUSDT derniere date : 2022-12-27 02:00:00 taille : (8056, 11)\n",
      "Probleme Indicator\n",
      "ERROR ANCUSDT ouverture fichier feature\n"
     ]
    },
    {
     "name": "stderr",
     "output_type": "stream",
     "text": [
      " 80%|███████▉  | 204/256 [04:19<01:14,  1.43s/it]"
     ]
    },
    {
     "name": "stdout",
     "output_type": "stream",
     "text": [
      "Enregistrement data pour STEEMUSDT d'une taille (10494, 11)\n",
      "Probleme Indicator\n",
      "Enregistrement feature pour STEEMUSDT d'une taille (10494, 11)\n"
     ]
    },
    {
     "name": "stderr",
     "output_type": "stream",
     "text": [
      " 80%|████████  | 205/256 [04:25<02:08,  2.52s/it]"
     ]
    },
    {
     "name": "stdout",
     "output_type": "stream",
     "text": [
      "Enregistrement data pour MOBUSDT d'une taille (10326, 11)\n",
      "Probleme Indicator\n",
      "Enregistrement feature pour MOBUSDT d'une taille (10326, 11)\n"
     ]
    },
    {
     "name": "stderr",
     "output_type": "stream",
     "text": [
      " 80%|████████  | 206/256 [04:31<02:49,  3.39s/it]"
     ]
    },
    {
     "name": "stdout",
     "output_type": "stream",
     "text": [
      "Enregistrement data pour NEXOUSDT d'une taille (10322, 11)\n",
      "Probleme Indicator\n",
      "Enregistrement feature pour NEXOUSDT d'une taille (10322, 11)\n"
     ]
    },
    {
     "name": "stderr",
     "output_type": "stream",
     "text": [
      " 81%|████████  | 207/256 [04:37<03:19,  4.06s/it]"
     ]
    },
    {
     "name": "stdout",
     "output_type": "stream",
     "text": [
      "Enregistrement data pour REIUSDT d'une taille (10212, 11)\n",
      "Probleme Indicator\n",
      "Enregistrement feature pour REIUSDT d'une taille (10212, 11)\n"
     ]
    },
    {
     "name": "stderr",
     "output_type": "stream",
     "text": [
      " 81%|████████▏ | 208/256 [04:43<03:39,  4.57s/it]"
     ]
    },
    {
     "name": "stdout",
     "output_type": "stream",
     "text": [
      "Enregistrement data pour GALUSDT d'une taille (10180, 11)\n",
      "Probleme Indicator\n",
      "Enregistrement feature pour GALUSDT d'une taille (10180, 11)\n"
     ]
    },
    {
     "name": "stderr",
     "output_type": "stream",
     "text": [
      " 82%|████████▏ | 209/256 [04:49<03:52,  4.94s/it]"
     ]
    },
    {
     "name": "stdout",
     "output_type": "stream",
     "text": [
      "Enregistrement data pour LDOUSDT d'une taille (10085, 11)\n",
      "Probleme Indicator\n",
      "Enregistrement feature pour LDOUSDT d'une taille (10085, 11)\n"
     ]
    },
    {
     "name": "stderr",
     "output_type": "stream",
     "text": [
      " 82%|████████▏ | 210/256 [04:54<04:00,  5.22s/it]"
     ]
    },
    {
     "name": "stdout",
     "output_type": "stream",
     "text": [
      "Enregistrement data pour EPXUSDT d'une taille (9756, 11)\n",
      "Probleme Indicator\n",
      "Enregistrement feature pour EPXUSDT d'une taille (9756, 11)\n"
     ]
    },
    {
     "name": "stderr",
     "output_type": "stream",
     "text": [
      " 82%|████████▏ | 211/256 [05:00<04:00,  5.35s/it]"
     ]
    },
    {
     "name": "stdout",
     "output_type": "stream",
     "text": [
      "Enregistrement data pour OPUSDT d'une taille (9536, 11)\n",
      "Probleme Indicator\n",
      "Enregistrement feature pour OPUSDT d'une taille (9536, 11)\n"
     ]
    },
    {
     "name": "stderr",
     "output_type": "stream",
     "text": [
      " 83%|████████▎ | 212/256 [05:07<04:14,  5.79s/it]"
     ]
    },
    {
     "name": "stdout",
     "output_type": "stream",
     "text": [
      "Enregistrement data pour LEVERUSDT d'une taille (8532, 11)\n",
      "Probleme Indicator\n",
      "Enregistrement feature pour LEVERUSDT d'une taille (8532, 11)\n"
     ]
    },
    {
     "name": "stderr",
     "output_type": "stream",
     "text": [
      " 83%|████████▎ | 213/256 [05:11<03:48,  5.31s/it]"
     ]
    },
    {
     "name": "stdout",
     "output_type": "stream",
     "text": [
      "Enregistrement data pour STGUSDT d'une taille (7639, 11)\n",
      "Probleme Indicator\n",
      "Enregistrement feature pour STGUSDT d'une taille (7639, 11)\n"
     ]
    },
    {
     "name": "stderr",
     "output_type": "stream",
     "text": [
      " 84%|████████▎ | 214/256 [05:15<03:29,  4.98s/it]"
     ]
    },
    {
     "name": "stdout",
     "output_type": "stream",
     "text": [
      "Enregistrement data pour LUNCUSDT d'une taille (7136, 11)\n",
      "Probleme Indicator\n",
      "Enregistrement feature pour LUNCUSDT d'une taille (7136, 11)\n"
     ]
    },
    {
     "name": "stderr",
     "output_type": "stream",
     "text": [
      " 84%|████████▍ | 215/256 [05:19<03:11,  4.66s/it]"
     ]
    },
    {
     "name": "stdout",
     "output_type": "stream",
     "text": [
      "Crypto Morte Date dépassée GMXUSDT derniere date : 2023-07-03 16:00:00 taille : (6510, 11)\n",
      "Probleme Indicator\n",
      "ERROR GMXUSDT ouverture fichier feature\n"
     ]
    },
    {
     "name": "stderr",
     "output_type": "stream",
     "text": [
      " 84%|████████▍ | 216/256 [05:22<02:39,  3.99s/it]"
     ]
    },
    {
     "name": "stdout",
     "output_type": "stream",
     "text": [
      "Crypto Morte Date dépassée NEBLUSDT derniere date : 2023-04-18 02:00:00 taille : (4458, 11)\n",
      "Probleme Indicator\n",
      "ERROR NEBLUSDT ouverture fichier feature\n"
     ]
    },
    {
     "name": "stderr",
     "output_type": "stream",
     "text": [
      " 85%|████████▍ | 217/256 [05:26<02:34,  3.96s/it]"
     ]
    },
    {
     "name": "stdout",
     "output_type": "stream",
     "text": [
      "Crypto Morte Date dépassée POLYXUSDT derniere date : 2023-07-03 16:00:00 taille : (6224, 11)\n",
      "Probleme Indicator\n",
      "ERROR POLYXUSDT ouverture fichier feature\n"
     ]
    },
    {
     "name": "stderr",
     "output_type": "stream",
     "text": [
      " 85%|████████▌ | 218/256 [05:29<02:29,  3.94s/it]"
     ]
    },
    {
     "name": "stdout",
     "output_type": "stream",
     "text": [
      "Crypto Morte Date dépassée APTUSDT derniere date : 2023-07-03 16:00:00 taille : (6183, 11)\n",
      "Probleme Indicator\n",
      "ERROR APTUSDT ouverture fichier feature\n"
     ]
    },
    {
     "name": "stderr",
     "output_type": "stream",
     "text": [
      " 86%|████████▌ | 219/256 [05:32<02:11,  3.55s/it]"
     ]
    },
    {
     "name": "stdout",
     "output_type": "stream",
     "text": [
      "Crypto Morte Date dépassée OSMOUSDT derniere date : 2023-07-03 16:00:00 taille : (5958, 11)\n",
      "Probleme Indicator\n",
      "ERROR OSMOUSDT ouverture fichier feature\n"
     ]
    },
    {
     "name": "stderr",
     "output_type": "stream",
     "text": [
      " 86%|████████▌ | 220/256 [05:35<01:57,  3.28s/it]"
     ]
    },
    {
     "name": "stdout",
     "output_type": "stream",
     "text": [
      "Crypto Morte Date dépassée HFTUSDT derniere date : 2023-07-03 16:00:00 taille : (5715, 11)\n",
      "Probleme Indicator\n",
      "ERROR HFTUSDT ouverture fichier feature\n"
     ]
    },
    {
     "name": "stderr",
     "output_type": "stream",
     "text": [
      " 86%|████████▋ | 221/256 [05:37<01:47,  3.08s/it]"
     ]
    },
    {
     "name": "stdout",
     "output_type": "stream",
     "text": [
      "Crypto Morte Date dépassée PHBUSDT derniere date : 2023-07-03 16:00:00 taille : (5455, 11)\n",
      "Probleme Indicator\n",
      "ERROR PHBUSDT ouverture fichier feature\n"
     ]
    },
    {
     "name": "stderr",
     "output_type": "stream",
     "text": [
      " 87%|████████▋ | 222/256 [05:40<01:40,  2.95s/it]"
     ]
    },
    {
     "name": "stdout",
     "output_type": "stream",
     "text": [
      "Crypto Morte Date dépassée HOOKUSDT derniere date : 2023-07-03 16:00:00 taille : (5138, 11)\n",
      "Probleme Indicator\n",
      "ERROR HOOKUSDT ouverture fichier feature\n"
     ]
    },
    {
     "name": "stderr",
     "output_type": "stream",
     "text": [
      " 87%|████████▋ | 223/256 [05:42<01:31,  2.78s/it]"
     ]
    },
    {
     "name": "stdout",
     "output_type": "stream",
     "text": [
      "Crypto Morte Date dépassée MAGICUSDT derniere date : 2023-07-03 16:00:00 taille : (4880, 11)\n",
      "Probleme Indicator\n",
      "ERROR MAGICUSDT ouverture fichier feature\n"
     ]
    },
    {
     "name": "stderr",
     "output_type": "stream",
     "text": [
      " 88%|████████▊ | 224/256 [05:45<01:25,  2.67s/it]"
     ]
    },
    {
     "name": "stdout",
     "output_type": "stream",
     "text": [
      "Crypto Morte Date dépassée HIFIUSDT derniere date : 2023-07-03 16:00:00 taille : (4136, 11)\n",
      "Probleme Indicator\n",
      "ERROR HIFIUSDT ouverture fichier feature\n"
     ]
    },
    {
     "name": "stderr",
     "output_type": "stream",
     "text": [
      " 88%|████████▊ | 225/256 [05:47<01:18,  2.53s/it]"
     ]
    },
    {
     "name": "stdout",
     "output_type": "stream",
     "text": [
      "Crypto Morte Date dépassée RPLUSDT derniere date : 2023-07-03 16:00:00 taille : (3992, 11)\n",
      "Probleme Indicator\n",
      "ERROR RPLUSDT ouverture fichier feature\n"
     ]
    },
    {
     "name": "stderr",
     "output_type": "stream",
     "text": [
      " 88%|████████▊ | 226/256 [05:49<01:12,  2.42s/it]"
     ]
    },
    {
     "name": "stdout",
     "output_type": "stream",
     "text": [
      "Crypto Morte Date dépassée PROSUSDT derniere date : 2023-07-03 16:00:00 taille : (3776, 11)\n",
      "Probleme Indicator\n",
      "ERROR PROSUSDT ouverture fichier feature\n"
     ]
    },
    {
     "name": "stderr",
     "output_type": "stream",
     "text": [
      " 89%|████████▊ | 227/256 [05:51<01:07,  2.34s/it]"
     ]
    },
    {
     "name": "stdout",
     "output_type": "stream",
     "text": [
      "Crypto Morte Date dépassée AGIXUSDT derniere date : 2023-07-03 16:00:00 taille : (3272, 11)\n",
      "Probleme Indicator\n",
      "ERROR AGIXUSDT ouverture fichier feature\n"
     ]
    },
    {
     "name": "stderr",
     "output_type": "stream",
     "text": [
      " 89%|████████▉ | 228/256 [05:54<01:04,  2.29s/it]"
     ]
    },
    {
     "name": "stdout",
     "output_type": "stream",
     "text": [
      "Crypto Morte Date dépassée GNSUSDT derniere date : 2023-07-03 16:00:00 taille : (3269, 11)\n",
      "Probleme Indicator\n",
      "ERROR GNSUSDT ouverture fichier feature\n"
     ]
    },
    {
     "name": "stderr",
     "output_type": "stream",
     "text": [
      " 89%|████████▉ | 229/256 [05:56<01:04,  2.38s/it]"
     ]
    },
    {
     "name": "stdout",
     "output_type": "stream",
     "text": [
      "Crypto Morte Date dépassée SYNUSDT derniere date : 2023-07-03 16:00:00 taille : (3150, 11)\n",
      "Probleme Indicator\n",
      "ERROR SYNUSDT ouverture fichier feature\n"
     ]
    },
    {
     "name": "stderr",
     "output_type": "stream",
     "text": [
      " 90%|████████▉ | 230/256 [05:58<01:00,  2.31s/it]"
     ]
    },
    {
     "name": "stdout",
     "output_type": "stream",
     "text": [
      "Crypto Morte Date dépassée VIBUSDT derniere date : 2023-07-03 16:00:00 taille : (3104, 11)\n",
      "Probleme Indicator\n",
      "ERROR VIBUSDT ouverture fichier feature\n"
     ]
    },
    {
     "name": "stderr",
     "output_type": "stream",
     "text": [
      " 90%|█████████ | 231/256 [06:00<00:56,  2.27s/it]"
     ]
    },
    {
     "name": "stdout",
     "output_type": "stream",
     "text": [
      "Crypto Morte Date dépassée SSVUSDT derniere date : 2023-07-03 16:00:00 taille : (3104, 11)\n",
      "Probleme Indicator\n",
      "ERROR SSVUSDT ouverture fichier feature\n"
     ]
    },
    {
     "name": "stderr",
     "output_type": "stream",
     "text": [
      " 91%|█████████ | 232/256 [06:03<00:56,  2.35s/it]"
     ]
    },
    {
     "name": "stdout",
     "output_type": "stream",
     "text": [
      "Crypto Morte Date dépassée LQTYUSDT derniere date : 2023-07-03 16:00:00 taille : (3005, 11)\n",
      "Probleme Indicator\n",
      "ERROR LQTYUSDT ouverture fichier feature\n"
     ]
    },
    {
     "name": "stderr",
     "output_type": "stream",
     "text": [
      " 91%|█████████ | 233/256 [06:06<00:58,  2.53s/it]"
     ]
    },
    {
     "name": "stdout",
     "output_type": "stream",
     "text": [
      "Crypto Morte Date dépassée AMBUSDT derniere date : 2023-07-03 16:00:00 taille : (2936, 11)\n",
      "Probleme Indicator\n",
      "ERROR AMBUSDT ouverture fichier feature\n"
     ]
    },
    {
     "name": "stderr",
     "output_type": "stream",
     "text": [
      " 91%|█████████▏| 234/256 [06:08<00:50,  2.29s/it]"
     ]
    },
    {
     "name": "stdout",
     "output_type": "stream",
     "text": [
      "Crypto Morte Date dépassée BETHUSDT derniere date : 2023-07-03 16:00:00 taille : (2936, 11)\n",
      "Probleme Indicator\n",
      "ERROR BETHUSDT ouverture fichier feature\n"
     ]
    },
    {
     "name": "stderr",
     "output_type": "stream",
     "text": [
      " 92%|█████████▏| 235/256 [06:09<00:40,  1.95s/it]"
     ]
    },
    {
     "name": "stdout",
     "output_type": "stream",
     "text": [
      "Crypto Morte Date dépassée USTCUSDT derniere date : 2023-07-03 16:00:00 taille : (2768, 11)\n",
      "Probleme Indicator\n",
      "ERROR USTCUSDT ouverture fichier feature\n"
     ]
    },
    {
     "name": "stderr",
     "output_type": "stream",
     "text": [
      " 92%|█████████▏| 236/256 [06:10<00:32,  1.65s/it]"
     ]
    },
    {
     "name": "stdout",
     "output_type": "stream",
     "text": [
      "Crypto Morte Date dépassée GASUSDT derniere date : 2023-07-03 16:00:00 taille : (2600, 11)\n",
      "Probleme Indicator\n",
      "ERROR GASUSDT ouverture fichier feature\n"
     ]
    },
    {
     "name": "stderr",
     "output_type": "stream",
     "text": [
      " 93%|█████████▎| 237/256 [06:11<00:28,  1.49s/it]"
     ]
    },
    {
     "name": "stdout",
     "output_type": "stream",
     "text": [
      "Crypto Morte Date dépassée GLMUSDT derniere date : 2023-07-03 16:00:00 taille : (2600, 11)\n",
      "Probleme Indicator\n",
      "ERROR GLMUSDT ouverture fichier feature\n"
     ]
    },
    {
     "name": "stderr",
     "output_type": "stream",
     "text": [
      " 93%|█████████▎| 238/256 [06:12<00:23,  1.32s/it]"
     ]
    },
    {
     "name": "stdout",
     "output_type": "stream",
     "text": [
      "Crypto Morte Date dépassée PROMUSDT derniere date : 2023-07-03 16:00:00 taille : (2600, 11)\n",
      "Probleme Indicator\n",
      "ERROR PROMUSDT ouverture fichier feature\n"
     ]
    },
    {
     "name": "stderr",
     "output_type": "stream",
     "text": [
      " 93%|█████████▎| 239/256 [06:13<00:20,  1.21s/it]"
     ]
    },
    {
     "name": "stdout",
     "output_type": "stream",
     "text": [
      "Crypto Morte Date dépassée QKCUSDT derniere date : 2023-07-03 16:00:00 taille : (2600, 11)\n",
      "Probleme Indicator\n",
      "ERROR QKCUSDT ouverture fichier feature\n"
     ]
    },
    {
     "name": "stderr",
     "output_type": "stream",
     "text": [
      " 94%|█████████▍| 240/256 [06:14<00:18,  1.13s/it]"
     ]
    },
    {
     "name": "stdout",
     "output_type": "stream",
     "text": [
      "Crypto Morte Date dépassée UFTUSDT derniere date : 2023-07-03 16:00:00 taille : (2600, 11)\n",
      "Probleme Indicator\n",
      "ERROR UFTUSDT ouverture fichier feature\n"
     ]
    },
    {
     "name": "stderr",
     "output_type": "stream",
     "text": [
      " 94%|█████████▍| 241/256 [06:15<00:15,  1.07s/it]"
     ]
    },
    {
     "name": "stdout",
     "output_type": "stream",
     "text": [
      "Crypto Morte Date dépassée IDUSDT derniere date : 2023-07-03 16:00:00 taille : (2476, 11)\n",
      "Probleme Indicator\n",
      "ERROR IDUSDT ouverture fichier feature\n"
     ]
    },
    {
     "name": "stderr",
     "output_type": "stream",
     "text": [
      " 95%|█████████▍| 242/256 [06:16<00:14,  1.03s/it]"
     ]
    },
    {
     "name": "stdout",
     "output_type": "stream",
     "text": [
      "Crypto Morte Date dépassée ARBUSDT derniere date : 2023-07-03 16:00:00 taille : (2449, 11)\n",
      "Probleme Indicator\n",
      "ERROR ARBUSDT ouverture fichier feature\n"
     ]
    },
    {
     "name": "stderr",
     "output_type": "stream",
     "text": [
      " 95%|█████████▍| 243/256 [06:16<00:12,  1.00it/s]"
     ]
    },
    {
     "name": "stdout",
     "output_type": "stream",
     "text": [
      "Crypto Morte Date dépassée LOOMUSDT derniere date : 2023-07-03 16:00:00 taille : (2432, 11)\n",
      "Probleme Indicator\n",
      "ERROR LOOMUSDT ouverture fichier feature\n"
     ]
    },
    {
     "name": "stderr",
     "output_type": "stream",
     "text": [
      " 95%|█████████▌| 244/256 [06:17<00:11,  1.03it/s]"
     ]
    },
    {
     "name": "stdout",
     "output_type": "stream",
     "text": [
      "Crypto Morte Date dépassée OAXUSDT derniere date : 2023-07-03 16:00:00 taille : (2432, 11)\n",
      "Probleme Indicator\n",
      "ERROR OAXUSDT ouverture fichier feature\n"
     ]
    },
    {
     "name": "stderr",
     "output_type": "stream",
     "text": [
      " 96%|█████████▌| 245/256 [06:18<00:10,  1.04it/s]"
     ]
    },
    {
     "name": "stdout",
     "output_type": "stream",
     "text": [
      "Crypto Morte Date dépassée RDNTUSDT derniere date : 2023-07-03 16:00:00 taille : (2290, 11)\n",
      "Probleme Indicator\n",
      "ERROR RDNTUSDT ouverture fichier feature\n"
     ]
    },
    {
     "name": "stderr",
     "output_type": "stream",
     "text": [
      " 96%|█████████▌| 246/256 [06:19<00:08,  1.13it/s]"
     ]
    },
    {
     "name": "stdout",
     "output_type": "stream",
     "text": [
      "Crypto Morte Date dépassée WBTCUSDT derniere date : 2023-07-03 16:00:00 taille : (1591, 11)\n",
      "Probleme Indicator\n",
      "ERROR WBTCUSDT ouverture fichier feature\n"
     ]
    },
    {
     "name": "stderr",
     "output_type": "stream",
     "text": [
      " 96%|█████████▋| 247/256 [06:20<00:07,  1.21it/s]"
     ]
    },
    {
     "name": "stdout",
     "output_type": "stream",
     "text": [
      "Crypto Morte Date dépassée EDUUSDT derniere date : 2023-07-03 16:00:00 taille : (1589, 11)\n",
      "Probleme Indicator\n",
      "ERROR EDUUSDT ouverture fichier feature\n"
     ]
    },
    {
     "name": "stderr",
     "output_type": "stream",
     "text": [
      " 97%|█████████▋| 248/256 [06:20<00:06,  1.27it/s]"
     ]
    },
    {
     "name": "stdout",
     "output_type": "stream",
     "text": [
      "Crypto Morte Date dépassée SUIUSDT derniere date : 2023-07-03 16:00:00 taille : (1469, 11)\n",
      "Probleme Indicator\n",
      "ERROR SUIUSDT ouverture fichier feature\n"
     ]
    },
    {
     "name": "stderr",
     "output_type": "stream",
     "text": [
      " 97%|█████████▋| 249/256 [06:21<00:05,  1.32it/s]"
     ]
    },
    {
     "name": "stdout",
     "output_type": "stream",
     "text": [
      "Crypto Morte Date dépassée AERGOUSDT derniere date : 2023-07-03 16:00:00 taille : (1425, 11)\n",
      "Probleme Indicator\n",
      "ERROR AERGOUSDT ouverture fichier feature\n"
     ]
    },
    {
     "name": "stderr",
     "output_type": "stream",
     "text": [
      " 98%|█████████▊| 250/256 [06:22<00:04,  1.36it/s]"
     ]
    },
    {
     "name": "stdout",
     "output_type": "stream",
     "text": [
      "Crypto Morte Date dépassée PEPEUSDT derniere date : 2023-07-03 16:00:00 taille : (1415, 11)\n",
      "Probleme Indicator\n",
      "ERROR PEPEUSDT ouverture fichier feature\n"
     ]
    },
    {
     "name": "stderr",
     "output_type": "stream",
     "text": [
      " 98%|█████████▊| 251/256 [06:22<00:03,  1.39it/s]"
     ]
    },
    {
     "name": "stdout",
     "output_type": "stream",
     "text": [
      "Crypto Morte Date dépassée FLOKIUSDT derniere date : 2023-07-03 16:00:00 taille : (1415, 11)\n",
      "Probleme Indicator\n",
      "ERROR FLOKIUSDT ouverture fichier feature\n"
     ]
    },
    {
     "name": "stderr",
     "output_type": "stream",
     "text": [
      " 98%|█████████▊| 252/256 [06:23<00:02,  1.41it/s]"
     ]
    },
    {
     "name": "stdout",
     "output_type": "stream",
     "text": [
      "Crypto Morte Date dépassée ASTUSDT derniere date : 2023-07-03 16:00:00 taille : (1089, 11)\n",
      "Probleme Indicator\n",
      "ERROR ASTUSDT ouverture fichier feature\n"
     ]
    },
    {
     "name": "stderr",
     "output_type": "stream",
     "text": [
      " 99%|█████████▉| 253/256 [06:24<00:02,  1.43it/s]"
     ]
    },
    {
     "name": "stdout",
     "output_type": "stream",
     "text": [
      "Crypto Morte Date dépassée SNTUSDT derniere date : 2023-07-03 16:00:00 taille : (1089, 11)\n",
      "Probleme Indicator\n",
      "ERROR SNTUSDT ouverture fichier feature\n"
     ]
    },
    {
     "name": "stderr",
     "output_type": "stream",
     "text": [
      " 99%|█████████▉| 254/256 [06:24<00:01,  1.58it/s]"
     ]
    },
    {
     "name": "stdout",
     "output_type": "stream",
     "text": [
      "Crypto Morte Date dépassée COMBOUSDT derniere date : 2023-07-03 16:00:00 taille : (753, 11)\n",
      "Probleme Indicator\n",
      "ERROR COMBOUSDT ouverture fichier feature\n"
     ]
    },
    {
     "name": "stderr",
     "output_type": "stream",
     "text": [
      "100%|█████████▉| 255/256 [06:25<00:00,  1.73it/s]"
     ]
    },
    {
     "name": "stdout",
     "output_type": "stream",
     "text": [
      "Crypto Morte Date dépassée MAVUSDT derniere date : 2023-07-03 16:00:00 taille : (129, 11)\n",
      "Probleme Indicator\n",
      "ERROR MAVUSDT ouverture fichier feature\n"
     ]
    },
    {
     "name": "stderr",
     "output_type": "stream",
     "text": [
      "100%|██████████| 256/256 [06:25<00:00,  1.51s/it]"
     ]
    },
    {
     "name": "stdout",
     "output_type": "stream",
     "text": [
      "Crypto Morte Date dépassée PENDLEUSDT derniere date : 2023-07-03 16:00:00 taille : (7, 11)\n",
      "Probleme Indicator\n",
      "ERROR PENDLEUSDT ouverture fichier feature\n"
     ]
    },
    {
     "name": "stderr",
     "output_type": "stream",
     "text": [
      "\n"
     ]
    }
   ],
   "source": [
    "for ticker in tqdm(aa[194:]):\n",
    "    try:\n",
    "        data = get_data_features(ticker).dropna()\n",
    "        data = data.loc[:, data.nunique() != 1]\n",
    "\n",
    "        #close j+1 est la target\n",
    "        target_aligned = data[['close']].copy().shift(-1).iloc[:-1]\n",
    "        data_aligned = data.iloc[1:-1,:4]\n",
    "        data_aligned[\"target\"] = target_aligned\n",
    "        exp = Crypto_Pred_Exp(data_aligned, config)\n",
    "        exp.train(f'{ticker}_ohlc_8_top2_samelr')\n",
    "        exp.test(f'{ticker}_ohlc_8_top2_samelr')\n",
    "    except:\n",
    "        pass"
   ]
  },
  {
   "cell_type": "code",
   "execution_count": null,
   "id": "41585e99",
   "metadata": {},
   "outputs": [],
   "source": [
    "recup les saisons\n",
    "\n",
    "cluster features tres polyvalent - roulant   caracteristiques - tendance moyenne du cluster - correlation intercluster - correlation marché global"
   ]
  },
  {
   "cell_type": "code",
   "execution_count": null,
   "id": "07f9bc1b",
   "metadata": {},
   "outputs": [],
   "source": [
    "faire un enorme dataframe avec ttes cryptos a feed au timesnet qui classifie en sortie une coposition de portefeuille et comme reward le sharpe ratio"
   ]
  },
  {
   "cell_type": "code",
   "execution_count": null,
   "id": "b8ef721d",
   "metadata": {},
   "outputs": [],
   "source": [
    "Informer\n",
    "https://huggingface.co/docs/transformers/main/model_doc/informer\n",
    "    \n",
    "tester pleins de modeles"
   ]
  },
  {
   "cell_type": "markdown",
   "id": "04c402da",
   "metadata": {},
   "source": [
    "seq[0] contient X lignes avec l'ensemble des features avec X=seq_len\n",
    "=> chaque indice de l'objet sequence contient les features des X derniers jours"
   ]
  },
  {
   "cell_type": "code",
   "execution_count": null,
   "id": "93966ced",
   "metadata": {},
   "outputs": [],
   "source": [
    "peut lui feed plusieurs monnaies et lui demander de predire la composition parfaite par ex"
   ]
  },
  {
   "cell_type": "code",
   "execution_count": null,
   "id": "f228b2cc",
   "metadata": {},
   "outputs": [],
   "source": [
    "https://github.com/kyegomez/Sophia\n",
    "    \n",
    "    \n",
    "tester Informer pr les dependences entre les variables\n",
    "\n",
    "\n",
    "car timesnet fait intervenir les relations entre les données indirectement en utillisant une some alors que informer peut directement capturer des features dans le temps entres ces variables"
   ]
  },
  {
   "cell_type": "code",
   "execution_count": 2,
   "id": "0ea26973",
   "metadata": {},
   "outputs": [],
   "source": [
    "fracDiff = FractionalDifferentiator()\n",
    "frac_data = fracDiff.FitTransform(data).dropna()\n",
    "frac_data_target = frac_data[['close']].copy().shift(-1).iloc[:-1]\n",
    "frac_data_aligned = frac_data.iloc[:-1,:4]#-150]\n",
    "frac_data_aligned[\"target\"] = frac_data_target"
   ]
  }
 ],
 "metadata": {
  "kernelspec": {
   "display_name": "Python 3 (Spyder)",
   "language": "python3",
   "name": "python3"
  },
  "language_info": {
   "codemirror_mode": {
    "name": "ipython",
    "version": 3
   },
   "file_extension": ".py",
   "mimetype": "text/x-python",
   "name": "python",
   "nbconvert_exporter": "python",
   "pygments_lexer": "ipython3",
   "version": "3.9.16"
  }
 },
 "nbformat": 4,
 "nbformat_minor": 5
}
