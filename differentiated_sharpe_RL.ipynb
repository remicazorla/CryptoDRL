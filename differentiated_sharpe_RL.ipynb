{
 "cells": [
  {
   "cell_type": "code",
   "execution_count": null,
   "id": "64666fe7",
   "metadata": {},
   "outputs": [],
   "source": [
    "#obtention de la taille de l'investissement F_t (taux en asset par rapport au cash)\n",
    "#a la manière d'un Single Layer Perceptron, la taille de la position est calculée avec un produit scalaire entre chaque poids de theta et chaque feature (r_t-m, r_t-m+1, r_t-m+2,... , r_t)\n",
    "#on obtient donc F_t après avoir passé le scalaire dans un tanh pr obtenir une fraction entre -1 et 1 (sell et buy)\n",
    "\n",
    "#x est le vecteur des rentabilités sur l'ensemble.\n",
    "\n",
    "def positions(x, theta):\n",
    "    M = len(theta) - 2\n",
    "    T = len(x)\n",
    "    Ft = np.zeros(T)\n",
    "    for t in range(M, T):\n",
    "        xt = np.concatenate([[1], x[t - M:t], [Ft[t - 1]]])\n",
    "        Ft[t] = np.tanh(np.dot(theta, xt))\n",
    "    return Ft"
   ]
  },
  {
   "cell_type": "code",
   "execution_count": null,
   "id": "c230f7ef",
   "metadata": {},
   "outputs": [],
   "source": [
    "#calcul des rentabilités de la stratégie en multipliant les fractions des positions par les rentabilités de l'asset (profit si signe(returns)=signe(fraction) et perte si inverse) du jour même\n",
    "#delta = taux de commission\n",
    "def returns(Ft, x, delta):\n",
    "    T = len(x)\n",
    "    rets = Ft[0:T - 1] * x[1:T] - delta * np.abs(Ft[1:T] - Ft[0:T - 1])\n",
    "    return np.concatenate([[0], rets])"
   ]
  },
  {
   "cell_type": "code",
   "execution_count": null,
   "id": "31e1ecbb",
   "metadata": {},
   "outputs": [],
   "source": [
    "#calcul du gradient de theta, pour update theta avec un poids alpha (learning_rate), S est le sharpe\n",
    "def gradient(x, theta, delta):\n",
    "    Ft = positions(x, theta)\n",
    "    R = returns(Ft, x, delta)\n",
    "    T = len(x)\n",
    "    M = len(theta) - 2\n",
    "    \n",
    "    A = np.mean(R)\n",
    "    B = np.mean(np.square(R))\n",
    "    S = A / np.sqrt(B - A ** 2)\n",
    "\n",
    "    dSdA = S * (1 + S ** 2) / A\n",
    "    dSdB = -S ** 3 / 2 / A ** 2\n",
    "    dAdR = 1. / T\n",
    "    dBdR = 2. / T * R\n",
    "    \n",
    "    grad = np.zeros(M + 2)\n",
    "    dFpdtheta = np.zeros(M + 2)  \n",
    "    \n",
    "    for t in range(M, T):\n",
    "        xt = np.concatenate([[1], x[t - M:t], [Ft[t-1]]])\n",
    "        dRdF = -delta * np.sign(Ft[t] - Ft[t-1])\n",
    "        dRdFp = x[t] + delta * np.sign(Ft[t] - Ft[t-1])\n",
    "        dFdtheta = (1 - Ft[t] ** 2) * (xt + theta[-1] * dFpdtheta)\n",
    "        dSdtheta = (dSdA * dAdR + dSdB * dBdR[t]) * (dRdF * dFdtheta + dRdFp * dFpdtheta)\n",
    "        grad = grad + dSdtheta\n",
    "        dFpdtheta = dFdtheta\n",
    "\n",
    "        \n",
    "    return grad, S"
   ]
  },
  {
   "cell_type": "code",
   "execution_count": null,
   "id": "cf8d90d2",
   "metadata": {},
   "outputs": [],
   "source": [
    "def train(x, epochs=2000, M=8, commission=0.0025, learning_rate = 0.3):\n",
    "    theta = np.random.rand(M + 2) #initialisation aléatoire des poids\n",
    "    sharpes = np.zeros(epochs) #stockage des sharpe\n",
    "    for i in range(epochs):\n",
    "        grad, sharpe = gradient(x, theta, commission)\n",
    "        theta = theta + grad * learning_rate\n",
    "\n",
    "        sharpes[i] = sharpe\n",
    "    \n",
    "    \n",
    "    print(\"finished training\")\n",
    "    return theta, sharpes"
   ]
  },
  {
   "cell_type": "code",
   "execution_count": null,
   "id": "66627d98",
   "metadata": {},
   "outputs": [],
   "source": []
  }
 ],
 "metadata": {
  "kernelspec": {
   "display_name": "Python 3 (Spyder)",
   "language": "python3",
   "name": "python3"
  },
  "language_info": {
   "codemirror_mode": {
    "name": "ipython",
    "version": 3
   },
   "file_extension": ".py",
   "mimetype": "text/x-python",
   "name": "python",
   "nbconvert_exporter": "python",
   "pygments_lexer": "ipython3",
   "version": "3.9.16"
  }
 },
 "nbformat": 4,
 "nbformat_minor": 5
}
