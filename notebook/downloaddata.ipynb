{
 "cells": [
  {
   "cell_type": "code",
   "execution_count": null,
   "id": "ec2870fe",
   "metadata": {},
   "outputs": [],
   "source": [
    "pip install python-binance"
   ]
  },
  {
   "cell_type": "code",
   "execution_count": 7,
   "id": "3087f1d9",
   "metadata": {},
   "outputs": [],
   "source": [
    "import pandas as pd\n",
    "from binance.client import Client\n",
    "from tqdm import tqdm\n",
    "client = Client()"
   ]
  },
  {
   "cell_type": "code",
   "execution_count": 44,
   "id": "af0260fb",
   "metadata": {},
   "outputs": [],
   "source": [
    "def download_symbol_data(symbol, start = \"01 january 2018\", interval = Client.KLINE_INTERVAL_1HOUR):\n",
    "    klinesT = client.get_historical_klines(symbol, interval, start)\n",
    "    df = pd.DataFrame(klinesT, columns = ['timestamp', 'open', 'high', 'low', 'close', 'volume', 'close_time', 'quote_av', 'trades', 'tb_base_av', 'tb_quote_av', 'ignore'])\n",
    "    df = df.set_index(df['timestamp'])\n",
    "    df.index = pd.to_datetime(df.index, unit='ms')\n",
    "    del df['timestamp']\n",
    "    \n",
    "    return df\n",
    "\n",
    "def save_data_pickle(df, symbol):\n",
    "    df.to_pickle(f'usdt_data/{symbol}.pickle')\n",
    "\n",
    "def save_data_features_pickle(df, symbol):\n",
    "    df.to_pickle(f'usdt_data_features/{symbol}.pickle')\n",
    "    \n",
    "def download_symbols_data(symbols):\n",
    "    for symbol in tqdm(symbols):\n",
    "        try:\n",
    "            download_symbol_data(symbol)\n",
    "        except:\n",
    "            print(':)')\n",
    "\n",
    "def update_data_symbol(symbol):\n",
    "    lastindex = pd.read_pickle(f'usdt_data/{symbol}.pickle').index[-1]\n",
    "    lastdata = download_symbol_data(symbol, start = str(lastindex))\n",
    "    current_data = pd.read_pickle(f'usdt_data/{symbol}.pickle')\n",
    "    newdf = pd.concat([current_data,lastdata],axis=0)\n",
    "    save_data_pickle(newdf, symbol)\n",
    "    \n",
    "    return newdf\n",
    "\n",
    "def update_data(symbols):\n",
    "    for symbol in symbols:\n",
    "            update_data_symbol(symbol)\n"
   ]
  },
  {
   "cell_type": "code",
   "execution_count": 46,
   "id": "0406949a",
   "metadata": {},
   "outputs": [],
   "source": [
    "update_data(usdt_symbols)"
   ]
  },
  {
   "cell_type": "code",
   "execution_count": null,
   "id": "ed86b590",
   "metadata": {},
   "outputs": [],
   "source": []
  }
 ],
 "metadata": {
  "kernelspec": {
   "display_name": "Python 3 (Spyder)",
   "language": "python3",
   "name": "python3"
  },
  "language_info": {
   "codemirror_mode": {
    "name": "ipython",
    "version": 3
   },
   "file_extension": ".py",
   "mimetype": "text/x-python",
   "name": "python",
   "nbconvert_exporter": "python",
   "pygments_lexer": "ipython3",
   "version": "3.9.13"
  }
 },
 "nbformat": 4,
 "nbformat_minor": 5
}
