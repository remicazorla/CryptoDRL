{
 "cells": [
  {
   "cell_type": "code",
   "execution_count": 6,
   "id": "71d1b389",
   "metadata": {},
   "outputs": [
    {
     "ename": "FileNotFoundError",
     "evalue": "[WinError 3] Le chemin d’accès spécifié est introuvable: 'data/usdt_data_features'",
     "output_type": "error",
     "traceback": [
      "Traceback \u001b[1;36m(most recent call last)\u001b[0m:\n",
      "\u001b[1;36m  File \u001b[1;32m~\\Documents\\GitHub\\CryptoDRL\\CryptoDRL\\notebook\\..\\lib\\download.py:26\u001b[1;36m in \u001b[1;35mget_symbol\u001b[1;36m\n\u001b[1;33m    with open(PATH_SYMBOL, \"r\") as f:\u001b[1;36m\n",
      "\u001b[1;31mFileNotFoundError\u001b[0m\u001b[1;31m:\u001b[0m [Errno 2] No such file or directory: 'data/symbols.csv'\n",
      "\nDuring handling of the above exception, another exception occurred:\n",
      "Traceback \u001b[1;36m(most recent call last)\u001b[0m:\n",
      "\u001b[0m  Cell \u001b[0;32mIn[6], line 10\u001b[0m\n    from lib.download import *\u001b[0m\n",
      "\u001b[0m  File \u001b[0;32m~\\Documents\\GitHub\\CryptoDRL\\CryptoDRL\\notebook\\..\\lib\\download.py:57\u001b[0m\n    def save_symbol(symbols = get_symbol()):\u001b[0m\n",
      "\u001b[1;36m  File \u001b[1;32m~\\Documents\\GitHub\\CryptoDRL\\CryptoDRL\\notebook\\..\\lib\\download.py:33\u001b[1;36m in \u001b[1;35mget_symbol\u001b[1;36m\n\u001b[1;33m    files = os.listdir(folder_path)\u001b[1;36m\n",
      "\u001b[1;31mFileNotFoundError\u001b[0m\u001b[1;31m:\u001b[0m [WinError 3] Le chemin d’accès spécifié est introuvable: 'data/usdt_data_features'\n"
     ]
    }
   ],
   "source": [
    "from sklearn.preprocessing import MinMaxScaler\n",
    "from tsfresh import select_features\n",
    "from tsfresh.feature_extraction import extract_features\n",
    "import keras\n",
    "from tensorflow.keras import layers\n",
    "from tensorflow import keras\n",
    "import pandas as pd\n",
    "import sys\n",
    "sys.path.append('..')\n",
    "from lib.download import *\n",
    "from indicators.indicators import get_pair_tickers\n",
    "\n",
    "usdt_tickers = get_pair_tickers()\n",
    "data = pd.read_pickle(f'data/usdt_data_features/{usdt_tickers[3]}.pickle').astype(float)\n",
    "data = data.dropna()\n",
    "data = (data - data.mean()) / data.std()\n",
    "data = data.T.dropna().T\n",
    "train_data = data.iloc[:int(data.shape[0] * 0.8), :]\n",
    "test_data = data.iloc[int(data.shape[0] * 0.8):, :]"
   ]
  },
  {
   "cell_type": "code",
   "execution_count": 3,
   "id": "8edaf37a",
   "metadata": {},
   "outputs": [
    {
     "ename": "FileNotFoundError",
     "evalue": "[WinError 3] Le chemin d’accès spécifié est introuvable: 'data/usdt_data_features'",
     "output_type": "error",
     "traceback": [
      "Traceback \u001b[1;36m(most recent call last)\u001b[0m:\n",
      "\u001b[1;36m  File \u001b[1;32m~\\Documents\\GitHub\\CryptoDRL\\CryptoDRL\\notebook\\..\\lib\\download.py:26\u001b[1;36m in \u001b[1;35mget_symbol\u001b[1;36m\n\u001b[1;33m    with open(PATH_SYMBOL, \"r\") as f:\u001b[1;36m\n",
      "\u001b[1;31mFileNotFoundError\u001b[0m\u001b[1;31m:\u001b[0m [Errno 2] No such file or directory: 'data/symbols.csv'\n",
      "\nDuring handling of the above exception, another exception occurred:\n",
      "Traceback \u001b[1;36m(most recent call last)\u001b[0m:\n",
      "\u001b[0m  Cell \u001b[0;32mIn[3], line 1\u001b[0m\n    from lib.download import update_data_features\u001b[0m\n",
      "\u001b[0m  File \u001b[0;32m~\\Documents\\GitHub\\CryptoDRL\\CryptoDRL\\notebook\\..\\lib\\download.py:57\u001b[0m\n    def save_symbol(symbols = get_symbol()):\u001b[0m\n",
      "\u001b[1;36m  File \u001b[1;32m~\\Documents\\GitHub\\CryptoDRL\\CryptoDRL\\notebook\\..\\lib\\download.py:33\u001b[1;36m in \u001b[1;35mget_symbol\u001b[1;36m\n\u001b[1;33m    files = os.listdir(folder_path)\u001b[1;36m\n",
      "\u001b[1;31mFileNotFoundError\u001b[0m\u001b[1;31m:\u001b[0m [WinError 3] Le chemin d’accès spécifié est introuvable: 'data/usdt_data_features'\n"
     ]
    }
   ],
   "source": [
    "from lib.download import update_data_features\n",
    "update_data_features(symbols=get_symbol())"
   ]
  },
  {
   "cell_type": "code",
   "execution_count": 106,
   "id": "a34e49b3",
   "metadata": {},
   "outputs": [],
   "source": [
    "def sampling(args):\n",
    "    z_mean, z_log_var = args\n",
    "    batch = keras.backend.shape(z_mean)[0]\n",
    "    dim = keras.backend.int_shape(z_mean)[1]\n",
    "    epsilon = keras.backend.random_normal(shape=(batch, dim))\n",
    "    return z_mean + keras.backend.exp(0.5 * z_log_var) * epsilon\n",
    "\n",
    "def train_vae(latent_dim, train_data, test_data):\n",
    "    encoder_inputs = keras.Input(shape=(train_data.shape[1],))\n",
    "    x = layers.Dense(256, activation=\"relu\")(encoder_inputs)\n",
    "    x = layers.Dense(128, activation=\"relu\")(x)\n",
    "    x = layers.Dense(64, activation=\"relu\")(x)\n",
    "    z_mean = layers.Dense(latent_dim)(x)\n",
    "    z_log_var = layers.Dense(latent_dim)(x)\n",
    "\n",
    "    encoder = keras.Model(encoder_inputs, [z_mean, z_log_var], name=\"encoder\")\n",
    "\n",
    "    latent_inputs = keras.Input(shape=(latent_dim,))\n",
    "    x = layers.Dense(64, activation=\"relu\")(latent_inputs)\n",
    "    x = layers.Dense(128, activation=\"relu\")(x)\n",
    "    x = layers.Dense(256, activation=\"relu\")(x)\n",
    "    decoder_outputs = layers.Dense(train_data.shape[1])(x)\n",
    "\n",
    "    decoder = keras.Model(latent_inputs, decoder_outputs, name=\"decoder\")\n",
    "\n",
    "    encoder_outputs = encoder(encoder_inputs)\n",
    "    latent_outputs = encoder_outputs[0]\n",
    "    latent_outputs = keras.layers.Lambda(sampling, output_shape=(latent_dim,))([z_mean, z_log_var])\n",
    "    decoder_outputs = decoder(latent_outputs)\n",
    "\n",
    "    vae = keras.Model(encoder_inputs, decoder_outputs, name=\"vae\")\n",
    "\n",
    "    vae.compile(optimizer=\"adam\", loss=\"mse\")\n",
    "    history = vae.fit(train_data, train_data, epochs=100, batch_size=64, validation_data=(test_data, test_data))#, verbose=0)\n",
    "    last_10_epochs_loss = history.history['val_loss'][-10:]\n",
    "    mean_loss = np.mean(last_10_epochs_loss)\n",
    "    return mean_loss, encoder, history"
   ]
  },
  {
   "cell_type": "code",
   "execution_count": 3,
   "id": "8d195b69",
   "metadata": {},
   "outputs": [
    {
     "name": "stderr",
     "output_type": "stream",
     "text": [
      "100%|██████████| 15/15 [29:23<00:00, 117.56s/it]\n"
     ]
    }
   ],
   "source": [
    "import numpy as np\n",
    "latent_dims=[x*3 for x in range(5,20)]\n",
    "losss=[]\n",
    "for latent_dim in tqdm(latent_dims):\n",
    "    mean_loss, encoder, history = train_vae(latent_dim, train_data, test_data)\n",
    "    losss.append([mean_loss, latent_dim])"
   ]
  },
  {
   "cell_type": "code",
   "execution_count": 11,
   "id": "e33a413f",
   "metadata": {},
   "outputs": [
    {
     "data": {
      "text/plain": [
       "<matplotlib.collections.PathCollection at 0x169dcebd640>"
      ]
     },
     "execution_count": 11,
     "metadata": {},
     "output_type": "execute_result"
    },
    {
     "data": {
      "image/png": "[encoded data removed]",
      "text/plain": [
       "<Figure size 432x288 with 1 Axes>"
      ]
     },
     "metadata": {},
     "output_type": "display_data"
    }
   ],
   "source": [
    "import matplotlib.pyplot as plt\n",
    "plt.scatter(np.array(losss).T[1], np.array(losss).T[0])"
   ]
  },
  {
   "cell_type": "code",
   "execution_count": 18,
   "id": "f7fec8b3",
   "metadata": {},
   "outputs": [
    {
     "data": {
      "text/plain": [
       "39"
      ]
     },
     "execution_count": 18,
     "metadata": {},
     "output_type": "execute_result"
    }
   ],
   "source": [
    "3*np.argmin(np.array(losss).T[0])"
   ]
  },
  {
   "cell_type": "code",
   "execution_count": 107,
   "id": "f08c7cb1",
   "metadata": {},
   "outputs": [
    {
     "name": "stdout",
     "output_type": "stream",
     "text": [
      "Epoch 1/100\n",
      "449/449 [==============================] - 2s 4ms/step - loss: 0.4645 - val_loss: 0.3316\n",
      "Epoch 2/100\n",
      "449/449 [==============================] - 1s 3ms/step - loss: 0.3055 - val_loss: 0.2733\n",
      "Epoch 3/100\n",
      "449/449 [==============================] - 1s 3ms/step - loss: 0.2650 - val_loss: 0.2485\n",
      "Epoch 4/100\n",
      "449/449 [==============================] - 1s 3ms/step - loss: 0.2195 - val_loss: 0.2182\n",
      "Epoch 5/100\n",
      "449/449 [==============================] - 1s 3ms/step - loss: 0.2020 - val_loss: 0.2842\n",
      "Epoch 6/100\n",
      "449/449 [==============================] - 1s 3ms/step - loss: 0.2396 - val_loss: 0.2092\n",
      "Epoch 7/100\n",
      "449/449 [==============================] - 1s 3ms/step - loss: 0.2056 - val_loss: 0.3998\n",
      "Epoch 8/100\n",
      "449/449 [==============================] - 1s 3ms/step - loss: 0.2393 - val_loss: 0.2478\n",
      "Epoch 9/100\n",
      "449/449 [==============================] - 1s 3ms/step - loss: 0.2133 - val_loss: 0.1907\n",
      "Epoch 10/100\n",
      "449/449 [==============================] - 1s 3ms/step - loss: 0.1606 - val_loss: 0.2165\n",
      "Epoch 11/100\n",
      "449/449 [==============================] - 1s 3ms/step - loss: 0.1803 - val_loss: 0.1984\n",
      "Epoch 12/100\n",
      "449/449 [==============================] - 1s 3ms/step - loss: 0.1964 - val_loss: 0.2351\n",
      "Epoch 13/100\n",
      "449/449 [==============================] - 1s 3ms/step - loss: 0.1765 - val_loss: 0.1598\n",
      "Epoch 14/100\n",
      "449/449 [==============================] - 1s 3ms/step - loss: 0.1536 - val_loss: 0.1534\n",
      "Epoch 15/100\n",
      "449/449 [==============================] - 1s 3ms/step - loss: 0.1815 - val_loss: 0.1726\n",
      "Epoch 16/100\n",
      "449/449 [==============================] - 1s 3ms/step - loss: 0.1434 - val_loss: 0.1770\n",
      "Epoch 17/100\n",
      "449/449 [==============================] - 2s 3ms/step - loss: 0.1410 - val_loss: 0.1477\n",
      "Epoch 18/100\n",
      "449/449 [==============================] - 2s 4ms/step - loss: 0.1330 - val_loss: 0.1479\n",
      "Epoch 19/100\n",
      "449/449 [==============================] - 2s 4ms/step - loss: 0.1308 - val_loss: 0.1382\n",
      "Epoch 20/100\n",
      "449/449 [==============================] - 2s 4ms/step - loss: 0.1378 - val_loss: 0.1323\n",
      "Epoch 21/100\n",
      "449/449 [==============================] - 1s 3ms/step - loss: 0.1250 - val_loss: 0.1329\n",
      "Epoch 22/100\n",
      "449/449 [==============================] - 2s 4ms/step - loss: 0.1194 - val_loss: 0.1341\n",
      "Epoch 23/100\n",
      "449/449 [==============================] - 1s 3ms/step - loss: 0.1237 - val_loss: 0.1222\n",
      "Epoch 24/100\n",
      "449/449 [==============================] - 1s 3ms/step - loss: 0.1233 - val_loss: 0.1212\n",
      "Epoch 25/100\n",
      "449/449 [==============================] - 1s 3ms/step - loss: 0.1171 - val_loss: 0.1313\n",
      "Epoch 26/100\n",
      "449/449 [==============================] - 1s 3ms/step - loss: 0.1278 - val_loss: 0.1339\n",
      "Epoch 27/100\n",
      "449/449 [==============================] - 1s 3ms/step - loss: 0.1250 - val_loss: 0.1302\n",
      "Epoch 28/100\n",
      "449/449 [==============================] - 1s 3ms/step - loss: 0.1347 - val_loss: 0.1286\n",
      "Epoch 29/100\n",
      "449/449 [==============================] - 1s 3ms/step - loss: 0.1210 - val_loss: 0.1213\n",
      "Epoch 30/100\n",
      "449/449 [==============================] - 1s 3ms/step - loss: 0.1422 - val_loss: 0.1171\n",
      "Epoch 31/100\n",
      "449/449 [==============================] - 1s 3ms/step - loss: 0.1108 - val_loss: 0.1299\n",
      "Epoch 32/100\n",
      "449/449 [==============================] - 1s 3ms/step - loss: 0.1189 - val_loss: 0.1238\n",
      "Epoch 33/100\n",
      "449/449 [==============================] - 1s 3ms/step - loss: 0.1668 - val_loss: 0.1592\n",
      "Epoch 34/100\n",
      "449/449 [==============================] - 1s 3ms/step - loss: 0.1269 - val_loss: 0.1320\n",
      "Epoch 35/100\n",
      "449/449 [==============================] - 1s 3ms/step - loss: 0.1087 - val_loss: 0.1298\n",
      "Epoch 36/100\n",
      "449/449 [==============================] - 1s 3ms/step - loss: 0.1042 - val_loss: 0.1518\n",
      "Epoch 37/100\n",
      "449/449 [==============================] - 1s 3ms/step - loss: 0.1088 - val_loss: 0.1170\n",
      "Epoch 38/100\n",
      "449/449 [==============================] - 1s 3ms/step - loss: 0.0916 - val_loss: 0.1263\n",
      "Epoch 39/100\n",
      "449/449 [==============================] - 1s 3ms/step - loss: 0.1012 - val_loss: 0.1121\n",
      "Epoch 40/100\n",
      "449/449 [==============================] - 1s 3ms/step - loss: 0.1028 - val_loss: 0.1389\n",
      "Epoch 41/100\n",
      "449/449 [==============================] - 2s 3ms/step - loss: 0.1503 - val_loss: 0.1053\n",
      "Epoch 42/100\n",
      "449/449 [==============================] - 1s 3ms/step - loss: 0.1013 - val_loss: 0.1220\n",
      "Epoch 43/100\n",
      "449/449 [==============================] - 1s 3ms/step - loss: 0.1038 - val_loss: 0.1015\n",
      "Epoch 44/100\n",
      "449/449 [==============================] - 1s 3ms/step - loss: 0.0923 - val_loss: 0.0949\n",
      "Epoch 45/100\n",
      "449/449 [==============================] - 1s 3ms/step - loss: 0.0870 - val_loss: 0.0992\n",
      "Epoch 46/100\n",
      "449/449 [==============================] - 1s 3ms/step - loss: 0.0863 - val_loss: 0.1123\n",
      "Epoch 47/100\n",
      "449/449 [==============================] - 1s 3ms/step - loss: 0.1423 - val_loss: 0.1398\n",
      "Epoch 48/100\n",
      "449/449 [==============================] - 1s 3ms/step - loss: 0.1282 - val_loss: 0.1175\n",
      "Epoch 49/100\n",
      "449/449 [==============================] - 1s 3ms/step - loss: 0.1140 - val_loss: 0.1075\n",
      "Epoch 50/100\n",
      "449/449 [==============================] - 1s 3ms/step - loss: 0.1024 - val_loss: 0.1353\n",
      "Epoch 51/100\n",
      "449/449 [==============================] - 1s 3ms/step - loss: 0.1157 - val_loss: 0.1100\n",
      "Epoch 52/100\n",
      "449/449 [==============================] - 1s 3ms/step - loss: 0.0988 - val_loss: 0.1007\n",
      "Epoch 53/100\n",
      "449/449 [==============================] - 1s 3ms/step - loss: 0.0992 - val_loss: 0.1098\n",
      "Epoch 54/100\n",
      "449/449 [==============================] - 1s 3ms/step - loss: 0.1223 - val_loss: 0.2037\n",
      "Epoch 55/100\n",
      "449/449 [==============================] - 1s 3ms/step - loss: 0.0917 - val_loss: 0.1078\n",
      "Epoch 56/100\n",
      "449/449 [==============================] - 1s 3ms/step - loss: 0.0841 - val_loss: 0.1054\n",
      "Epoch 57/100\n",
      "449/449 [==============================] - 2s 3ms/step - loss: 0.0915 - val_loss: 0.1196\n",
      "Epoch 58/100\n",
      "449/449 [==============================] - 1s 3ms/step - loss: 0.1015 - val_loss: 0.1034\n",
      "Epoch 59/100\n",
      "449/449 [==============================] - 1s 3ms/step - loss: 0.1057 - val_loss: 0.1231\n",
      "Epoch 60/100\n",
      "449/449 [==============================] - 1s 3ms/step - loss: 0.0955 - val_loss: 0.1160\n",
      "Epoch 61/100\n",
      "449/449 [==============================] - 1s 3ms/step - loss: 0.1170 - val_loss: 0.1184\n",
      "Epoch 62/100\n",
      "449/449 [==============================] - 2s 4ms/step - loss: 0.0998 - val_loss: 0.1472\n",
      "Epoch 63/100\n",
      "449/449 [==============================] - 2s 4ms/step - loss: 0.0952 - val_loss: 0.1192\n",
      "Epoch 64/100\n",
      "449/449 [==============================] - 1s 3ms/step - loss: 0.3872 - val_loss: 0.1217\n",
      "Epoch 65/100\n",
      "449/449 [==============================] - 2s 4ms/step - loss: 0.0891 - val_loss: 0.1135\n",
      "Epoch 66/100\n",
      "449/449 [==============================] - 2s 4ms/step - loss: 0.0910 - val_loss: 0.1037\n",
      "Epoch 67/100\n",
      "449/449 [==============================] - 1s 3ms/step - loss: 0.1075 - val_loss: 0.1038\n",
      "Epoch 68/100\n",
      "449/449 [==============================] - 1s 3ms/step - loss: 0.2354 - val_loss: 0.0981\n",
      "Epoch 69/100\n",
      "449/449 [==============================] - 1s 3ms/step - loss: 0.0997 - val_loss: 0.1194\n",
      "Epoch 70/100\n",
      "449/449 [==============================] - 1s 3ms/step - loss: 0.0959 - val_loss: 0.1118\n",
      "Epoch 71/100\n",
      "449/449 [==============================] - 1s 3ms/step - loss: 0.0822 - val_loss: 0.1014\n",
      "Epoch 72/100\n",
      "449/449 [==============================] - 1s 3ms/step - loss: 0.0978 - val_loss: 0.1017\n",
      "Epoch 73/100\n",
      "449/449 [==============================] - 1s 3ms/step - loss: 0.0930 - val_loss: 0.1027\n",
      "Epoch 74/100\n",
      "449/449 [==============================] - 1s 3ms/step - loss: 0.0766 - val_loss: 0.1373\n",
      "Epoch 75/100\n",
      "449/449 [==============================] - 1s 3ms/step - loss: 0.0761 - val_loss: 0.0966\n",
      "Epoch 76/100\n",
      "449/449 [==============================] - 1s 3ms/step - loss: 0.0724 - val_loss: 0.0970\n",
      "Epoch 77/100\n",
      "449/449 [==============================] - 1s 3ms/step - loss: 0.0864 - val_loss: 0.1050\n",
      "Epoch 78/100\n",
      "449/449 [==============================] - 1s 3ms/step - loss: 0.0727 - val_loss: 0.0935\n",
      "Epoch 79/100\n",
      "449/449 [==============================] - 1s 3ms/step - loss: 0.0675 - val_loss: 0.0892\n",
      "Epoch 80/100\n",
      "449/449 [==============================] - 1s 3ms/step - loss: 0.4013 - val_loss: 0.1156\n",
      "Epoch 81/100\n",
      "449/449 [==============================] - 1s 3ms/step - loss: 0.1237 - val_loss: 0.1047\n",
      "Epoch 82/100\n",
      "449/449 [==============================] - 1s 3ms/step - loss: 0.0972 - val_loss: 0.1027\n",
      "Epoch 83/100\n",
      "449/449 [==============================] - 1s 3ms/step - loss: 0.0836 - val_loss: 0.1547\n",
      "Epoch 84/100\n",
      "449/449 [==============================] - 1s 3ms/step - loss: 0.0918 - val_loss: 0.0913\n",
      "Epoch 85/100\n",
      "449/449 [==============================] - 1s 3ms/step - loss: 0.0884 - val_loss: 0.0908\n",
      "Epoch 86/100\n",
      "449/449 [==============================] - 1s 3ms/step - loss: 0.0867 - val_loss: 0.1043\n",
      "Epoch 87/100\n",
      "449/449 [==============================] - 1s 3ms/step - loss: 0.0935 - val_loss: 0.1231\n",
      "Epoch 88/100\n",
      "449/449 [==============================] - 1s 3ms/step - loss: 0.0819 - val_loss: 0.0946\n",
      "Epoch 89/100\n",
      "449/449 [==============================] - 1s 3ms/step - loss: 0.0678 - val_loss: 0.0996\n",
      "Epoch 90/100\n",
      "449/449 [==============================] - 1s 3ms/step - loss: 0.0876 - val_loss: 0.0871\n",
      "Epoch 91/100\n",
      "449/449 [==============================] - 1s 3ms/step - loss: 0.0820 - val_loss: 0.1133\n",
      "Epoch 92/100\n",
      "449/449 [==============================] - 1s 3ms/step - loss: 0.0835 - val_loss: 0.0986\n",
      "Epoch 93/100\n",
      "449/449 [==============================] - 1s 3ms/step - loss: 0.0806 - val_loss: 0.0918\n",
      "Epoch 94/100\n",
      "449/449 [==============================] - 1s 3ms/step - loss: 0.0805 - val_loss: 0.0864\n",
      "Epoch 95/100\n",
      "449/449 [==============================] - 1s 3ms/step - loss: 0.0841 - val_loss: 0.1016\n",
      "Epoch 96/100\n",
      "449/449 [==============================] - 1s 3ms/step - loss: 0.0812 - val_loss: 0.1015\n",
      "Epoch 97/100\n",
      "449/449 [==============================] - 1s 3ms/step - loss: 0.0757 - val_loss: 0.0836\n",
      "Epoch 98/100\n",
      "449/449 [==============================] - 1s 3ms/step - loss: 0.0828 - val_loss: 0.0860\n",
      "Epoch 99/100\n",
      "449/449 [==============================] - 1s 3ms/step - loss: 0.0994 - val_loss: 0.0903\n",
      "Epoch 100/100\n",
      "449/449 [==============================] - 1s 3ms/step - loss: 0.0851 - val_loss: 0.0957\n"
     ]
    }
   ],
   "source": [
    "mean_loss, encore, history = train_vae(39, train_data, test_data)"
   ]
  },
  {
   "cell_type": "code",
   "execution_count": 108,
   "id": "cdad6b9a",
   "metadata": {},
   "outputs": [
    {
     "data": {
      "image/png": "[encoded data removed]",
      "text/plain": [
       "<Figure size 432x288 with 1 Axes>"
      ]
     },
     "metadata": {},
     "output_type": "display_data"
    }
   ],
   "source": [
    "import matplotlib.pyplot as plt\n",
    "# Plot the reconstruction loss\n",
    "plt.plot(history.history['loss'], label='Training loss')\n",
    "plt.plot(history.history['val_loss'], label='Validation loss')\n",
    "plt.title('Reconstruction loss')\n",
    "plt.xlabel('Epoch')\n",
    "plt.ylabel('Loss')\n",
    "plt.legend()\n",
    "plt.show()"
   ]
  },
  {
   "cell_type": "code",
   "execution_count": 109,
   "id": "028daead",
   "metadata": {},
   "outputs": [
    {
     "name": "stdout",
     "output_type": "stream",
     "text": [
      "897/897 [==============================] - 1s 962us/step\n",
      "225/225 [==============================] - 0s 1ms/step\n"
     ]
    },
    {
     "data": {
      "text/html": [
       "<div>\n",
       "<style scoped>\n",
       "    .dataframe tbody tr th:only-of-type {\n",
       "        vertical-align: middle;\n",
       "    }\n",
       "\n",
       "    .dataframe tbody tr th {\n",
       "        vertical-align: top;\n",
       "    }\n",
       "\n",
       "    .dataframe thead th {\n",
       "        text-align: right;\n",
       "    }\n",
       "</style>\n",
       "<table border=\"1\" class=\"dataframe\">\n",
       "  <thead>\n",
       "    <tr style=\"text-align: right;\">\n",
       "      <th></th>\n",
       "      <th>0</th>\n",
       "      <th>1</th>\n",
       "      <th>2</th>\n",
       "      <th>3</th>\n",
       "      <th>4</th>\n",
       "      <th>5</th>\n",
       "      <th>6</th>\n",
       "      <th>7</th>\n",
       "      <th>8</th>\n",
       "      <th>9</th>\n",
       "      <th>10</th>\n",
       "      <th>11</th>\n",
       "      <th>12</th>\n",
       "      <th>13</th>\n",
       "      <th>14</th>\n",
       "      <th>15</th>\n",
       "      <th>16</th>\n",
       "      <th>17</th>\n",
       "      <th>18</th>\n",
       "      <th>19</th>\n",
       "      <th>20</th>\n",
       "      <th>21</th>\n",
       "      <th>22</th>\n",
       "      <th>23</th>\n",
       "      <th>24</th>\n",
       "      <th>25</th>\n",
       "      <th>26</th>\n",
       "      <th>27</th>\n",
       "      <th>28</th>\n",
       "      <th>29</th>\n",
       "      <th>30</th>\n",
       "      <th>31</th>\n",
       "      <th>32</th>\n",
       "      <th>33</th>\n",
       "      <th>34</th>\n",
       "      <th>35</th>\n",
       "      <th>36</th>\n",
       "      <th>37</th>\n",
       "      <th>38</th>\n",
       "    </tr>\n",
       "    <tr>\n",
       "      <th>timestamp</th>\n",
       "      <th></th>\n",
       "      <th></th>\n",
       "      <th></th>\n",
       "      <th></th>\n",
       "      <th></th>\n",
       "      <th></th>\n",
       "      <th></th>\n",
       "      <th></th>\n",
       "      <th></th>\n",
       "      <th></th>\n",
       "      <th></th>\n",
       "      <th></th>\n",
       "      <th></th>\n",
       "      <th></th>\n",
       "      <th></th>\n",
       "      <th></th>\n",
       "      <th></th>\n",
       "      <th></th>\n",
       "      <th></th>\n",
       "      <th></th>\n",
       "      <th></th>\n",
       "      <th></th>\n",
       "      <th></th>\n",
       "      <th></th>\n",
       "      <th></th>\n",
       "      <th></th>\n",
       "      <th></th>\n",
       "      <th></th>\n",
       "      <th></th>\n",
       "      <th></th>\n",
       "      <th></th>\n",
       "      <th></th>\n",
       "      <th></th>\n",
       "      <th></th>\n",
       "      <th></th>\n",
       "      <th></th>\n",
       "      <th></th>\n",
       "      <th></th>\n",
       "      <th></th>\n",
       "    </tr>\n",
       "  </thead>\n",
       "  <tbody>\n",
       "    <tr>\n",
       "      <th>2023-01-24 12:00:00</th>\n",
       "      <td>2.708541</td>\n",
       "      <td>3.833568</td>\n",
       "      <td>-3.889508</td>\n",
       "      <td>1.800808</td>\n",
       "      <td>0.675807</td>\n",
       "      <td>-0.439657</td>\n",
       "      <td>-0.766331</td>\n",
       "      <td>-0.488751</td>\n",
       "      <td>-4.944818</td>\n",
       "      <td>1.139741</td>\n",
       "      <td>7.762022</td>\n",
       "      <td>-0.332758</td>\n",
       "      <td>0.519605</td>\n",
       "      <td>1.118217</td>\n",
       "      <td>-2.784148</td>\n",
       "      <td>0.086705</td>\n",
       "      <td>-1.481560</td>\n",
       "      <td>-0.430333</td>\n",
       "      <td>1.055209</td>\n",
       "      <td>2.588193</td>\n",
       "      <td>0.774061</td>\n",
       "      <td>-0.206047</td>\n",
       "      <td>1.741665</td>\n",
       "      <td>-2.203450</td>\n",
       "      <td>-1.250325</td>\n",
       "      <td>0.468438</td>\n",
       "      <td>0.754649</td>\n",
       "      <td>0.061385</td>\n",
       "      <td>0.519228</td>\n",
       "      <td>-2.547283</td>\n",
       "      <td>1.403308</td>\n",
       "      <td>3.716915</td>\n",
       "      <td>-2.720252</td>\n",
       "      <td>-1.095918</td>\n",
       "      <td>-0.874499</td>\n",
       "      <td>-0.781940</td>\n",
       "      <td>-0.217129</td>\n",
       "      <td>-0.901891</td>\n",
       "      <td>-0.333552</td>\n",
       "    </tr>\n",
       "    <tr>\n",
       "      <th>2023-01-24 13:00:00</th>\n",
       "      <td>0.186071</td>\n",
       "      <td>2.089528</td>\n",
       "      <td>-2.717747</td>\n",
       "      <td>0.075429</td>\n",
       "      <td>0.122526</td>\n",
       "      <td>-0.957965</td>\n",
       "      <td>-0.481479</td>\n",
       "      <td>-0.110981</td>\n",
       "      <td>-6.154900</td>\n",
       "      <td>-0.449733</td>\n",
       "      <td>6.918820</td>\n",
       "      <td>0.730072</td>\n",
       "      <td>-0.609825</td>\n",
       "      <td>2.698234</td>\n",
       "      <td>-1.131761</td>\n",
       "      <td>1.584318</td>\n",
       "      <td>-0.504007</td>\n",
       "      <td>0.066250</td>\n",
       "      <td>1.124848</td>\n",
       "      <td>3.340880</td>\n",
       "      <td>0.226376</td>\n",
       "      <td>-0.019041</td>\n",
       "      <td>2.902889</td>\n",
       "      <td>-4.473303</td>\n",
       "      <td>-0.290358</td>\n",
       "      <td>0.934691</td>\n",
       "      <td>-0.020269</td>\n",
       "      <td>-0.618538</td>\n",
       "      <td>1.845581</td>\n",
       "      <td>-2.974583</td>\n",
       "      <td>0.691941</td>\n",
       "      <td>3.162427</td>\n",
       "      <td>-2.967301</td>\n",
       "      <td>1.134480</td>\n",
       "      <td>-1.177518</td>\n",
       "      <td>-0.033253</td>\n",
       "      <td>0.650506</td>\n",
       "      <td>-1.182144</td>\n",
       "      <td>-1.771460</td>\n",
       "    </tr>\n",
       "    <tr>\n",
       "      <th>2023-01-24 14:00:00</th>\n",
       "      <td>0.155231</td>\n",
       "      <td>1.289127</td>\n",
       "      <td>-2.972730</td>\n",
       "      <td>-0.275213</td>\n",
       "      <td>-0.443365</td>\n",
       "      <td>-0.849225</td>\n",
       "      <td>-0.617579</td>\n",
       "      <td>1.239641</td>\n",
       "      <td>-5.966458</td>\n",
       "      <td>-1.336563</td>\n",
       "      <td>8.344582</td>\n",
       "      <td>1.991305</td>\n",
       "      <td>-0.680005</td>\n",
       "      <td>1.501010</td>\n",
       "      <td>0.597325</td>\n",
       "      <td>2.332831</td>\n",
       "      <td>0.103002</td>\n",
       "      <td>0.043816</td>\n",
       "      <td>0.750761</td>\n",
       "      <td>3.938478</td>\n",
       "      <td>0.303744</td>\n",
       "      <td>0.516370</td>\n",
       "      <td>2.960310</td>\n",
       "      <td>-3.269495</td>\n",
       "      <td>0.926992</td>\n",
       "      <td>0.688233</td>\n",
       "      <td>-0.015962</td>\n",
       "      <td>-0.288110</td>\n",
       "      <td>2.132209</td>\n",
       "      <td>-1.728345</td>\n",
       "      <td>1.274279</td>\n",
       "      <td>2.661451</td>\n",
       "      <td>-3.649600</td>\n",
       "      <td>1.312841</td>\n",
       "      <td>-0.520428</td>\n",
       "      <td>0.618972</td>\n",
       "      <td>0.736343</td>\n",
       "      <td>-0.641797</td>\n",
       "      <td>-2.758691</td>\n",
       "    </tr>\n",
       "    <tr>\n",
       "      <th>2023-01-24 15:00:00</th>\n",
       "      <td>1.713950</td>\n",
       "      <td>2.651748</td>\n",
       "      <td>-4.695969</td>\n",
       "      <td>0.402887</td>\n",
       "      <td>1.686676</td>\n",
       "      <td>-2.778129</td>\n",
       "      <td>-1.482696</td>\n",
       "      <td>0.828004</td>\n",
       "      <td>-3.490202</td>\n",
       "      <td>-1.386660</td>\n",
       "      <td>10.883994</td>\n",
       "      <td>1.314728</td>\n",
       "      <td>-1.754210</td>\n",
       "      <td>-0.315885</td>\n",
       "      <td>-0.385359</td>\n",
       "      <td>0.934939</td>\n",
       "      <td>0.515663</td>\n",
       "      <td>-1.769475</td>\n",
       "      <td>-1.044403</td>\n",
       "      <td>2.414151</td>\n",
       "      <td>1.040259</td>\n",
       "      <td>-0.719236</td>\n",
       "      <td>3.448647</td>\n",
       "      <td>-0.799038</td>\n",
       "      <td>0.705680</td>\n",
       "      <td>0.028094</td>\n",
       "      <td>1.551540</td>\n",
       "      <td>-0.956146</td>\n",
       "      <td>1.196871</td>\n",
       "      <td>-2.344818</td>\n",
       "      <td>2.151270</td>\n",
       "      <td>3.267490</td>\n",
       "      <td>-3.453157</td>\n",
       "      <td>-0.542329</td>\n",
       "      <td>0.549315</td>\n",
       "      <td>-2.966976</td>\n",
       "      <td>0.482486</td>\n",
       "      <td>-0.833461</td>\n",
       "      <td>-0.976778</td>\n",
       "    </tr>\n",
       "    <tr>\n",
       "      <th>2023-01-24 16:00:00</th>\n",
       "      <td>2.014184</td>\n",
       "      <td>2.119113</td>\n",
       "      <td>-4.197031</td>\n",
       "      <td>0.160693</td>\n",
       "      <td>-1.828065</td>\n",
       "      <td>0.453111</td>\n",
       "      <td>0.118212</td>\n",
       "      <td>0.698689</td>\n",
       "      <td>-4.928053</td>\n",
       "      <td>-0.595569</td>\n",
       "      <td>10.397546</td>\n",
       "      <td>0.910546</td>\n",
       "      <td>-0.295591</td>\n",
       "      <td>1.956903</td>\n",
       "      <td>-0.161378</td>\n",
       "      <td>1.342060</td>\n",
       "      <td>-0.555552</td>\n",
       "      <td>-0.738270</td>\n",
       "      <td>3.188819</td>\n",
       "      <td>3.181230</td>\n",
       "      <td>1.084576</td>\n",
       "      <td>1.208201</td>\n",
       "      <td>1.795102</td>\n",
       "      <td>-4.207245</td>\n",
       "      <td>0.867884</td>\n",
       "      <td>-0.138422</td>\n",
       "      <td>-1.151515</td>\n",
       "      <td>-0.778062</td>\n",
       "      <td>2.730960</td>\n",
       "      <td>-1.292763</td>\n",
       "      <td>0.137769</td>\n",
       "      <td>3.005934</td>\n",
       "      <td>-3.052011</td>\n",
       "      <td>1.116137</td>\n",
       "      <td>-0.836890</td>\n",
       "      <td>-0.354250</td>\n",
       "      <td>0.600761</td>\n",
       "      <td>0.072115</td>\n",
       "      <td>-1.379932</td>\n",
       "    </tr>\n",
       "  </tbody>\n",
       "</table>\n",
       "</div>"
      ],
      "text/plain": [
       "                           0         1         2   ...        36        37        38\n",
       "timestamp                                          ...                              \n",
       "2023-01-24 12:00:00  2.708541  3.833568 -3.889508  ... -0.217129 -0.901891 -0.333552\n",
       "2023-01-24 13:00:00  0.186071  2.089528 -2.717747  ...  0.650506 -1.182144 -1.771460\n",
       "2023-01-24 14:00:00  0.155231  1.289127 -2.972730  ...  0.736343 -0.641797 -2.758691\n",
       "2023-01-24 15:00:00  1.713950  2.651748 -4.695969  ...  0.482486 -0.833461 -0.976778\n",
       "2023-01-24 16:00:00  2.014184  2.119113 -4.197031  ...  0.600761  0.072115 -1.379932\n",
       "\n",
       "[5 rows x 39 columns]"
      ]
     },
     "execution_count": 109,
     "metadata": {},
     "output_type": "execute_result"
    }
   ],
   "source": [
    "features_train = encore.predict(train_data)\n",
    "features_test = encore.predict(test_data)\n",
    "features = pd.concat([pd.DataFrame(features_train[0]), pd.DataFrame(features_test[0])],axis=0, ignore_index=True)\n",
    "features.index = data.index\n",
    "features.tail()"
   ]
  },
  {
   "cell_type": "code",
   "execution_count": 110,
   "id": "908eb6ad",
   "metadata": {},
   "outputs": [
    {
     "data": {
      "image/png": "[encoded data removed]",
      "text/plain": [
       "<Figure size 432x288 with 1 Axes>"
      ]
     },
     "metadata": {},
     "output_type": "display_data"
    }
   ],
   "source": [
    "from sklearn.cluster import KMeans\n",
    "from sklearn.preprocessing import StandardScaler\n",
    "from sklearn.metrics import explained_variance_score\n",
    "\n",
    "scaler = StandardScaler()\n",
    "\n",
    "data_returns = data['close'].pct_change().dropna()\n",
    "returns_data_scaled = scaler.fit_transform(np.array(data_returns).reshape(-1,1))\n",
    "\n",
    "explained_variance = []\n",
    "for i in range(2, 30):\n",
    "    kmeans = KMeans(n_clusters=i, random_state=0)\n",
    "    kmeans.fit(returns_data_scaled)\n",
    "    explained_variance.append(explained_variance_score(returns_data_scaled, kmeans.predict(returns_data_scaled)))\n",
    "  \n",
    "plt.plot(range(2, 30), explained_variance, marker='o')\n",
    "plt.xlabel('Number of clusters')\n",
    "plt.ylabel('Explained variance')\n",
    "plt.show()"
   ]
  },
  {
   "cell_type": "code",
   "execution_count": 111,
   "id": "2b99eaf7",
   "metadata": {},
   "outputs": [
    {
     "data": {
      "text/plain": [
       "[-0.00890139906044074,\n",
       " 0.002146873366157487,\n",
       " 0.00673663045761963,\n",
       " -0.0027124166285936724,\n",
       " -0.003349233126804796,\n",
       " -0.015656736929329007,\n",
       " -0.015070594964043504,\n",
       " -0.06608963543784085,\n",
       " -0.1153895122294013,\n",
       " -0.010923749760396673,\n",
       " -0.13088646937733328,\n",
       " -0.18392307577971923,\n",
       " -0.6489863366069251,\n",
       " -1.2279029061048665,\n",
       " -2.679878866315438,\n",
       " -2.5020876591862233,\n",
       " -3.888663626282187,\n",
       " -6.930225343658043,\n",
       " -7.166967123777072,\n",
       " -4.2203353017515575,\n",
       " -8.472475070718136,\n",
       " -10.067951690091673,\n",
       " -14.312335951990073,\n",
       " -21.545286998411083,\n",
       " -30.074808551631243,\n",
       " -44.671928094402304,\n",
       " -23.674271582494757,\n",
       " -52.62630025058217]"
      ]
     },
     "execution_count": 111,
     "metadata": {},
     "output_type": "execute_result"
    }
   ],
   "source": [
    "explained_variance"
   ]
  },
  {
   "cell_type": "code",
   "execution_count": null,
   "id": "cd8c4431",
   "metadata": {},
   "outputs": [],
   "source": [
    "polynomial + isolation cluster du au fait que je n'ai pas winsor les xcas extremes"
   ]
  },
  {
   "cell_type": "code",
   "execution_count": 73,
   "id": "c979530b",
   "metadata": {},
   "outputs": [
    {
     "data": {
      "text/plain": [
       "0     34954\n",
       "12      437\n",
       "14      290\n",
       "18       62\n",
       "11       40\n",
       "8        21\n",
       "20       15\n",
       "6         4\n",
       "15        4\n",
       "5         3\n",
       "10        3\n",
       "4         2\n",
       "19        2\n",
       "7         1\n",
       "9         1\n",
       "1         1\n",
       "13        1\n",
       "3         1\n",
       "16        1\n",
       "17        1\n",
       "2         1\n",
       "dtype: int64"
      ]
     },
     "execution_count": 73,
     "metadata": {},
     "output_type": "execute_result"
    }
   ],
   "source": [
    "kmeans = KMeans(n_clusters=21, random_state=0)\n",
    "clusters = kmeans.fit_predict(returns_data_scaled)\n",
    "pd.DataFrame(clusters).value_counts()"
   ]
  },
  {
   "cell_type": "code",
   "execution_count": 61,
   "id": "fa9da65c",
   "metadata": {},
   "outputs": [
    {
     "data": {
      "image/png": "[encoded data removed]",
      "text/plain": [
       "<Figure size 432x288 with 1 Axes>"
      ]
     },
     "metadata": {},
     "output_type": "display_data"
    }
   ],
   "source": [
    "class_ret_df = pd.concat([data_returns,pd.DataFrame(clusters, index=data_returns.index, columns=['class'])],axis=1)\n",
    "class_ret_df['prix'] = data['close'][data.index.isin(class_ret_df.index)]\n",
    "\n",
    "for i in range(8):\n",
    "    print(class_ret_df['close'][class_ret_df['class']==i].mean()*100)\n",
    "    \n",
    "class_ret_df['close'][class_ret_df['class']==7].hist(bins=50);"
   ]
  },
  {
   "cell_type": "code",
   "execution_count": 86,
   "id": "ae1b481c",
   "metadata": {},
   "outputs": [],
   "source": [
    "new_features = features.iloc[1:,:]\n",
    "new_features[\"class\"] = clusters"
   ]
  },
  {
   "cell_type": "code",
   "execution_count": 102,
   "id": "12acf6d1",
   "metadata": {},
   "outputs": [],
   "source": [
    "from lightgbm import LGBMClassifier\n",
    "from sklearn.model_selection import train_test_split\n",
    "\n",
    "X_train, X_test, y_train, y_test = train_test_split(new_features.iloc[:,:1], new_features[\"class\"], test_size = 0.2)\n",
    "\n",
    "scaler = StandardScaler()\n",
    "lgbm = LGBMClassifier(class_weight='balanced')\n",
    "\n",
    "train_scaledd = scaler.fit_transform(X_train)\n",
    "test_scaledd = scaler.transform(X_test)\n",
    "\n",
    "lgbm.fit(train_scaledd, y_train)\n",
    "\n",
    "predictions = lgbm.predict(test_scaledd)\n",
    "predictions = pd.DataFrame(predictions)"
   ]
  },
  {
   "cell_type": "code",
   "execution_count": 103,
   "id": "522536ea",
   "metadata": {},
   "outputs": [
    {
     "name": "stdout",
     "output_type": "stream",
     "text": [
      "accuracy_score on test dataset : 0.23824801227507322\n",
      "              precision    recall  f1-score   support\n",
      "\n",
      "           0       0.24      0.99      0.39      1702\n",
      "           1       0.00      0.00      0.00        31\n",
      "           2       0.00      0.00      0.00        25\n",
      "           3       0.00      0.00      0.00        23\n",
      "           4       0.00      0.00      0.00        39\n",
      "           5       0.00      0.00      0.00        24\n",
      "           6       0.00      0.00      0.00       110\n",
      "           7       0.00      0.00      0.00        39\n",
      "           8       0.00      0.00      0.00       388\n",
      "           9       0.00      0.00      0.00        27\n",
      "          10       0.00      0.00      0.00        47\n",
      "          11       0.00      0.00      0.00       481\n",
      "          12       0.19      0.01      0.03      1114\n",
      "          13       0.00      0.00      0.00         0\n",
      "          14       0.25      0.01      0.02      1809\n",
      "          15       0.00      0.00      0.00        91\n",
      "          16       0.00      0.00      0.00        25\n",
      "          17       0.00      0.00      0.00         0\n",
      "          18       0.08      0.00      0.00       899\n",
      "          19       0.00      0.00      0.00        46\n",
      "          20       0.00      0.00      0.00       249\n",
      "\n",
      "    accuracy                           0.24      7169\n",
      "   macro avg       0.04      0.05      0.02      7169\n",
      "weighted avg       0.16      0.24      0.10      7169\n",
      "\n"
     ]
    },
    {
     "data": {
      "text/plain": [
       "<AxesSubplot: >"
      ]
     },
     "execution_count": 103,
     "metadata": {},
     "output_type": "execute_result"
    },
    {
     "data": {
      "image/png": "[encoded data removed]",
      "text/plain": [
       "<Figure size 432x288 with 1 Axes>"
      ]
     },
     "metadata": {},
     "output_type": "display_data"
    }
   ],
   "source": [
    "from sklearn.metrics import accuracy_score, classification_report, confusion_matrix\n",
    "import seaborn as sns\n",
    "accuracy_test = accuracy_score(y_test, predictions)\n",
    "print('accuracy_score on test dataset :', accuracy_test)\n",
    "print(classification_report(predictions, y_test))\n",
    "sns.set()\n",
    "mat=confusion_matrix(y_test, predictions)\n",
    "sns.heatmap(mat.T, square=True, annot=True, fmt='d', cbar=False)"
   ]
  },
  {
   "cell_type": "code",
   "execution_count": null,
   "id": "151c9305",
   "metadata": {},
   "outputs": [],
   "source": []
  },
  {
   "cell_type": "code",
   "execution_count": 93,
   "id": "7aa1baea",
   "metadata": {},
   "outputs": [
    {
     "data": {
      "text/plain": [
       "0     6095\n",
       "12     281\n",
       "18     205\n",
       "11     200\n",
       "17     142\n",
       "19     113\n",
       "1       43\n",
       "5       35\n",
       "20      28\n",
       "15      27\n",
       "dtype: int64"
      ]
     },
     "execution_count": 93,
     "metadata": {},
     "output_type": "execute_result"
    }
   ],
   "source": [
    "predictions.value_counts()"
   ]
  },
  {
   "cell_type": "code",
   "execution_count": 23,
   "id": "bcc722a6",
   "metadata": {},
   "outputs": [
    {
     "name": "stderr",
     "output_type": "stream",
     "text": [
      "Feature Extraction: 100%|██████████| 30/30 [00:13<00:00,  2.24it/s]\n"
     ]
    }
   ],
   "source": [
    "close_features = extract_features(test[[\"index\", \"Close\"]], column_id='index')"
   ]
  },
  {
   "cell_type": "code",
   "execution_count": 49,
   "id": "3b3b25c1",
   "metadata": {},
   "outputs": [],
   "source": [
    "indexed_data = data.copy()\n",
    "indexed_data['id'] = pd.Series(range(len(indexed_data)), index=data.index)"
   ]
  },
  {
   "cell_type": "code",
   "execution_count": 50,
   "id": "50548ff5",
   "metadata": {},
   "outputs": [],
   "source": [
    "indexed_data = indexed_data.reset_index().iloc[:,1:].reset_index()"
   ]
  },
  {
   "cell_type": "code",
   "execution_count": 75,
   "id": "488fac97",
   "metadata": {},
   "outputs": [],
   "source": [
    "close_relevant_features = select_features(nanless_close_features.reset_index().iloc[1:,1:], indexed_data['Close'].diff().iloc[1:])"
   ]
  },
  {
   "cell_type": "code",
   "execution_count": 67,
   "id": "8a54cd11",
   "metadata": {},
   "outputs": [],
   "source": [
    "nanless_close_features = close_features.T.dropna().T.copy()\n",
    "\n",
    "#au lieu de faire le dropna() faire du back fill et drop ceux avec trop de d onnées manquantes"
   ]
  },
  {
   "cell_type": "code",
   "execution_count": null,
   "id": "83049ab6",
   "metadata": {},
   "outputs": [],
   "source": [
    "https://www.kaggle.com/code/patrickurbanke/feature-engineering-for-time-series"
   ]
  },
  {
   "cell_type": "code",
   "execution_count": null,
   "id": "5bf75f66",
   "metadata": {},
   "outputs": [],
   "source": [
    "polynomial elbow + kmeans test train\n",
    "#differencier 1, 2, 3 fois\n",
    "#n x n features"
   ]
  }
 ],
 "metadata": {
  "kernelspec": {
   "display_name": "Python 3 (Spyder)",
   "language": "python3",
   "name": "python3"
  },
  "language_info": {
   "codemirror_mode": {
    "name": "ipython",
    "version": 3
   },
   "file_extension": ".py",
   "mimetype": "text/x-python",
   "name": "python",
   "nbconvert_exporter": "python",
   "pygments_lexer": "ipython3",
   "version": "3.8.16"
  }
 },
 "nbformat": 4,
 "nbformat_minor": 5
}
