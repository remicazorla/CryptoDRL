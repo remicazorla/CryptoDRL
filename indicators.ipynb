{
 "cells": [
  {
   "cell_type": "code",
   "execution_count": 2,
   "id": "35a48baf",
   "metadata": {},
   "outputs": [],
   "source": [
    "from main import get_custom_features, add_classic_indicators, get_pair_tickers\n",
    "import pandas as pd\n",
    "\n",
    "eth_usdt = pd.read_pickle('usdt_data/ETHUSDT.pickle').astype(float)\n",
    "eth_usdt['returns'] = eth_usdt['close'].pct_change()\n",
    "eth_usdt = eth_usdt.dropna()"
   ]
  },
  {
   "cell_type": "code",
   "execution_count": 3,
   "id": "d12cb679",
   "metadata": {},
   "outputs": [],
   "source": [
    "tickers = get_pair_tickers()"
   ]
  },
  {
   "cell_type": "code",
   "execution_count": null,
   "id": "64a9950d",
   "metadata": {},
   "outputs": [
    {
     "name": "stderr",
     "output_type": "stream",
     "text": [
      " 20%|██        | 79/390 [3:36:06<13:19:37, 154.27s/it]"
     ]
    }
   ],
   "source": [
    "from tqdm import tqdm\n",
    "for ticker in tqdm(tickers[30:]):\n",
    "    data = pd.read_pickle(f'usdt_data/{ticker}.pickle').astype(float)\n",
    "    data['returns'] = data['close'].pct_change()\n",
    "    data = data.dropna()\n",
    "    data = add_classic_indicators(data)\n",
    "    data = get_custom_features(eth_usdt)\n",
    "    data.to_pickle(f'usdt_data_features/{ticker}.pickle')"
   ]
  },
  {
   "cell_type": "code",
   "execution_count": 49,
   "id": "151f957a",
   "metadata": {},
   "outputs": [],
   "source": [
    "eth_usdt = get_custom_features(eth_usdt)"
   ]
  },
  {
   "cell_type": "code",
   "execution_count": 91,
   "id": "3d73d1da",
   "metadata": {},
   "outputs": [],
   "source": [
    "test = eth_usdt['returns'].copy()\n",
    "test[test>0.01] = 1\n",
    "test[test>0.03] = 2\n",
    "test[test<=0.01] = 0"
   ]
  },
  {
   "cell_type": "code",
   "execution_count": 64,
   "id": "9fbf4ca4",
   "metadata": {},
   "outputs": [],
   "source": [
    "import numpy as np\n",
    "\n",
    "data_fourier = pd.concat([pd.Series(eth_usdt.index.values), eth_usdt['close'].reset_index().iloc[:,1:]], axis=1)\n",
    "data_fourier.columns = ['date','price']\n",
    "close_fft = np.fft.fft(np.asarray(data_fourier['price'].tolist()))\n",
    "fft_df = pd.DataFrame({'fft':close_fft})\n",
    "fft_df['absolute'] = fft_df['fft'].apply(lambda x: np.abs(x))\n",
    "fft_df['angle'] = fft_df['fft'].apply(lambda x: np.angle(x))\n",
    "fft_list = np.asarray(fft_df['fft'].tolist())\n",
    "for num_ in [2, 7, 15, 100]:\n",
    "    fft_list_m10= np.copy(fft_list); fft_list_m10[num_:-num_]=0\n",
    "    data_fourier[f'Fourier {num_}'] = fft_list_m10"
   ]
  }
 ],
 "metadata": {
  "kernelspec": {
   "display_name": "Python 3 (Spyder)",
   "language": "python3",
   "name": "python3"
  },
  "language_info": {
   "codemirror_mode": {
    "name": "ipython",
    "version": 3
   },
   "file_extension": ".py",
   "mimetype": "text/x-python",
   "name": "python",
   "nbconvert_exporter": "python",
   "pygments_lexer": "ipython3",
   "version": "3.9.13"
  }
 },
 "nbformat": 4,
 "nbformat_minor": 5
}
