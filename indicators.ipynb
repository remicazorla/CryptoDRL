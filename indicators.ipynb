{
 "cells": [
  {
   "cell_type": "code",
   "execution_count": 18,
   "id": "984aaf20",
   "metadata": {},
   "outputs": [],
   "source": [
    "from alpha101 import add_artificial_variables\n",
    "import pandas as pd\n",
    "\n",
    "eth_usdt = pd.read_pickle('usdt_data/ETHUSDT.pickle').astype(float)\n",
    "eth_usdt['returns'] = eth_usdt['close'].pct_change()\n",
    "eth_usdt = eth_usdt.dropna()"
   ]
  },
  {
   "cell_type": "code",
   "execution_count": 21,
   "id": "5cafa6f4",
   "metadata": {},
   "outputs": [],
   "source": [
    "eth_usdt = add_artificial_variables(eth_usdt)"
   ]
  },
  {
   "cell_type": "code",
   "execution_count": 28,
   "id": "519806b1",
   "metadata": {},
   "outputs": [
    {
     "ename": "KeyError",
     "evalue": "'Close'",
     "output_type": "error",
     "traceback": [
      "Traceback \u001b[1;36m(most recent call last)\u001b[0m:\n",
      "\u001b[0m  File \u001b[0;32m~\\anaconda3\\lib\\site-packages\\pandas\\core\\indexes\\base.py:3803\u001b[0m in \u001b[0;35mget_loc\u001b[0m\n    return self._engine.get_loc(casted_key)\u001b[0m\n",
      "\u001b[0m  File \u001b[0;32mpandas\\_libs\\index.pyx:138\u001b[0m in \u001b[0;35mpandas._libs.index.IndexEngine.get_loc\u001b[0m\n",
      "\u001b[0m  File \u001b[0;32mpandas\\_libs\\index.pyx:165\u001b[0m in \u001b[0;35mpandas._libs.index.IndexEngine.get_loc\u001b[0m\n",
      "\u001b[0m  File \u001b[0;32mpandas\\_libs\\hashtable_class_helper.pxi:5745\u001b[0m in \u001b[0;35mpandas._libs.hashtable.PyObjectHashTable.get_item\u001b[0m\n",
      "\u001b[1;36m  File \u001b[1;32mpandas\\_libs\\hashtable_class_helper.pxi:5753\u001b[1;36m in \u001b[1;35mpandas._libs.hashtable.PyObjectHashTable.get_item\u001b[1;36m\n",
      "\u001b[1;31mKeyError\u001b[0m\u001b[1;31m:\u001b[0m 'Close'\n",
      "\nThe above exception was the direct cause of the following exception:\n",
      "Traceback \u001b[1;36m(most recent call last)\u001b[0m:\n",
      "\u001b[0m  Cell \u001b[0;32mIn[28], line 2\u001b[0m\n    eth_usdt = add_classic_indicators(eth_usdt)\u001b[0m\n",
      "\u001b[0m  File \u001b[0;32m~\\Documents\\GitHub\\CryptoDRL\\CryptoDRL\\main.py:20\u001b[0m in \u001b[0;35madd_classic_indicators\u001b[0m\n    df['ema5']=ta.trend.ema_indicator(close=df['Close'], window=5)\u001b[0m\n",
      "\u001b[0m  File \u001b[0;32m~\\anaconda3\\lib\\site-packages\\pandas\\core\\frame.py:3805\u001b[0m in \u001b[0;35m__getitem__\u001b[0m\n    indexer = self.columns.get_loc(key)\u001b[0m\n",
      "\u001b[1;36m  File \u001b[1;32m~\\anaconda3\\lib\\site-packages\\pandas\\core\\indexes\\base.py:3805\u001b[1;36m in \u001b[1;35mget_loc\u001b[1;36m\n\u001b[1;33m    raise KeyError(key) from err\u001b[1;36m\n",
      "\u001b[1;31mKeyError\u001b[0m\u001b[1;31m:\u001b[0m 'Close'\n"
     ]
    }
   ],
   "source": [
    "from main import add_classic_indicators\n",
    "eth_usdt = add_classic_indicators(eth_usdt)"
   ]
  },
  {
   "cell_type": "code",
   "execution_count": null,
   "id": "a8b57167",
   "metadata": {},
   "outputs": [],
   "source": []
  }
 ],
 "metadata": {
  "kernelspec": {
   "display_name": "Python 3 (Spyder)",
   "language": "python3",
   "name": "python3"
  },
  "language_info": {
   "codemirror_mode": {
    "name": "ipython",
    "version": 3
   },
   "file_extension": ".py",
   "mimetype": "text/x-python",
   "name": "python",
   "nbconvert_exporter": "python",
   "pygments_lexer": "ipython3",
   "version": "3.9.13"
  }
 },
 "nbformat": 4,
 "nbformat_minor": 5
}
