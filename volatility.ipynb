{
 "cells": [
  {
   "cell_type": "code",
   "execution_count": null,
   "id": "1d80f037",
   "metadata": {},
   "outputs": [],
   "source": [
    "pip install arch"
   ]
  },
  {
   "cell_type": "code",
   "execution_count": 68,
   "id": "98a5e22f",
   "metadata": {},
   "outputs": [],
   "source": [
    "from arch import arch_model\n",
    "import numpy as np\n",
    "from main import get_pair_tickers\n",
    "import pandas as pd\n",
    "import itertools\n",
    "from sklearn.preprocessing import MinMaxScaler\n",
    "from tqdm import tqdm\n",
    "import matplotlib.pyplot as plt\n",
    "\n",
    "def garch_relevant_parameters(stock_data, alpha_max = .35):\n",
    "    aic = []\n",
    "    max_alpha = alpha_max\n",
    "    scaled_returns = stock_data['close'].pct_change().dropna()*100\n",
    "    params = [1, 0]\n",
    "    model = arch_model(scaled_returns, p=params[0], q=params[1], dist='t').fit(disp='off')\n",
    "    max_pval = np.max(model.pvalues[1:])\n",
    "    aic.append(params + [model.aic, model.bic, model.loglikelihood,  model.pvalues[1:].mean()])\n",
    "    if max_pval > max_alpha :\n",
    "        print('GARCH process is not available for this stock')\n",
    "        return None\n",
    "    else :\n",
    "        #searching for maximum significant coefficient with p\n",
    "        while max_pval < max_alpha :\n",
    "            params[0] += 1\n",
    "            model = arch_model(scaled_returns, p=params[0], q=params[1], dist='t').fit(disp='off')\n",
    "            max_pval = np.max(model.pvalues[1:])\n",
    "\n",
    "        #for p in [1, ..., max_p-1], search for q until it is unsignificant\n",
    "        for i in range(1,params[0]):\n",
    "            params[0], params[1] = i, 0\n",
    "            max_pval = np.max(arch_model(scaled_returns, p=params[0], q=params[1]).fit(disp='off').pvalues[1:])\n",
    "            while max_pval < max_alpha :\n",
    "                model = arch_model(scaled_returns, p=params[0], q=params[1], dist='t').fit(disp='off')\n",
    "                max_pval = np.max(model.pvalues[1:])    \n",
    "                aic.append(params + [model.aic, model.bic, model.loglikelihood, model.pvalues[1:].mean()])\n",
    "                params[1] += 1\n",
    "            aic = aic[:-1]\n",
    "        return pd.DataFrame(list(aic for aic,_ in itertools.groupby(aic)), columns = ['p','q','aic','bic','log','pval.mean'])\n",
    "\n",
    "def best_garch_model(stock_data):\n",
    "    scaler = MinMaxScaler()\n",
    "    significants_params = garch_relevant_parameters(stock_data)\n",
    "    if significants_params is None:\n",
    "        return None\n",
    "    else :\n",
    "        metrics = significants_params.iloc[:,2:-1]\n",
    "        scaler.fit(metrics)\n",
    "        scaled_metrics = scaler.transform(metrics)\n",
    "        significants_params['custom score'] = pd.Series([x.sum() for x in scaled_metrics])\n",
    "        optimal_params = significants_params.sort_values(by=['custom score']).iloc[0,0:2]\n",
    "        return optimal_params.astype(int).values\n",
    "    \n",
    "#student T garch\n",
    "def historical_garch_signal(stock_data, params):\n",
    "    scaled_returns = stock_data['close'].pct_change().dropna()*100\n",
    "    optimal_model = arch_model(scaled_returns, p=int(params[0]), q=int(params[1]), dist='t').fit(disp='off')\n",
    "    rolling_predictions = []\n",
    "    test_size = 365   \n",
    "    for i in tqdm(range(len(stock_data))):\n",
    "        train = scaled_returns[:-(test_size-i)]\n",
    "        model = arch_model(train, p=1, q=1, dist='t').fit(disp='off')\n",
    "        pred = model.forecast(horizon=1,reindex=True)\n",
    "        rolling_predictions.append(np.sqrt(pred.variance.values[-1,:][0]))\n",
    "    return rolling_predictions"
   ]
  },
  {
   "cell_type": "code",
   "execution_count": 280,
   "id": "da1a2f7d",
   "metadata": {},
   "outputs": [],
   "source": [
    "usdt_tickers = get_pair_tickers()\n",
    "data = pd.read_pickle(f'usdt_data/{usdt_tickers[1]}.pickle').astype(float)\n",
    "data = data[['open','high','low','close','volume','trades']].dropna()"
   ]
  },
  {
   "cell_type": "code",
   "execution_count": 272,
   "id": "9583572a",
   "metadata": {},
   "outputs": [
    {
     "data": {
      "text/html": [
       "<div>\n",
       "<style scoped>\n",
       "    .dataframe tbody tr th:only-of-type {\n",
       "        vertical-align: middle;\n",
       "    }\n",
       "\n",
       "    .dataframe tbody tr th {\n",
       "        vertical-align: top;\n",
       "    }\n",
       "\n",
       "    .dataframe thead th {\n",
       "        text-align: right;\n",
       "    }\n",
       "</style>\n",
       "<table border=\"1\" class=\"dataframe\">\n",
       "  <thead>\n",
       "    <tr style=\"text-align: right;\">\n",
       "      <th></th>\n",
       "      <th>p</th>\n",
       "      <th>q</th>\n",
       "      <th>aic</th>\n",
       "      <th>bic</th>\n",
       "      <th>log</th>\n",
       "      <th>pval.mean</th>\n",
       "    </tr>\n",
       "  </thead>\n",
       "  <tbody>\n",
       "    <tr>\n",
       "      <th>0</th>\n",
       "      <td>1</td>\n",
       "      <td>0</td>\n",
       "      <td>1126.441601</td>\n",
       "      <td>1148.843211</td>\n",
       "      <td>-559.220801</td>\n",
       "      <td>1.190526e-12</td>\n",
       "    </tr>\n",
       "    <tr>\n",
       "      <th>1</th>\n",
       "      <td>1</td>\n",
       "      <td>1</td>\n",
       "      <td>817.602866</td>\n",
       "      <td>845.604878</td>\n",
       "      <td>-403.801433</td>\n",
       "      <td>6.615152e-03</td>\n",
       "    </tr>\n",
       "    <tr>\n",
       "      <th>2</th>\n",
       "      <td>1</td>\n",
       "      <td>2</td>\n",
       "      <td>816.241367</td>\n",
       "      <td>849.843781</td>\n",
       "      <td>-402.120684</td>\n",
       "      <td>5.458840e-03</td>\n",
       "    </tr>\n",
       "    <tr>\n",
       "      <th>3</th>\n",
       "      <td>1</td>\n",
       "      <td>3</td>\n",
       "      <td>813.765391</td>\n",
       "      <td>852.968208</td>\n",
       "      <td>-399.882696</td>\n",
       "      <td>4.245183e-02</td>\n",
       "    </tr>\n",
       "    <tr>\n",
       "      <th>4</th>\n",
       "      <td>2</td>\n",
       "      <td>0</td>\n",
       "      <td>1025.856950</td>\n",
       "      <td>1053.858962</td>\n",
       "      <td>-507.928475</td>\n",
       "      <td>1.551191e-07</td>\n",
       "    </tr>\n",
       "    <tr>\n",
       "      <th>5</th>\n",
       "      <td>3</td>\n",
       "      <td>0</td>\n",
       "      <td>973.949144</td>\n",
       "      <td>1007.551558</td>\n",
       "      <td>-480.974572</td>\n",
       "      <td>2.206365e-05</td>\n",
       "    </tr>\n",
       "    <tr>\n",
       "      <th>6</th>\n",
       "      <td>4</td>\n",
       "      <td>0</td>\n",
       "      <td>928.363941</td>\n",
       "      <td>967.566758</td>\n",
       "      <td>-457.181971</td>\n",
       "      <td>8.845886e-05</td>\n",
       "    </tr>\n",
       "    <tr>\n",
       "      <th>7</th>\n",
       "      <td>5</td>\n",
       "      <td>0</td>\n",
       "      <td>920.592146</td>\n",
       "      <td>965.395365</td>\n",
       "      <td>-452.296073</td>\n",
       "      <td>8.532081e-03</td>\n",
       "    </tr>\n",
       "    <tr>\n",
       "      <th>8</th>\n",
       "      <td>6</td>\n",
       "      <td>0</td>\n",
       "      <td>898.466823</td>\n",
       "      <td>948.870444</td>\n",
       "      <td>-440.233412</td>\n",
       "      <td>3.323625e-02</td>\n",
       "    </tr>\n",
       "  </tbody>\n",
       "</table>\n",
       "</div>"
      ],
      "text/plain": [
       "   p  q          aic          bic         log     pval.mean\n",
       "0  1  0  1126.441601  1148.843211 -559.220801  1.190526e-12\n",
       "1  1  1   817.602866   845.604878 -403.801433  6.615152e-03\n",
       "2  1  2   816.241367   849.843781 -402.120684  5.458840e-03\n",
       "3  1  3   813.765391   852.968208 -399.882696  4.245183e-02\n",
       "4  2  0  1025.856950  1053.858962 -507.928475  1.551191e-07\n",
       "5  3  0   973.949144  1007.551558 -480.974572  2.206365e-05\n",
       "6  4  0   928.363941   967.566758 -457.181971  8.845886e-05\n",
       "7  5  0   920.592146   965.395365 -452.296073  8.532081e-03\n",
       "8  6  0   898.466823   948.870444 -440.233412  3.323625e-02"
      ]
     },
     "execution_count": 272,
     "metadata": {},
     "output_type": "execute_result"
    }
   ],
   "source": [
    "garch_relevant_parameters(data.iloc[-2000:])"
   ]
  },
  {
   "cell_type": "code",
   "execution_count": 273,
   "id": "3f8f3ec5",
   "metadata": {},
   "outputs": [
    {
     "data": {
      "text/plain": [
       "array([1, 1])"
      ]
     },
     "execution_count": 273,
     "metadata": {},
     "output_type": "execute_result"
    }
   ],
   "source": [
    "best_garch_model(data.iloc[-2000:])"
   ]
  },
  {
   "cell_type": "code",
   "execution_count": null,
   "id": "fd3c649e",
   "metadata": {},
   "outputs": [],
   "source": [
    "#4h for 1 dataset.....\n",
    "historical_garch_signal(data, params = best_garch_model(data.iloc[-2000:]))"
   ]
  },
  {
   "cell_type": "code",
   "execution_count": null,
   "id": "70143ff4",
   "metadata": {},
   "outputs": [],
   "source": [
    "import scipy\n",
    "def rho_cal(X):\n",
    "    rho_hat =  scipy.stats.pearsonr(X-np.mean(X), np.sign(X-  np.mean(X)))#rho_hat[0]:Pearson correlation , rho_hat[1]:two-tailed p-value\n",
    "    return rho_hat[0]\n",
    "def custom_volatility(y,l,alpha,plot_last,plot=True): #y = squared returns\n",
    "    #mettre une condition si\n",
    "    t = len(y)\n",
    "    rho = rho_cal(y) # calcul de la correlation entre les log returns centrés et les signes des log return centrés\n",
    "    vol = abs(y-np.mean(y))/rho # volatilité observée chaque jour\n",
    "    MSE_alpha = np.zeros(len(alpha)) #initialisation du stockage des MSE pour chaque alpha\n",
    "    sn = np.zeros(len(alpha))#initialisation du stockage de la volatilité pour chaque alpha\n",
    "    historicals = []\n",
    "    for a in range(len(alpha)):\n",
    "        spred =  np.mean(vol[0:l]) # calcul de la volalitilité moyenne a partir des n_cut_t premieres volatilités\n",
    "        error = np.zeros(t-l)\n",
    "        historical = []\n",
    "        historical.append(spred)\n",
    "        for i in range(t-l):\n",
    "            error[i] = vol[i+l] - spred #erreurs entre la volatilité estimée avec rho et reelle à chaque période (1 fois ^par jour)\n",
    "            spred = alpha[a]*vol[i+l-1]+(1-alpha[a])*spred\n",
    "            historical.append(spred)\n",
    "        spred = alpha[a]*vol[i+l]+(1-alpha[a])*spred\n",
    "        historical.append(spred)\n",
    "        historicals.append(historical)\n",
    "        MSE_alpha[a] = np.mean(error**2) # mesure de l'erreur moyenne avec le FESS pour chaque alpha\n",
    "        sn[a] = spred #volatilité prédite (chaque jour car range(t)) stockée pour chaque alpha\n",
    "    min_fss_pos = np.argmin(MSE_alpha)\n",
    "    vol_forecast = sn[min_fss_pos] #which min\n",
    "    optimal_alpha = alpha[min_fss_pos]\n",
    "    RMSE = np.sqrt(min(MSE_alpha))\n",
    "    \n",
    "    predictions = historicals[min_fss_pos]\n",
    "    observed_volatility = vol.values\n",
    "    #print(len(predictions),len(observed_volatility[l:]))\n",
    "    if plot != False:\n",
    "        plt.plot(observed_volatility[t-plot_last:])\n",
    "        plt.plot(predictions[t-plot_last-l:])\n",
    "    return RMSE, optimal_alpha, predictions"
   ]
  },
  {
   "cell_type": "code",
   "execution_count": 282,
   "id": "3475fbff",
   "metadata": {},
   "outputs": [
    {
     "data": {
      "image/png": "[encoded data removed]",
      "text/plain": [
       "<Figure size 432x288 with 1 Axes>"
      ]
     },
     "metadata": {},
     "output_type": "display_data"
    }
   ],
   "source": [
    "r,a,preds = custom_volatility(y,10,np.linspace(0.2,0.8,num=100),40)"
   ]
  },
  {
   "cell_type": "code",
   "execution_count": 281,
   "id": "f1ec92fd",
   "metadata": {},
   "outputs": [
    {
     "name": "stdout",
     "output_type": "stream",
     "text": [
      "Iteration:      5,   Func. Count:     39,   Neg. LLF: 71630.22287629421\n",
      "Iteration:     10,   Func. Count:     70,   Neg. LLF: 57168.877340224964\n",
      "Optimization terminated successfully    (Exit mode 0)\n",
      "            Current function value: 57168.86457966584\n",
      "            Iterations: 13\n",
      "            Function evaluations: 84\n",
      "            Gradient evaluations: 13\n"
     ]
    },
    {
     "data": {
      "image/png": "[encoded data removed]",
      "text/plain": [
       "<Figure size 432x288 with 1 Axes>"
      ]
     },
     "metadata": {},
     "output_type": "display_data"
    }
   ],
   "source": [
    "y_scaled = data['close'].pct_change().dropna()*100\n",
    "y = data['close'].pct_change().dropna()\n",
    "am = arch_model(y_scaled, p=1, q=1) #GARCH MODEL p=1 , q=1 #dist t moins bien\n",
    "res = am.fit(update_freq=5)#, disp='off')\n",
    "df = pd.DataFrame({'S&P500 Vol':np.abs(y),'GARCH(1,1)':res.conditional_volatility/100})\n",
    "subplot = df.iloc[-40:,:].plot(title = 'GARCH(1,1) Model Applied to S&P500 Vol')"
   ]
  },
  {
   "cell_type": "code",
   "execution_count": 322,
   "id": "633eb5bb",
   "metadata": {},
   "outputs": [
    {
     "name": "stderr",
     "output_type": "stream",
     "text": [
      "100%|██████████| 100/100 [00:16<00:00,  5.91it/s]\n"
     ]
    },
    {
     "data": {
      "text/plain": [
       "(0.7243190053139104, 0.014555821043931818)"
      ]
     },
     "execution_count": 322,
     "metadata": {},
     "output_type": "execute_result"
    }
   ],
   "source": [
    "import numpy as np\n",
    "\n",
    "RMSE = []\n",
    "alpha = []\n",
    "alphas = np.linspace(0.01,0.8,num=100)\n",
    "for i in tqdm(alphas):\n",
    "    r,a,p = custom_volatility(y,30,[i],40,plot=False)\n",
    "    RMSE.append(r)\n",
    "    alpha.append(i)\n",
    "    \n",
    "    \n",
    "coefficients = np.polyfit(alpha, RMSE, 3)\n",
    "\n",
    "x_values = np.linspace(min(alpha), max(alpha), 100)\n",
    "y_values = np.poly1d(coefficients)(x_values)\n",
    "\n",
    "xmin = -coefficients[1]/(3*coefficients[0])\n",
    "ymin = np.poly1d(coefficients)(xmin)\n",
    "xmin,ymin"
   ]
  },
  {
   "cell_type": "code",
   "execution_count": 291,
   "id": "45df883e",
   "metadata": {},
   "outputs": [],
   "source": [
    "alphaopt = np.max([0.1,np.min([xmin,0.75])])"
   ]
  },
  {
   "cell_type": "code",
   "execution_count": 290,
   "id": "7a16bcdf",
   "metadata": {},
   "outputs": [
    {
     "data": {
      "text/plain": [
       "<matplotlib.collections.PathCollection at 0x18788f40c40>"
      ]
     },
     "execution_count": 290,
     "metadata": {},
     "output_type": "execute_result"
    },
    {
     "data": {
      "image/png": "[encoded data removed]",
      "text/plain": [
       "<Figure size 432x288 with 1 Axes>"
      ]
     },
     "metadata": {},
     "output_type": "display_data"
    }
   ],
   "source": [
    "plt.scatter(alpha,y_values)\n",
    "plt.scatter(alpha,RMSE)"
   ]
  },
  {
   "cell_type": "code",
   "execution_count": 321,
   "id": "5683fc2e",
   "metadata": {},
   "outputs": [
    {
     "data": {
      "image/png": "[encoded data removed]",
      "text/plain": [
       "<Figure size 432x288 with 1 Axes>"
      ]
     },
     "metadata": {},
     "output_type": "display_data"
    }
   ],
   "source": [
    "r,a,preds = custom_volatility(y,30,[0.4],40,plot=True)"
   ]
  },
  {
   "cell_type": "code",
   "execution_count": 313,
   "id": "5aa480fc",
   "metadata": {},
   "outputs": [
    {
     "data": {
      "text/plain": [
       "<AxesSubplot: xlabel='timestamp'>"
      ]
     },
     "execution_count": 313,
     "metadata": {},
     "output_type": "execute_result"
    },
    {
     "data": {
      "image/png": "[encoded data removed]",
      "text/plain": [
       "<Figure size 432x288 with 1 Axes>"
      ]
     },
     "metadata": {},
     "output_type": "display_data"
    }
   ],
   "source": [
    "data['close'].plot()"
   ]
  },
  {
   "cell_type": "code",
   "execution_count": 294,
   "id": "71c4d5dc",
   "metadata": {},
   "outputs": [
    {
     "data": {
      "text/html": [
       "<div>\n",
       "<style scoped>\n",
       "    .dataframe tbody tr th:only-of-type {\n",
       "        vertical-align: middle;\n",
       "    }\n",
       "\n",
       "    .dataframe tbody tr th {\n",
       "        vertical-align: top;\n",
       "    }\n",
       "\n",
       "    .dataframe thead th {\n",
       "        text-align: right;\n",
       "    }\n",
       "</style>\n",
       "<table border=\"1\" class=\"dataframe\">\n",
       "  <thead>\n",
       "    <tr style=\"text-align: right;\">\n",
       "      <th></th>\n",
       "      <th>n+1 pred volat</th>\n",
       "    </tr>\n",
       "    <tr>\n",
       "      <th>timestamp</th>\n",
       "      <th></th>\n",
       "    </tr>\n",
       "  </thead>\n",
       "  <tbody>\n",
       "    <tr>\n",
       "      <th>2023-01-24 12:00:00</th>\n",
       "      <td>0.002181</td>\n",
       "    </tr>\n",
       "    <tr>\n",
       "      <th>2023-01-24 13:00:00</th>\n",
       "      <td>0.008028</td>\n",
       "    </tr>\n",
       "    <tr>\n",
       "      <th>2023-01-24 14:00:00</th>\n",
       "      <td>0.004993</td>\n",
       "    </tr>\n",
       "    <tr>\n",
       "      <th>2023-01-24 15:00:00</th>\n",
       "      <td>0.006495</td>\n",
       "    </tr>\n",
       "    <tr>\n",
       "      <th>2023-01-24 16:00:00</th>\n",
       "      <td>0.006043</td>\n",
       "    </tr>\n",
       "  </tbody>\n",
       "</table>\n",
       "</div>"
      ],
      "text/plain": [
       "                     n+1 pred volat\n",
       "timestamp                          \n",
       "2023-01-24 12:00:00        0.002181\n",
       "2023-01-24 13:00:00        0.008028\n",
       "2023-01-24 14:00:00        0.004993\n",
       "2023-01-24 15:00:00        0.006495\n",
       "2023-01-24 16:00:00        0.006043"
      ]
     },
     "execution_count": 294,
     "metadata": {},
     "output_type": "execute_result"
    }
   ],
   "source": [
    "preds_df = pd.DataFrame(preds,columns=['n+1 pred volat'])\n",
    "preds_df.index = data.index[-len(preds_df):]\n",
    "preds_df.tail()"
   ]
  },
  {
   "cell_type": "code",
   "execution_count": 307,
   "id": "ab987be7",
   "metadata": {},
   "outputs": [],
   "source": [
    "output = pd.concat([data, preds_df], axis=1)"
   ]
  },
  {
   "cell_type": "code",
   "execution_count": 319,
   "id": "619c0332",
   "metadata": {},
   "outputs": [
    {
     "data": {
      "text/html": [
       "<div>\n",
       "<style scoped>\n",
       "    .dataframe tbody tr th:only-of-type {\n",
       "        vertical-align: middle;\n",
       "    }\n",
       "\n",
       "    .dataframe tbody tr th {\n",
       "        vertical-align: top;\n",
       "    }\n",
       "\n",
       "    .dataframe thead th {\n",
       "        text-align: right;\n",
       "    }\n",
       "</style>\n",
       "<table border=\"1\" class=\"dataframe\">\n",
       "  <thead>\n",
       "    <tr style=\"text-align: right;\">\n",
       "      <th></th>\n",
       "      <th>open</th>\n",
       "      <th>high</th>\n",
       "      <th>low</th>\n",
       "      <th>close</th>\n",
       "      <th>volume</th>\n",
       "      <th>trades</th>\n",
       "      <th>n+1 pred volat</th>\n",
       "    </tr>\n",
       "    <tr>\n",
       "      <th>timestamp</th>\n",
       "      <th></th>\n",
       "      <th></th>\n",
       "      <th></th>\n",
       "      <th></th>\n",
       "      <th></th>\n",
       "      <th></th>\n",
       "      <th></th>\n",
       "    </tr>\n",
       "  </thead>\n",
       "  <tbody>\n",
       "    <tr>\n",
       "      <th>2018-01-01 00:00:00</th>\n",
       "      <td>733.01</td>\n",
       "      <td>734.52</td>\n",
       "      <td>720.03</td>\n",
       "      <td>727.62</td>\n",
       "      <td>2105.90100</td>\n",
       "      <td>3114.0</td>\n",
       "      <td>NaN</td>\n",
       "    </tr>\n",
       "    <tr>\n",
       "      <th>2018-01-01 01:00:00</th>\n",
       "      <td>727.01</td>\n",
       "      <td>732.00</td>\n",
       "      <td>716.80</td>\n",
       "      <td>717.97</td>\n",
       "      <td>2305.97086</td>\n",
       "      <td>2875.0</td>\n",
       "      <td>NaN</td>\n",
       "    </tr>\n",
       "    <tr>\n",
       "      <th>2018-01-01 02:00:00</th>\n",
       "      <td>717.67</td>\n",
       "      <td>725.75</td>\n",
       "      <td>717.59</td>\n",
       "      <td>724.05</td>\n",
       "      <td>2166.45725</td>\n",
       "      <td>2957.0</td>\n",
       "      <td>NaN</td>\n",
       "    </tr>\n",
       "    <tr>\n",
       "      <th>2018-01-01 03:00:00</th>\n",
       "      <td>723.95</td>\n",
       "      <td>737.99</td>\n",
       "      <td>722.70</td>\n",
       "      <td>734.50</td>\n",
       "      <td>2160.90450</td>\n",
       "      <td>3647.0</td>\n",
       "      <td>NaN</td>\n",
       "    </tr>\n",
       "    <tr>\n",
       "      <th>2018-01-01 04:00:00</th>\n",
       "      <td>734.99</td>\n",
       "      <td>744.98</td>\n",
       "      <td>730.01</td>\n",
       "      <td>744.82</td>\n",
       "      <td>2335.33705</td>\n",
       "      <td>3512.0</td>\n",
       "      <td>NaN</td>\n",
       "    </tr>\n",
       "    <tr>\n",
       "      <th>...</th>\n",
       "      <td>...</td>\n",
       "      <td>...</td>\n",
       "      <td>...</td>\n",
       "      <td>...</td>\n",
       "      <td>...</td>\n",
       "      <td>...</td>\n",
       "      <td>...</td>\n",
       "    </tr>\n",
       "    <tr>\n",
       "      <th>2023-01-24 12:00:00</th>\n",
       "      <td>1625.59</td>\n",
       "      <td>1632.12</td>\n",
       "      <td>1622.22</td>\n",
       "      <td>1627.34</td>\n",
       "      <td>9920.66530</td>\n",
       "      <td>16233.0</td>\n",
       "      <td>0.002181</td>\n",
       "    </tr>\n",
       "    <tr>\n",
       "      <th>2023-01-24 13:00:00</th>\n",
       "      <td>1627.34</td>\n",
       "      <td>1630.76</td>\n",
       "      <td>1612.83</td>\n",
       "      <td>1617.14</td>\n",
       "      <td>18600.23910</td>\n",
       "      <td>25777.0</td>\n",
       "      <td>0.008028</td>\n",
       "    </tr>\n",
       "    <tr>\n",
       "      <th>2023-01-24 14:00:00</th>\n",
       "      <td>1617.14</td>\n",
       "      <td>1622.48</td>\n",
       "      <td>1604.00</td>\n",
       "      <td>1613.40</td>\n",
       "      <td>41583.72390</td>\n",
       "      <td>46586.0</td>\n",
       "      <td>0.004993</td>\n",
       "    </tr>\n",
       "    <tr>\n",
       "      <th>2023-01-24 15:00:00</th>\n",
       "      <td>1613.40</td>\n",
       "      <td>1621.60</td>\n",
       "      <td>1606.88</td>\n",
       "      <td>1620.58</td>\n",
       "      <td>17561.45780</td>\n",
       "      <td>26175.0</td>\n",
       "      <td>0.006495</td>\n",
       "    </tr>\n",
       "    <tr>\n",
       "      <th>2023-01-24 16:00:00</th>\n",
       "      <td>1620.57</td>\n",
       "      <td>1621.87</td>\n",
       "      <td>1612.00</td>\n",
       "      <td>1614.80</td>\n",
       "      <td>16854.72010</td>\n",
       "      <td>22423.0</td>\n",
       "      <td>0.006043</td>\n",
       "    </tr>\n",
       "  </tbody>\n",
       "</table>\n",
       "<p>44272 rows × 7 columns</p>\n",
       "</div>"
      ],
      "text/plain": [
       "                        open     high  ...   trades  n+1 pred volat\n",
       "timestamp                              ...                         \n",
       "2018-01-01 00:00:00   733.01   734.52  ...   3114.0             NaN\n",
       "2018-01-01 01:00:00   727.01   732.00  ...   2875.0             NaN\n",
       "2018-01-01 02:00:00   717.67   725.75  ...   2957.0             NaN\n",
       "2018-01-01 03:00:00   723.95   737.99  ...   3647.0             NaN\n",
       "2018-01-01 04:00:00   734.99   744.98  ...   3512.0             NaN\n",
       "...                      ...      ...  ...      ...             ...\n",
       "2023-01-24 12:00:00  1625.59  1632.12  ...  16233.0        0.002181\n",
       "2023-01-24 13:00:00  1627.34  1630.76  ...  25777.0        0.008028\n",
       "2023-01-24 14:00:00  1617.14  1622.48  ...  46586.0        0.004993\n",
       "2023-01-24 15:00:00  1613.40  1621.60  ...  26175.0        0.006495\n",
       "2023-01-24 16:00:00  1620.57  1621.87  ...  22423.0        0.006043\n",
       "\n",
       "[44272 rows x 7 columns]"
      ]
     },
     "execution_count": 319,
     "metadata": {},
     "output_type": "execute_result"
    }
   ],
   "source": [
    "output"
   ]
  },
  {
   "cell_type": "code",
   "execution_count": 308,
   "id": "fd8f4c73",
   "metadata": {},
   "outputs": [
    {
     "data": {
      "text/plain": [
       "<AxesSubplot: >"
      ]
     },
     "execution_count": 308,
     "metadata": {},
     "output_type": "execute_result"
    },
    {
     "data": {
      "image/png": "[encoded data removed]",
      "text/plain": [
       "<Figure size 432x288 with 1 Axes>"
      ]
     },
     "metadata": {},
     "output_type": "display_data"
    }
   ],
   "source": [
    "output['n+1 pred volat'].hist(bins=100)"
   ]
  },
  {
   "cell_type": "code",
   "execution_count": 305,
   "id": "46f76e86",
   "metadata": {},
   "outputs": [],
   "source": [
    "output['n+1 pred volat'] = output['n+1 pred volat'].shift(-1)"
   ]
  },
  {
   "cell_type": "code",
   "execution_count": null,
   "id": "bb80c6c5",
   "metadata": {},
   "outputs": [],
   "source": []
  }
 ],
 "metadata": {
  "kernelspec": {
   "display_name": "Python 3 (Spyder)",
   "language": "python3",
   "name": "python3"
  },
  "language_info": {
   "codemirror_mode": {
    "name": "ipython",
    "version": 3
   },
   "file_extension": ".py",
   "mimetype": "text/x-python",
   "name": "python",
   "nbconvert_exporter": "python",
   "pygments_lexer": "ipython3",
   "version": "3.9.13"
  }
 },
 "nbformat": 4,
 "nbformat_minor": 5
}
