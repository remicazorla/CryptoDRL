{
 "cells": [
  {
   "cell_type": "code",
   "execution_count": 1,
   "id": "d891deb5",
   "metadata": {},
   "outputs": [],
   "source": [
    "import sys\n",
    "sys.path.append('..')\n",
    "from lib.download import *\n",
    "from tqdm import tqdm\n",
    "import numpy as np\n",
    "import pandas as pd\n",
    "\n",
    "from selenium import webdriver\n",
    "from selenium.webdriver.firefox.options import Options\n",
    "from selenium.webdriver.common.desired_capabilities import DesiredCapabilities\n",
    "from selenium.webdriver.common.by import By\n",
    "\n",
    "import concurrent.futures\n",
    "import queue\n",
    "\n",
    "import torch\n",
    "from transformers import AutoTokenizer, AutoModelForSequenceClassification"
   ]
  },
  {
   "cell_type": "code",
   "execution_count": 2,
   "id": "f4fcce5c",
   "metadata": {},
   "outputs": [],
   "source": [
    "#### DRIVER ####\n",
    "\n",
    "def get_driver():\n",
    "    options = Options()\n",
    "    options.binary_location = r\"C:\\Program Files\\Mozilla Firefox\\firefox.exe\"\n",
    "    capabilities = DesiredCapabilities().FIREFOX\n",
    "    capabilities[\"marionette\"] = False\n",
    "    capabilities[\"firefoxOptions\"] = {\"args\": [\"--headless\"]}\n",
    "    headers = {\n",
    "        \"User-Agent\": \"Mozilla/5.0 (Windows NT 10.0; Win64; x64) AppleWebKit/537.36 (KHTML, like Gecko) Chrome/83.0.4103.116 Safari/537.36\",\n",
    "        \"Accept\": \"text/html,application/xhtml+xml,application/xml;q=0.9,image/webp,*/*;q=0.8\",\n",
    "        \"Accept-Encoding\": \"gzip, deflate, br\",\n",
    "        \"Accept-Language\": \"en-US,en;q=0.5\",\n",
    "    }\n",
    "    for header, value in headers.items():\n",
    "        options.set_preference(f\"general.useragent.override\", headers[\"User-Agent\"])\n",
    "    driver = webdriver.Firefox(options=options)\n",
    "    return driver\n",
    "\n",
    "#### HREFS ####\n",
    "\n",
    "def get_page_hrefs(page_number, driver, ticker):\n",
    "    url = f\"https://www.tradingview.com/symbols/{ticker}/ideas/page-{page_number}/?sort=recent\"\n",
    "    driver.get(url)\n",
    "    hrefs = [hrf.get_attribute(\"href\") for hrf in driver.find_elements(By.CLASS_NAME, 'tv-widget-idea__title')]\n",
    "    return hrefs\n",
    "\n",
    "def worker(url_queue, result_queue, driver, ticker):\n",
    "    while not url_queue.empty():\n",
    "        page_number = url_queue.get()\n",
    "        hrefs = get_page_hrefs(page_number, driver, ticker)\n",
    "        result_queue.put(hrefs)        \n",
    "        \n",
    "def get_all_pages_hrefs(max_workers=6, start_page=2, end_page=500, ticker='BTCUSDT'):\n",
    "    hrefs = []\n",
    "    url_queue = queue.Queue()\n",
    "    result_queue = queue.Queue()\n",
    "\n",
    "    with concurrent.futures.ThreadPoolExecutor(max_workers=max_workers) as executor:\n",
    "        drivers = [get_driver() for i in range(max_workers)]\n",
    "        for page_number in range(start_page, end_page):\n",
    "            url_queue.put(page_number)\n",
    "\n",
    "        future_to_worker = [executor.submit(worker, url_queue, result_queue, drivers[i], ticker) for i in range(max_workers)]\n",
    "\n",
    "        concurrent.futures.wait(future_to_worker)\n",
    "\n",
    "    while not result_queue.empty():\n",
    "        hrefs.extend(result_queue.get())\n",
    "\n",
    "    for driver in drivers:\n",
    "        driver.quit()\n",
    "\n",
    "    return hrefs\n",
    "\n",
    "#### IDEAS ####\n",
    "\n",
    "def worker_ideas(href_queue, result_queue, driver):\n",
    "    while not href_queue.empty():\n",
    "        href = href_queue.get()\n",
    "        driver.get(href)\n",
    "        user = driver.find_element(By.CLASS_NAME, \"tv-chart-view__title-user-name\").text\n",
    "        time = driver.find_element(By.CLASS_NAME, \"tv-chart-view__title-time\").get_attribute('title')\n",
    "        title = driver.find_element(By.CLASS_NAME, 'tv-chart-view__title-name').text\n",
    "        content = driver.find_element(By.CLASS_NAME, 'tv-chart-view__description').text.replace('\\n','')\n",
    "        result_queue.put((time, title, user, content))   \n",
    "        \n",
    "def get_data_from_hrefs(hrefs, max_workers=6):\n",
    "    result_queue = queue.Queue()\n",
    "    href_queue = queue.Queue()\n",
    "    for href in hrefs:\n",
    "        href_queue.put(href)\n",
    "\n",
    "    with concurrent.futures.ThreadPoolExecutor(max_workers=max_workers) as executor:\n",
    "        drivers = [get_driver() for i in range(max_workers)]\n",
    "        future_to_worker = [executor.submit(worker_ideas, href_queue, result_queue, drivers[i]) for i in range(max_workers)]\n",
    "        concurrent.futures.wait(future_to_worker)\n",
    "\n",
    "    times, titles, contents, users = [], [], [], []\n",
    "    while not result_queue.empty():\n",
    "        time, title, user, content = result_queue.get()\n",
    "        corresps = [[times,time],[contents,content],[titles,title],[users,user]]  \n",
    "        for corresp in corresps:\n",
    "            corresp[0].append(corresp[1]) \n",
    "    \n",
    "    for driver in drivers:\n",
    "        driver.quit()\n",
    "\n",
    "    data = pd.DataFrame({'time': times, 'title': titles, 'user': users, 'article': contents})\n",
    "    data[[\"pos\", \"neg\", \"neut\"]] = np.nan\n",
    "    \n",
    "    return data\n",
    "\n",
    "\n",
    "#### NEWS ####\n",
    "\n",
    "def ticker_news_dataset(ticker):\n",
    "    driver = get_driver()\n",
    "    url = f\"https://www.tradingview.com/symbols/{ticker}/news/?sort=recent\"\n",
    "    driver.get(url)\n",
    "    times, titles, contents, sources = [], [], [], [] \n",
    "    hrefs =[hrf.get_attribute(\"href\") for hrf in driver.find_elements(By.CLASS_NAME, 'card-gaCYEutU')] \n",
    "    for href in tqdm(hrefs): \n",
    "        driver.get(href)\n",
    "        source = driver.find_elements(By.CLASS_NAME,\"logoLight-cR1GoJcP\")[0].get_attribute(\"alt\")\n",
    "        time = driver.find_elements(By.CSS_SELECTOR,\"time[datetime]\")[0].text\n",
    "        title = driver.find_elements(By.CLASS_NAME, 'title-jEK_kEtx')[0].text\n",
    "        content = [text.text for text in driver.find_elements(By.CSS_SELECTOR, \"div.body-jEK_kEtx.body-op4L5uvo.content-op4L5uvo span p\")]\n",
    "        corresps = [[times,time],[contents,content],[titles,title],[sources,source]]  \n",
    "        for corresp in corresps:\n",
    "            corresp[0].append(corresp[1])\n",
    "    contents = [' '.join(content) for content in contents]\n",
    "    data = pd.DataFrame({'time' : times, 'title' : titles, 'source' : sources, 'article' : contents})\n",
    "    data['time'] = pd.to_datetime(data['time'], format=\"%b %d, %Y%H:%M\") + pd.Timedelta(hours=1)\n",
    "    data['time'] = data['time'].dt.strftime('%Y-%m-%d %H:%M')\n",
    "    data[[\"pos\",\"neg\",\"neut\"]] = np.nan\n",
    "    return data\n",
    "\n",
    "#### FinBERT ####\n",
    "\n",
    "finbertokenizer = AutoTokenizer.from_pretrained(\"ProsusAI/finbert\")\n",
    "finbertmodel = AutoModelForSequenceClassification.from_pretrained(\"ProsusAI/finbert\")\n",
    "\n",
    "def chunk_weights(chunk_len):\n",
    "    return [512] * (chunk_len // 512) + [chunk_len % 512] if chunk_len else []\n",
    "\n",
    "def article_sentiment(df, article_index):\n",
    "    txt = df['article'][article_index]\n",
    "    window_size = 510\n",
    "    tokens = finbertokenizer.encode_plus(txt, add_special_tokens=False)\n",
    "    input_ids = tokens['input_ids']\n",
    "    attention_mask = tokens['attention_mask']\n",
    "    total_len = len(input_ids)\n",
    "    \n",
    "    probs_list = []\n",
    "    for start in range(0, total_len, window_size):\n",
    "        end = min(start + window_size, total_len)\n",
    "        input_ids_chunk = input_ids[start:end]\n",
    "        attention_mask_chunk = attention_mask[start:end]\n",
    "        input_ids_chunk = [101] + input_ids_chunk + [102]\n",
    "        attention_mask_chunk = [1] + attention_mask_chunk + [1]\n",
    "        padding = [0] * (window_size - len(input_ids_chunk) + 2)\n",
    "        input_ids_chunk += padding\n",
    "        attention_mask_chunk += padding\n",
    "        input_dict = {\n",
    "            'input_ids': torch.LongTensor([input_ids_chunk]),\n",
    "            'attention_mask': torch.IntTensor([attention_mask_chunk])\n",
    "        }\n",
    "        outputs = finbertmodel(**input_dict)\n",
    "        probs = torch.nn.functional.softmax(outputs[0], dim=-1)\n",
    "        probs_list.append(probs)\n",
    "\n",
    "    cw = chunk_weights(total_len)\n",
    "    weights = [x/total_len for x in cw]\n",
    "    weighted_probs = torch.FloatTensor(probs_list[0].shape)\n",
    "    for chunk, weight in zip(probs_list, weights):\n",
    "        weighted_probs += chunk * weight\n",
    "    weighted_probs = weighted_probs.detach().cpu().numpy()[0] \n",
    "    df['pos'].iloc[article_index] = weighted_probs[0]\n",
    "    df['neg'].iloc[article_index] = weighted_probs[1]\n",
    "    df['neut'].iloc[article_index] = weighted_probs[2]\n",
    "    return df"
   ]
  },
  {
   "cell_type": "code",
   "execution_count": 4,
   "id": "6758d57e",
   "metadata": {},
   "outputs": [],
   "source": [
    "#hrefs = get_all_pages_hrefs()\n",
    "#pd.DataFrame(hrefs).to_csv('hrfs.csv')"
   ]
  },
  {
   "cell_type": "code",
   "execution_count": 6,
   "id": "ac83ab71",
   "metadata": {},
   "outputs": [],
   "source": [
    "hrefs = pd.read_csv('hrfs.csv').iloc[:,-1:]\n",
    "hrefs = [href[0] for href in hrefs.values.tolist()]"
   ]
  },
  {
   "cell_type": "code",
   "execution_count": 20,
   "id": "3cc4856f",
   "metadata": {},
   "outputs": [],
   "source": [
    "#data = get_data_from_hrefs(hrefs)\n",
    "#data.to_csv('btcinfos.csv'"
   ]
  },
  {
   "cell_type": "code",
   "execution_count": 7,
   "id": "ae1f2cc9",
   "metadata": {},
   "outputs": [],
   "source": [
    "data = pd.read_csv('btcinfos.csv').iloc[:,1:]"
   ]
  },
  {
   "cell_type": "code",
   "execution_count": 13,
   "id": "d4ef000c",
   "metadata": {},
   "outputs": [
    {
     "name": "stderr",
     "output_type": "stream",
     "text": [
      "  0%|          | 0/8962 [00:00<?, ?it/s]Token indices sequence length is longer than the specified maximum sequence length for this model (615 > 512). Running this sequence through the model will result in indexing errors\n",
      "100%|██████████| 8962/8962 [3:36:31<00:00,  1.45s/it]  \n"
     ]
    }
   ],
   "source": [
    "from tqdm import tqdm\n",
    "for i in tqdm(range(0,len(data))):\n",
    "    try:\n",
    "        data = article_sentiment(data,i)   \n",
    "    except:\n",
    "        None"
   ]
  },
  {
   "cell_type": "code",
   "execution_count": 15,
   "id": "d65d524d",
   "metadata": {},
   "outputs": [],
   "source": [
    "#data.to_csv('btcsentiment.csv')"
   ]
  },
  {
   "cell_type": "code",
   "execution_count": 10,
   "id": "08100f77",
   "metadata": {},
   "outputs": [],
   "source": [
    "data = pd.read_csv('btcsentiment.csv').iloc[:,1:].drop_duplicates()"
   ]
  },
  {
   "cell_type": "code",
   "execution_count": 51,
   "id": "6d2e4ad1",
   "metadata": {},
   "outputs": [
    {
     "data": {
      "text/html": [
       "<div>\n",
       "<style scoped>\n",
       "    .dataframe tbody tr th:only-of-type {\n",
       "        vertical-align: middle;\n",
       "    }\n",
       "\n",
       "    .dataframe tbody tr th {\n",
       "        vertical-align: top;\n",
       "    }\n",
       "\n",
       "    .dataframe thead th {\n",
       "        text-align: right;\n",
       "    }\n",
       "</style>\n",
       "<table border=\"1\" class=\"dataframe\">\n",
       "  <thead>\n",
       "    <tr style=\"text-align: right;\">\n",
       "      <th></th>\n",
       "      <th>pos</th>\n",
       "      <th>neg</th>\n",
       "      <th>neut</th>\n",
       "      <th>sum</th>\n",
       "    </tr>\n",
       "  </thead>\n",
       "  <tbody>\n",
       "    <tr>\n",
       "      <th>count</th>\n",
       "      <td>5761.000000</td>\n",
       "      <td>5761.000000</td>\n",
       "      <td>5761.000000</td>\n",
       "      <td>5761.000000</td>\n",
       "    </tr>\n",
       "    <tr>\n",
       "      <th>mean</th>\n",
       "      <td>0.161428</td>\n",
       "      <td>0.193412</td>\n",
       "      <td>0.645161</td>\n",
       "      <td>1.000001</td>\n",
       "    </tr>\n",
       "    <tr>\n",
       "      <th>std</th>\n",
       "      <td>0.202734</td>\n",
       "      <td>0.273328</td>\n",
       "      <td>0.301597</td>\n",
       "      <td>0.000017</td>\n",
       "    </tr>\n",
       "    <tr>\n",
       "      <th>min</th>\n",
       "      <td>0.007199</td>\n",
       "      <td>0.007434</td>\n",
       "      <td>0.011332</td>\n",
       "      <td>0.999611</td>\n",
       "    </tr>\n",
       "    <tr>\n",
       "      <th>25%</th>\n",
       "      <td>0.044747</td>\n",
       "      <td>0.024298</td>\n",
       "      <td>0.424130</td>\n",
       "      <td>1.000000</td>\n",
       "    </tr>\n",
       "    <tr>\n",
       "      <th>50%</th>\n",
       "      <td>0.081128</td>\n",
       "      <td>0.052899</td>\n",
       "      <td>0.785699</td>\n",
       "      <td>1.000000</td>\n",
       "    </tr>\n",
       "    <tr>\n",
       "      <th>75%</th>\n",
       "      <td>0.171943</td>\n",
       "      <td>0.233403</td>\n",
       "      <td>0.888104</td>\n",
       "      <td>1.000000</td>\n",
       "    </tr>\n",
       "    <tr>\n",
       "      <th>max</th>\n",
       "      <td>0.954029</td>\n",
       "      <td>0.973176</td>\n",
       "      <td>0.958107</td>\n",
       "      <td>1.000552</td>\n",
       "    </tr>\n",
       "  </tbody>\n",
       "</table>\n",
       "</div>"
      ],
      "text/plain": [
       "               pos          neg         neut          sum\n",
       "count  5761.000000  5761.000000  5761.000000  5761.000000\n",
       "mean      0.161428     0.193412     0.645161     1.000001\n",
       "std       0.202734     0.273328     0.301597     0.000017\n",
       "min       0.007199     0.007434     0.011332     0.999611\n",
       "25%       0.044747     0.024298     0.424130     1.000000\n",
       "50%       0.081128     0.052899     0.785699     1.000000\n",
       "75%       0.171943     0.233403     0.888104     1.000000\n",
       "max       0.954029     0.973176     0.958107     1.000552"
      ]
     },
     "execution_count": 51,
     "metadata": {},
     "output_type": "execute_result"
    }
   ],
   "source": [
    "data['sum'] = data['pos']+data['neg']+data['neut']\n",
    "data_win = data[data['sum'].between(0.99,1.01)]\n",
    "data_win['time'] = data_win['time'].ffill().bfill()\n",
    "data_win = data_win[data_win['pos'].between(0,1) & data_win['neg'].between(0,1) & data_win['neut'].between(0,1)]\n",
    "data_win['time'] = pd.to_datetime(data_win['time'], format=\"%H:%M - %b %d, %Y\")\n",
    "data_win.describe()"
   ]
  },
  {
   "cell_type": "code",
   "execution_count": 49,
   "id": "e5c2c97f",
   "metadata": {},
   "outputs": [
    {
     "data": {
      "text/html": [
       "<div>\n",
       "<style scoped>\n",
       "    .dataframe tbody tr th:only-of-type {\n",
       "        vertical-align: middle;\n",
       "    }\n",
       "\n",
       "    .dataframe tbody tr th {\n",
       "        vertical-align: top;\n",
       "    }\n",
       "\n",
       "    .dataframe thead th {\n",
       "        text-align: right;\n",
       "    }\n",
       "</style>\n",
       "<table border=\"1\" class=\"dataframe\">\n",
       "  <thead>\n",
       "    <tr style=\"text-align: right;\">\n",
       "      <th></th>\n",
       "      <th>time</th>\n",
       "      <th>title</th>\n",
       "      <th>user</th>\n",
       "      <th>article</th>\n",
       "      <th>pos</th>\n",
       "      <th>neg</th>\n",
       "      <th>neut</th>\n",
       "      <th>sum</th>\n",
       "    </tr>\n",
       "  </thead>\n",
       "  <tbody>\n",
       "    <tr>\n",
       "      <th>1</th>\n",
       "      <td>18:07 - Feb 9, 2023</td>\n",
       "      <td>BTC possible turbulence</td>\n",
       "      <td>Finnovin</td>\n",
       "      <td>Hi guys, in order to get the main idea, check ...</td>\n",
       "      <td>0.024850</td>\n",
       "      <td>0.034477</td>\n",
       "      <td>0.940673</td>\n",
       "      <td>1.0</td>\n",
       "    </tr>\n",
       "    <tr>\n",
       "      <th>6</th>\n",
       "      <td>18:07 - Feb 9, 2023</td>\n",
       "      <td>7663 Any pullback is long</td>\n",
       "      <td>Wavozen</td>\n",
       "      <td>Waiting for 18900 as pullbackreason for longa)...</td>\n",
       "      <td>0.161859</td>\n",
       "      <td>0.041064</td>\n",
       "      <td>0.797076</td>\n",
       "      <td>1.0</td>\n",
       "    </tr>\n",
       "    <tr>\n",
       "      <th>7</th>\n",
       "      <td>18:07 - Feb 9, 2023</td>\n",
       "      <td>Trading opportunity for BTCUSDT</td>\n",
       "      <td>NamchaTa</td>\n",
       "      <td>Based on technical factors there is a Sell pos...</td>\n",
       "      <td>0.172318</td>\n",
       "      <td>0.012867</td>\n",
       "      <td>0.814815</td>\n",
       "      <td>1.0</td>\n",
       "    </tr>\n",
       "    <tr>\n",
       "      <th>8</th>\n",
       "      <td>18:07 - Feb 9, 2023</td>\n",
       "      <td>Small flag</td>\n",
       "      <td>EdgarsXX</td>\n",
       "      <td>Small bull flag but careful with it sitting un...</td>\n",
       "      <td>0.157276</td>\n",
       "      <td>0.019059</td>\n",
       "      <td>0.823665</td>\n",
       "      <td>1.0</td>\n",
       "    </tr>\n",
       "    <tr>\n",
       "      <th>10</th>\n",
       "      <td>18:07 - Feb 9, 2023</td>\n",
       "      <td>BITCOIN ( Is this the final DIP ? )</td>\n",
       "      <td>moonypto</td>\n",
       "      <td>I bought the dip but it just keeps dipping!it'...</td>\n",
       "      <td>0.028549</td>\n",
       "      <td>0.241770</td>\n",
       "      <td>0.729681</td>\n",
       "      <td>1.0</td>\n",
       "    </tr>\n",
       "    <tr>\n",
       "      <th>...</th>\n",
       "      <td>...</td>\n",
       "      <td>...</td>\n",
       "      <td>...</td>\n",
       "      <td>...</td>\n",
       "      <td>...</td>\n",
       "      <td>...</td>\n",
       "      <td>...</td>\n",
       "      <td>...</td>\n",
       "    </tr>\n",
       "    <tr>\n",
       "      <th>8957</th>\n",
       "      <td>18:57 - Oct 7, 2022</td>\n",
       "      <td>btc usdt</td>\n",
       "      <td>BullsFinance</td>\n",
       "      <td>looking for this zone for a long setup, i thin...</td>\n",
       "      <td>0.236987</td>\n",
       "      <td>0.016421</td>\n",
       "      <td>0.746593</td>\n",
       "      <td>1.0</td>\n",
       "    </tr>\n",
       "    <tr>\n",
       "      <th>8958</th>\n",
       "      <td>18:29 - Oct 7, 2022</td>\n",
       "      <td>btcusdt 4h uptade</td>\n",
       "      <td>Crypto_Players</td>\n",
       "      <td>BTC /USDT :- 4h 🕘Update ::Btc currently trade ...</td>\n",
       "      <td>0.335169</td>\n",
       "      <td>0.099860</td>\n",
       "      <td>0.564970</td>\n",
       "      <td>1.0</td>\n",
       "    </tr>\n",
       "    <tr>\n",
       "      <th>8959</th>\n",
       "      <td>18:20 - Oct 7, 2022</td>\n",
       "      <td>12K FOR BITCOIN? VERY MUCH LIKELY.</td>\n",
       "      <td>patlaka2000</td>\n",
       "      <td>We are moving through thin air. It is a matter...</td>\n",
       "      <td>0.036937</td>\n",
       "      <td>0.104326</td>\n",
       "      <td>0.858737</td>\n",
       "      <td>1.0</td>\n",
       "    </tr>\n",
       "    <tr>\n",
       "      <th>8960</th>\n",
       "      <td>17:57 - Oct 7, 2022</td>\n",
       "      <td>BTCUSDT Down Trend.!</td>\n",
       "      <td>TRADiNG_Club_</td>\n",
       "      <td>#BTCUSDT Looking for Sell trade setup as I men...</td>\n",
       "      <td>0.108842</td>\n",
       "      <td>0.017997</td>\n",
       "      <td>0.873161</td>\n",
       "      <td>1.0</td>\n",
       "    </tr>\n",
       "    <tr>\n",
       "      <th>8961</th>\n",
       "      <td>18:07 - Oct 7, 2022</td>\n",
       "      <td>BTC</td>\n",
       "      <td>PUMPmaps</td>\n",
       "      <td>The price fell to the ascending trend line aft...</td>\n",
       "      <td>0.104066</td>\n",
       "      <td>0.784580</td>\n",
       "      <td>0.111354</td>\n",
       "      <td>1.0</td>\n",
       "    </tr>\n",
       "  </tbody>\n",
       "</table>\n",
       "<p>5761 rows × 8 columns</p>\n",
       "</div>"
      ],
      "text/plain": [
       "                     time                                title  ...      neut  sum\n",
       "1     18:07 - Feb 9, 2023              BTC possible turbulence  ...  0.940673  1.0\n",
       "6     18:07 - Feb 9, 2023            7663 Any pullback is long  ...  0.797076  1.0\n",
       "7     18:07 - Feb 9, 2023      Trading opportunity for BTCUSDT  ...  0.814815  1.0\n",
       "8     18:07 - Feb 9, 2023                           Small flag  ...  0.823665  1.0\n",
       "10    18:07 - Feb 9, 2023  BITCOIN ( Is this the final DIP ? )  ...  0.729681  1.0\n",
       "...                   ...                                  ...  ...       ...  ...\n",
       "8957  18:57 - Oct 7, 2022                             btc usdt  ...  0.746593  1.0\n",
       "8958  18:29 - Oct 7, 2022                    btcusdt 4h uptade  ...  0.564970  1.0\n",
       "8959  18:20 - Oct 7, 2022   12K FOR BITCOIN? VERY MUCH LIKELY.  ...  0.858737  1.0\n",
       "8960  17:57 - Oct 7, 2022                 BTCUSDT Down Trend.!  ...  0.873161  1.0\n",
       "8961  18:07 - Oct 7, 2022                                  BTC  ...  0.111354  1.0\n",
       "\n",
       "[5761 rows x 8 columns]"
      ]
     },
     "execution_count": 49,
     "metadata": {},
     "output_type": "execute_result"
    }
   ],
   "source": [
    "data_win.groupby"
   ]
  },
  {
   "cell_type": "code",
   "execution_count": null,
   "id": "aee1c3aa",
   "metadata": {},
   "outputs": [],
   "source": [
    "regarder winrate par user\n",
    "\n",
    "trouver les user tres performants,"
   ]
  },
  {
   "cell_type": "code",
   "execution_count": null,
   "id": "e1687988",
   "metadata": {},
   "outputs": [],
   "source": [
    "grouypby"
   ]
  },
  {
   "cell_type": "code",
   "execution_count": 35,
   "id": "5bdcb5f9",
   "metadata": {},
   "outputs": [
    {
     "data": {
      "text/plain": [
       "<AxesSubplot:>"
      ]
     },
     "execution_count": 35,
     "metadata": {},
     "output_type": "execute_result"
    },
    {
     "data": {
      "image/png": "[encoded data removed]",
      "text/plain": [
       "<Figure size 432x288 with 1 Axes>"
      ]
     },
     "metadata": {},
     "output_type": "display_data"
    }
   ],
   "source": [
    "data_win['pos'].hist(bins=100)\n",
    "data_win['neg'].hist(bins=100)\n",
    "data_win['neut'].hist(bins=100)"
   ]
  },
  {
   "cell_type": "code",
   "execution_count": 44,
   "id": "6c6c37b6",
   "metadata": {},
   "outputs": [],
   "source": [
    "data_win.to_csv('sentimentdata.csv')"
   ]
  },
  {
   "cell_type": "code",
   "execution_count": null,
   "id": "df5f2bf7",
   "metadata": {},
   "outputs": [],
   "source": [
    "# Calculating the hourly average sentiment score\n",
    "def get_daily_average_sentiment_score(df):\n",
    "    return df.groupby(\"date\")[\"sentiment_score\"].mean()"
   ]
  },
  {
   "cell_type": "code",
   "execution_count": 3,
   "id": "43646338",
   "metadata": {},
   "outputs": [],
   "source": [
    "import snscrape.modules.twitter as sntwitter\n",
    "import pandas as pd\n",
    "import time"
   ]
  },
  {
   "cell_type": "code",
   "execution_count": 4,
   "id": "8db5c137",
   "metadata": {},
   "outputs": [],
   "source": [
    "def get_user_tweets(user, start = \"2019-01-01\", end = \"2023-02-27\", max_tweets = None):\n",
    "    start_time = time.time()\n",
    "    query = f\"(from:{user}) until:{end} since:{start}\"\n",
    "    tweets = []\n",
    "    for tweet in sntwitter.TwitterSearchScraper(query).get_items():\n",
    "        if len(tweets) == max_tweets:\n",
    "            break\n",
    "        else:\n",
    "            tweets.append([tweet.date, tweet.username, tweet.rawContent])\n",
    "    df = pd.DataFrame(tweets, columns=['Date', 'User', 'Tweet'])\n",
    "    end_time = time.time()\n",
    "    total_time = end_time - start_time\n",
    "    print(\"Time taken to execute the loop: {} seconds\".format(total_time))\n",
    "    print(f\"{user}'s tweets scraping processed'\")\n",
    "    df.to_csv(f'data/tweets/{user}.csv')"
   ]
  },
  {
   "cell_type": "code",
   "execution_count": 5,
   "id": "f24618f8",
   "metadata": {},
   "outputs": [],
   "source": [
    "user_list = pd.read_excel('data/tweets/usernames.xlsx')['Usernames'].tolist()\n",
    "user_list = [user.lstrip() for user in user_list]"
   ]
  },
  {
   "cell_type": "code",
   "execution_count": 6,
   "id": "6149fe26",
   "metadata": {},
   "outputs": [
    {
     "name": "stderr",
     "output_type": "stream",
     "text": [
      "  1%|▏         | 1/69 [10:32<11:56:50, 632.51s/it]"
     ]
    },
    {
     "name": "stdout",
     "output_type": "stream",
     "text": [
      "Time taken to execute the loop: 632.3645837306976 seconds\n",
      "@lawmaster's tweets scraping processed'\n"
     ]
    },
    {
     "name": "stderr",
     "output_type": "stream",
     "text": [
      "  3%|▎         | 2/69 [10:46<5:00:12, 268.84s/it] "
     ]
    },
    {
     "name": "stdout",
     "output_type": "stream",
     "text": [
      "Time taken to execute the loop: 14.263234376907349 seconds\n",
      "@_evalawrence's tweets scraping processed'\n",
      "Time taken to execute the loop: 916.2310829162598 seconds\n",
      "@adam3us's tweets scraping processed'\n"
     ]
    },
    {
     "name": "stderr",
     "output_type": "stream",
     "text": [
      "  6%|▌         | 4/69 [34:48<9:54:56, 549.18s/it] "
     ]
    },
    {
     "name": "stdout",
     "output_type": "stream",
     "text": [
      "Time taken to execute the loop: 525.4447526931763 seconds\n",
      "@girlgone_crypto's tweets scraping processed'\n"
     ]
    },
    {
     "name": "stderr",
     "output_type": "stream",
     "text": [
      "  7%|▋         | 5/69 [39:50<8:10:37, 459.96s/it]"
     ]
    },
    {
     "name": "stdout",
     "output_type": "stream",
     "text": [
      "Time taken to execute the loop: 301.7063019275665 seconds\n",
      "@Arthur_0x's tweets scraping processed'\n"
     ]
    },
    {
     "name": "stderr",
     "output_type": "stream",
     "text": [
      "  9%|▊         | 6/69 [42:04<6:06:36, 349.15s/it]"
     ]
    },
    {
     "name": "stdout",
     "output_type": "stream",
     "text": [
      "Time taken to execute the loop: 134.01303148269653 seconds\n",
      "@RyanWatkins_'s tweets scraping processed'\n"
     ]
    },
    {
     "name": "stderr",
     "output_type": "stream",
     "text": [
      " 10%|█         | 7/69 [43:13<4:26:01, 257.45s/it]"
     ]
    },
    {
     "name": "stdout",
     "output_type": "stream",
     "text": [
      "Time taken to execute the loop: 68.6435055732727 seconds\n",
      "@riabhutoria's tweets scraping processed'\n"
     ]
    },
    {
     "name": "stderr",
     "output_type": "stream",
     "text": [
      "Stopping after 20 empty pages\n",
      " 12%|█▏        | 8/69 [43:19<3:00:32, 177.57s/it]"
     ]
    },
    {
     "name": "stdout",
     "output_type": "stream",
     "text": [
      "Time taken to execute the loop: 6.540450572967529 seconds\n",
      "@tbr90's tweets scraping processed'\n"
     ]
    },
    {
     "name": "stderr",
     "output_type": "stream",
     "text": [
      " 13%|█▎        | 9/69 [44:55<2:31:49, 151.83s/it]"
     ]
    },
    {
     "name": "stdout",
     "output_type": "stream",
     "text": [
      "Time taken to execute the loop: 95.17955327033997 seconds\n",
      "@lisajytan's tweets scraping processed'\n",
      "Time taken to execute the loop: 1814.4461460113525 seconds\n",
      "@zackvoell's tweets scraping processed'\n"
     ]
    },
    {
     "name": "stderr",
     "output_type": "stream",
     "text": [
      " 16%|█▌        | 11/69 [1:16:48<7:55:23, 491.78s/it] "
     ]
    },
    {
     "name": "stdout",
     "output_type": "stream",
     "text": [
      "Time taken to execute the loop: 98.5563268661499 seconds\n",
      "@iamjosephyoung's tweets scraping processed'\n"
     ]
    },
    {
     "name": "stderr",
     "output_type": "stream",
     "text": [
      " 17%|█▋        | 12/69 [1:30:56<9:30:10, 600.19s/it]"
     ]
    },
    {
     "name": "stdout",
     "output_type": "stream",
     "text": [
      "Time taken to execute the loop: 847.9598233699799 seconds\n",
      "@Timccopeland's tweets scraping processed'\n"
     ]
    },
    {
     "name": "stderr",
     "output_type": "stream",
     "text": [
      " 19%|█▉        | 13/69 [1:37:23<8:19:55, 535.63s/it]"
     ]
    },
    {
     "name": "stdout",
     "output_type": "stream",
     "text": [
      "Time taken to execute the loop: 386.9656035900116 seconds\n",
      "@La__Cuen's tweets scraping processed'\n"
     ]
    },
    {
     "name": "stderr",
     "output_type": "stream",
     "text": [
      "Error retrieving https://api.twitter.com/2/search/adaptive.json?include_profile_interstitial_type=1&include_blocking=1&include_blocked_by=1&include_followed_by=1&include_want_retweets=1&include_mute_edge=1&include_can_dm=1&include_can_media_tag=1&include_ext_has_nft_avatar=1&include_ext_is_blue_verified=1&include_ext_verified_type=1&skip_status=1&cards_platform=Web-12&include_cards=1&include_ext_alt_text=true&include_ext_limited_action_results=false&include_quote_count=true&include_reply_count=1&tweet_mode=extended&include_ext_collab_control=true&include_ext_views=true&include_entities=true&include_user_entities=true&include_ext_media_color=true&include_ext_media_availability=true&include_ext_sensitive_media_warning=true&include_ext_trusted_friends_metadata=true&send_error_codes=true&simple_quoted_tweet=true&q=%28from%3A%40PeterMcCormack%29+until%3A2023-02-27+since%3A2019-01-01&tweet_search_mode=live&count=20&query_source=spelling_expansion_revert_click&cursor=scroll%3AthGAVUV0VFVBaCwLflgsqahiUWgoC8jbqS8Z4tEnEVmP5XFYCJehgHREVGQVVMVDUBFeoVFQAA&pc=1&spelling_corrections=1&include_ext_edit_control=true&ext=mediaStats%2ChighlightedLabel%2ChasNftAvatar%2CvoiceInfo%2Cenrichments%2CsuperFollowMetadata%2CunmentionInfo%2CeditControl%2Ccollab_control%2Cvibe: ConnectionError(MaxRetryError(\"HTTPSConnectionPool(host='api.twitter.com', port=443): Max retries exceeded with url: /2/search/adaptive.json?include_profile_interstitial_type=1&include_blocking=1&include_blocked_by=1&include_followed_by=1&include_want_retweets=1&include_mute_edge=1&include_can_dm=1&include_can_media_tag=1&include_ext_has_nft_avatar=1&include_ext_is_blue_verified=1&include_ext_verified_type=1&skip_status=1&cards_platform=Web-12&include_cards=1&include_ext_alt_text=true&include_ext_limited_action_results=false&include_quote_count=true&include_reply_count=1&tweet_mode=extended&include_ext_collab_control=true&include_ext_views=true&include_entities=true&include_user_entities=true&include_ext_media_color=true&include_ext_media_availability=true&include_ext_sensitive_media_warning=true&include_ext_trusted_friends_metadata=true&send_error_codes=true&simple_quoted_tweet=true&q=%28from%3A%40PeterMcCormack%29+until%3A2023-02-27+since%3A2019-01-01&tweet_search_mode=live&count=20&query_source=spelling_expansion_revert_click&cursor=scroll%3AthGAVUV0VFVBaCwLflgsqahiUWgoC8jbqS8Z4tEnEVmP5XFYCJehgHREVGQVVMVDUBFeoVFQAA&pc=1&spelling_corrections=1&include_ext_edit_control=true&ext=mediaStats%2ChighlightedLabel%2ChasNftAvatar%2CvoiceInfo%2Cenrichments%2CsuperFollowMetadata%2CunmentionInfo%2CeditControl%2Ccollab_control%2Cvibe (Caused by NewConnectionError('<urllib3.connection.HTTPSConnection object at 0x000001C0217773D0>: Failed to establish a new connection: [Errno 11001] getaddrinfo failed'))\"))\n",
      "4 requests to https://api.twitter.com/2/search/adaptive.json?include_profile_interstitial_type=1&include_blocking=1&include_blocked_by=1&include_followed_by=1&include_want_retweets=1&include_mute_edge=1&include_can_dm=1&include_can_media_tag=1&include_ext_has_nft_avatar=1&include_ext_is_blue_verified=1&include_ext_verified_type=1&skip_status=1&cards_platform=Web-12&include_cards=1&include_ext_alt_text=true&include_ext_limited_action_results=false&include_quote_count=true&include_reply_count=1&tweet_mode=extended&include_ext_collab_control=true&include_ext_views=true&include_entities=true&include_user_entities=true&include_ext_media_color=true&include_ext_media_availability=true&include_ext_sensitive_media_warning=true&include_ext_trusted_friends_metadata=true&send_error_codes=true&simple_quoted_tweet=true&q=%28from%3A%40PeterMcCormack%29+until%3A2023-02-27+since%3A2019-01-01&tweet_search_mode=live&count=20&query_source=spelling_expansion_revert_click&cursor=scroll%3AthGAVUV0VFVBaCwLflgsqahiUWgoC8jbqS8Z4tEnEVmP5XFYCJehgHREVGQVVMVDUBFeoVFQAA&pc=1&spelling_corrections=1&include_ext_edit_control=true&ext=mediaStats%2ChighlightedLabel%2ChasNftAvatar%2CvoiceInfo%2Cenrichments%2CsuperFollowMetadata%2CunmentionInfo%2CeditControl%2Ccollab_control%2Cvibe failed, giving up.\n",
      "Errors: ReadTimeout(ReadTimeoutError(\"HTTPSConnectionPool(host='api.twitter.com', port=443): Read timed out. (read timeout=10)\")), ConnectionError(MaxRetryError(\"HTTPSConnectionPool(host='api.twitter.com', port=443): Max retries exceeded with url: /2/search/adaptive.json?include_profile_interstitial_type=1&include_blocking=1&include_blocked_by=1&include_followed_by=1&include_want_retweets=1&include_mute_edge=1&include_can_dm=1&include_can_media_tag=1&include_ext_has_nft_avatar=1&include_ext_is_blue_verified=1&include_ext_verified_type=1&skip_status=1&cards_platform=Web-12&include_cards=1&include_ext_alt_text=true&include_ext_limited_action_results=false&include_quote_count=true&include_reply_count=1&tweet_mode=extended&include_ext_collab_control=true&include_ext_views=true&include_entities=true&include_user_entities=true&include_ext_media_color=true&include_ext_media_availability=true&include_ext_sensitive_media_warning=true&include_ext_trusted_friends_metadata=true&send_error_codes=true&simple_quoted_tweet=true&q=%28from%3A%40PeterMcCormack%29+until%3A2023-02-27+since%3A2019-01-01&tweet_search_mode=live&count=20&query_source=spelling_expansion_revert_click&cursor=scroll%3AthGAVUV0VFVBaCwLflgsqahiUWgoC8jbqS8Z4tEnEVmP5XFYCJehgHREVGQVVMVDUBFeoVFQAA&pc=1&spelling_corrections=1&include_ext_edit_control=true&ext=mediaStats%2ChighlightedLabel%2ChasNftAvatar%2CvoiceInfo%2Cenrichments%2CsuperFollowMetadata%2CunmentionInfo%2CeditControl%2Ccollab_control%2Cvibe (Caused by NewConnectionError('<urllib3.connection.HTTPSConnection object at 0x000001C021777670>: Failed to establish a new connection: [Errno 11001] getaddrinfo failed'))\")), ConnectionError(MaxRetryError(\"HTTPSConnectionPool(host='api.twitter.com', port=443): Max retries exceeded with url: /2/search/adaptive.json?include_profile_interstitial_type=1&include_blocking=1&include_blocked_by=1&include_followed_by=1&include_want_retweets=1&include_mute_edge=1&include_can_dm=1&include_can_media_tag=1&include_ext_has_nft_avatar=1&include_ext_is_blue_verified=1&include_ext_verified_type=1&skip_status=1&cards_platform=Web-12&include_cards=1&include_ext_alt_text=true&include_ext_limited_action_results=false&include_quote_count=true&include_reply_count=1&tweet_mode=extended&include_ext_collab_control=true&include_ext_views=true&include_entities=true&include_user_entities=true&include_ext_media_color=true&include_ext_media_availability=true&include_ext_sensitive_media_warning=true&include_ext_trusted_friends_metadata=true&send_error_codes=true&simple_quoted_tweet=true&q=%28from%3A%40PeterMcCormack%29+until%3A2023-02-27+since%3A2019-01-01&tweet_search_mode=live&count=20&query_source=spelling_expansion_revert_click&cursor=scroll%3AthGAVUV0VFVBaCwLflgsqahiUWgoC8jbqS8Z4tEnEVmP5XFYCJehgHREVGQVVMVDUBFeoVFQAA&pc=1&spelling_corrections=1&include_ext_edit_control=true&ext=mediaStats%2ChighlightedLabel%2ChasNftAvatar%2CvoiceInfo%2Cenrichments%2CsuperFollowMetadata%2CunmentionInfo%2CeditControl%2Ccollab_control%2Cvibe (Caused by NewConnectionError('<urllib3.connection.HTTPSConnection object at 0x000001C021777D30>: Failed to establish a new connection: [Errno 11001] getaddrinfo failed'))\")), ConnectionError(MaxRetryError(\"HTTPSConnectionPool(host='api.twitter.com', port=443): Max retries exceeded with url: /2/search/adaptive.json?include_profile_interstitial_type=1&include_blocking=1&include_blocked_by=1&include_followed_by=1&include_want_retweets=1&include_mute_edge=1&include_can_dm=1&include_can_media_tag=1&include_ext_has_nft_avatar=1&include_ext_is_blue_verified=1&include_ext_verified_type=1&skip_status=1&cards_platform=Web-12&include_cards=1&include_ext_alt_text=true&include_ext_limited_action_results=false&include_quote_count=true&include_reply_count=1&tweet_mode=extended&include_ext_collab_control=true&include_ext_views=true&include_entities=true&include_user_entities=true&include_ext_media_color=true&include_ext_media_availability=true&include_ext_sensitive_media_warning=true&include_ext_trusted_friends_metadata=true&send_error_codes=true&simple_quoted_tweet=true&q=%28from%3A%40PeterMcCormack%29+until%3A2023-02-27+since%3A2019-01-01&tweet_search_mode=live&count=20&query_source=spelling_expansion_revert_click&cursor=scroll%3AthGAVUV0VFVBaCwLflgsqahiUWgoC8jbqS8Z4tEnEVmP5XFYCJehgHREVGQVVMVDUBFeoVFQAA&pc=1&spelling_corrections=1&include_ext_edit_control=true&ext=mediaStats%2ChighlightedLabel%2ChasNftAvatar%2CvoiceInfo%2Cenrichments%2CsuperFollowMetadata%2CunmentionInfo%2CeditControl%2Ccollab_control%2Cvibe (Caused by NewConnectionError('<urllib3.connection.HTTPSConnection object at 0x000001C0217773D0>: Failed to establish a new connection: [Errno 11001] getaddrinfo failed'))\"))\n",
      " 19%|█▉        | 13/69 [2:11:00<9:24:22, 604.68s/it]\n"
     ]
    },
    {
     "ename": "ScraperException",
     "evalue": "4 requests to https://api.twitter.com/2/search/adaptive.json?include_profile_interstitial_type=1&include_blocking=1&include_blocked_by=1&include_followed_by=1&include_want_retweets=1&include_mute_edge=1&include_can_dm=1&include_can_media_tag=1&include_ext_has_nft_avatar=1&include_ext_is_blue_verified=1&include_ext_verified_type=1&skip_status=1&cards_platform=Web-12&include_cards=1&include_ext_alt_text=true&include_ext_limited_action_results=false&include_quote_count=true&include_reply_count=1&tweet_mode=extended&include_ext_collab_control=true&include_ext_views=true&include_entities=true&include_user_entities=true&include_ext_media_color=true&include_ext_media_availability=true&include_ext_sensitive_media_warning=true&include_ext_trusted_friends_metadata=true&send_error_codes=true&simple_quoted_tweet=true&q=%28from%3A%40PeterMcCormack%29+until%3A2023-02-27+since%3A2019-01-01&tweet_search_mode=live&count=20&query_source=spelling_expansion_revert_click&cursor=scroll%3AthGAVUV0VFVBaCwLflgsqahiUWgoC8jbqS8Z4tEnEVmP5XFYCJehgHREVGQVVMVDUBFeoVFQAA&pc=1&spelling_corrections=1&include_ext_edit_control=true&ext=mediaStats%2ChighlightedLabel%2ChasNftAvatar%2CvoiceInfo%2Cenrichments%2CsuperFollowMetadata%2CunmentionInfo%2CeditControl%2Ccollab_control%2Cvibe failed, giving up.",
     "output_type": "error",
     "traceback": [
      "Traceback \u001b[1;36m(most recent call last)\u001b[0m:\n",
      "\u001b[0m  Cell \u001b[0;32mIn[6], line 2\u001b[0m\n    get_user_tweets(user)\u001b[0m\n",
      "\u001b[0m  Cell \u001b[0;32mIn[4], line 5\u001b[0m in \u001b[0;35mget_user_tweets\u001b[0m\n    for tweet in sntwitter.TwitterSearchScraper(query).get_items():\u001b[0m\n",
      "\u001b[0m  File \u001b[0;32m~\\anaconda3\\envs\\tf-gpu\\lib\\site-packages\\snscrape\\modules\\twitter.py:1546\u001b[0m in \u001b[0;35mget_items\u001b[0m\n    for obj in self._iter_api_data('https://api.twitter.com/2/search/adaptive.json', _TwitterAPIType.V2, params, paginationParams, cursor = self._cursor):\u001b[0m\n",
      "\u001b[0m  File \u001b[0;32m~\\anaconda3\\envs\\tf-gpu\\lib\\site-packages\\snscrape\\modules\\twitter.py:759\u001b[0m in \u001b[0;35m_iter_api_data\u001b[0m\n    obj = self._get_api_data(endpoint, apiType, reqParams)\u001b[0m\n",
      "\u001b[0m  File \u001b[0;32m~\\anaconda3\\envs\\tf-gpu\\lib\\site-packages\\snscrape\\modules\\twitter.py:725\u001b[0m in \u001b[0;35m_get_api_data\u001b[0m\n    r = self._get(endpoint, params = params, headers = self._apiHeaders, responseOkCallback = self._check_api_response)\u001b[0m\n",
      "\u001b[0m  File \u001b[0;32m~\\anaconda3\\envs\\tf-gpu\\lib\\site-packages\\snscrape\\base.py:225\u001b[0m in \u001b[0;35m_get\u001b[0m\n    return self._request('GET', *args, **kwargs)\u001b[0m\n",
      "\u001b[1;36m  File \u001b[1;32m~\\anaconda3\\envs\\tf-gpu\\lib\\site-packages\\snscrape\\base.py:221\u001b[1;36m in \u001b[1;35m_request\u001b[1;36m\n\u001b[1;33m    raise ScraperException(msg)\u001b[1;36m\n",
      "\u001b[1;31mScraperException\u001b[0m\u001b[1;31m:\u001b[0m 4 requests to https://api.twitter.com/2/search/adaptive.json?include_profile_interstitial_type=1&include_blocking=1&include_blocked_by=1&include_followed_by=1&include_want_retweets=1&include_mute_edge=1&include_can_dm=1&include_can_media_tag=1&include_ext_has_nft_avatar=1&include_ext_is_blue_verified=1&include_ext_verified_type=1&skip_status=1&cards_platform=Web-12&include_cards=1&include_ext_alt_text=true&include_ext_limited_action_results=false&include_quote_count=true&include_reply_count=1&tweet_mode=extended&include_ext_collab_control=true&include_ext_views=true&include_entities=true&include_user_entities=true&include_ext_media_color=true&include_ext_media_availability=true&include_ext_sensitive_media_warning=true&include_ext_trusted_friends_metadata=true&send_error_codes=true&simple_quoted_tweet=true&q=%28from%3A%40PeterMcCormack%29+until%3A2023-02-27+since%3A2019-01-01&tweet_search_mode=live&count=20&query_source=spelling_expansion_revert_click&cursor=scroll%3AthGAVUV0VFVBaCwLflgsqahiUWgoC8jbqS8Z4tEnEVmP5XFYCJehgHREVGQVVMVDUBFeoVFQAA&pc=1&spelling_corrections=1&include_ext_edit_control=true&ext=mediaStats%2ChighlightedLabel%2ChasNftAvatar%2CvoiceInfo%2Cenrichments%2CsuperFollowMetadata%2CunmentionInfo%2CeditControl%2Ccollab_control%2Cvibe failed, giving up.\n"
     ]
    }
   ],
   "source": [
    "for user in tqdm(user_list[131:200]):\n",
    "    get_user_tweets(user)"
   ]
  },
  {
   "cell_type": "code",
   "execution_count": 38,
   "id": "d59a2aa7",
   "metadata": {},
   "outputs": [],
   "source": [
    "df = pd.read_csv('data/tweets/@adam3us.csv')"
   ]
  },
  {
   "cell_type": "code",
   "execution_count": null,
   "id": "8928f6ce",
   "metadata": {},
   "outputs": [],
   "source": [
    "df"
   ]
  },
  {
   "cell_type": "code",
   "execution_count": null,
   "id": "d2516835",
   "metadata": {},
   "outputs": [],
   "source": [
    "https://huggingface.co/nickmuchi/fb-bart-large-finetuned-trade-the-event-finance-summarizer?text=The+tower+is+324+metres+%281%2C063+ft%29+tall%2C+about+the+same+height+as+an+81-storey+building%2C+and+the+tallest+structure+in+Paris.+Its+base+is+square%2C+measuring+125+metres+%28410+ft%29+on+each+side.+During+its+construction%2C+the+Eiffel+Tower+surpassed+the+Washington+Monument+to+become+the+tallest+man-made+structure+in+the+world%2C+a+title+it+held+for+41+years+until+the+Chrysler+Building+in+New+York+City+was+finished+in+1930.+It+was+the+first+structure+to+reach+a+height+of+300+metres.+Due+to+the+addition+of+a+broadcasting+aerial+at+the+top+of+the+tower+in+1957%2C+it+is+now+taller+than+the+Chrysler+Building+by+5.2+metres+%2817+ft%29.+Excluding+transmitters%2C+the+Eiffel+Tower+is+the+second+tallest+free-standing+structure+in+France+after+the+Millau+Viaduct.\n",
    "pr summarize voir si ca maeliore le score\n",
    "\n",
    "spam\n",
    "https://huggingface.co/svalabs/twitter-xlm-roberta-crypto-spam?text=1M+%23SAFEMOON+is+now+worth+just+under+%24300+and+was+worth+%2410K+at+the+ATH.+%0D%0AJust+so+you+know.+%0D%0AI%27ve+stacked+almost+90M+myself%2C+before+showtime.%0D%0AYou+do+You+%21%0D%0A%23SHITTINGBRICKS%0D%0A%23DOINGBACKFLIPS%0D%0A%23SAFEMOONBLOCKCHAIN+%0D%0A%23SAFEMOONSWAP+%0D%0A%23SAFEMOONCARD+%0D%0A%23SAFEMOONEXCHANGE%0D%0A%23SAFEMOONNFTMARKETPLACE\n",
    "\n",
    "model positive neut neg puissant\n",
    "https://huggingface.co/oferweintraub/bert-base-finance-sentiment-noisy-search?text=Microsoft+updates+Outlook%2C+Teams%2C+and+PowerPoint+to+be+hybrid+work+ready\n",
    "\n",
    "autre candidat\n",
    "https://huggingface.co/nickmuchi/deberta-v3-base-finetuned-finance-text-classification?text=the+USD+has+been+trending+lower\n",
    "    \n",
    "FLS (pr detecter s'il s'\"agit d'\"une pred)\n",
    "https://huggingface.co/FinanceInc/finbert_fls?text=We+expect+the+age+of+our+fleet+to+enhance+availability+and+reliability+due+to+reduced+downtime+for+repairs.\n",
    "\n",
    "summarizer https://huggingface.co/nickmuchi/fb-bart-large-finetuned-trade-the-event-finance-summarizer"
   ]
  },
  {
   "cell_type": "code",
   "execution_count": null,
   "id": "5b9fd58b",
   "metadata": {},
   "outputs": [],
   "source": [
    "label huge volat predicted avec un bert custom\n",
    "\n",
    "trouver les crypto de predilection de chaque utilisateur / eliminer ceux qui ont trop peu d'info/ faire la classif dxe topic pr filtrer et reeliminer ceux qui parlent trop pr rien par ex\n",
    "\n",
    "predire plusieurs classes => court terme : positif et long terme : negatif (juste variable : court terme / long terme / moyen terme manuellement)\n",
    "        \n",
    "crypto twitter account recommendation algorithm\n",
    "\n",
    "filtrer par secteur finance\n",
    "\n",
    "predire avec bert => acheter levier, spot......\n",
    "\n",
    "faire dashboard backtest stylé : https://huggingface.co/nickmuchi/finbert-tone-finetuned-finance-topic-classification?text=Company+and+Elon+Musk+are+set+for+a+blockbuster+courtroom+battle+over+Musk%E2%80%99s+attempt+to+terminate+his+%2444+billion+acquisition+deal+for+%24TWTR%2C+according+to+Wedbush+analyst+Dan+Ives.\n",
    "\n",
    "classifieur de qualités d'une personne => non related , futures , ETHn mec chaud mec nul\n",
    "\n",
    "#pr less comptes bien connus on va chercher a avoir des signaux constant (pearson haut avec y), pr les moins connus, on va évaluer leur capacité a prédire des mouvements tres volatiles \n",
    "si utilisation de crypto bert, bien filtrer avant les tweets car le fine tuning a étz effectué sur des tweets uniquement"
   ]
  },
  {
   "cell_type": "code",
   "execution_count": 42,
   "id": "426e15a3",
   "metadata": {},
   "outputs": [],
   "source": [
    "topics = [\"Analyst Update\",\"Fed | Central Banks\",\"Company | Product News\",\"Treasuries | Corporate Debt\",\"Dividend\",\"Earnings\",\"Energy | Oil\",\"Financials\",\"Currencies\",\"General News | Opinion\",\"Gold | Metals | Materials\",\"IPO\",\"Legal | Regulation\",\"M&A | Investments\",\"Macro\",\"Markets\",\"Politics\",\"Personnel Change\",\"Stock Commentary\",\"Stock Movement\",]\n",
    "device = torch.device(\"cuda\" if torch.cuda.is_available() else \"cpu\")\n",
    "\n",
    "\n",
    "# Load the tokenizer and model\n",
    "tokenizer = AutoTokenizer.from_pretrained(\"nickmuchi/finbert-tone-finetuned-finance-topic-classification\")\n",
    "model = AutoModelForSequenceClassification.from_pretrained(\"nickmuchi/finbert-tone-finetuned-finance-topic-classification\")\n",
    "model.to(device)  # Enable CUDA\n",
    "\n",
    "def pred_topic(tweet):\n",
    "    inputs = tokenizer(tweet, return_tensors=\"pt\")\n",
    "    outputs = model(**inputs)\n",
    "    probs = F.softmax(outputs.logits, dim=1)\n",
    "    return pd.DataFrame(probs.detach().numpy(), columns=topics,index = ['probs']).sort_values(by=['probs'],ascending=False, axis=1)"
   ]
  },
  {
   "cell_type": "code",
   "execution_count": 44,
   "id": "d3988705",
   "metadata": {},
   "outputs": [
    {
     "name": "stderr",
     "output_type": "stream",
     "text": [
      "100%|██████████| 24935/24935 [1:09:47<00:00,  5.96it/s]\n"
     ]
    }
   ],
   "source": [
    "from tqdm import tqdm\n",
    "import numpy as np\n",
    "import torch.nn.functional as F\n",
    "res = pd.DataFrame()\n",
    "for tweet in tqdm(df[\"Tweet\"].values) :\n",
    "    res = pd.concat([res,pred_topic(tweet)],axis=0)"
   ]
  },
  {
   "cell_type": "code",
   "execution_count": 45,
   "id": "4f736d0d",
   "metadata": {},
   "outputs": [
    {
     "data": {
      "text/html": [
       "<div>\n",
       "<style scoped>\n",
       "    .dataframe tbody tr th:only-of-type {\n",
       "        vertical-align: middle;\n",
       "    }\n",
       "\n",
       "    .dataframe tbody tr th {\n",
       "        vertical-align: top;\n",
       "    }\n",
       "\n",
       "    .dataframe thead th {\n",
       "        text-align: right;\n",
       "    }\n",
       "</style>\n",
       "<table border=\"1\" class=\"dataframe\">\n",
       "  <thead>\n",
       "    <tr style=\"text-align: right;\">\n",
       "      <th></th>\n",
       "      <th>General News | Opinion</th>\n",
       "      <th>Stock Commentary</th>\n",
       "      <th>Politics</th>\n",
       "      <th>Macro</th>\n",
       "      <th>Fed | Central Banks</th>\n",
       "      <th>Energy | Oil</th>\n",
       "      <th>Company | Product News</th>\n",
       "      <th>Legal | Regulation</th>\n",
       "      <th>Markets</th>\n",
       "      <th>M&amp;A | Investments</th>\n",
       "      <th>Currencies</th>\n",
       "      <th>Gold | Metals | Materials</th>\n",
       "      <th>Financials</th>\n",
       "      <th>Dividend</th>\n",
       "      <th>Treasuries | Corporate Debt</th>\n",
       "      <th>IPO</th>\n",
       "      <th>Analyst Update</th>\n",
       "      <th>Stock Movement</th>\n",
       "      <th>Personnel Change</th>\n",
       "      <th>Earnings</th>\n",
       "    </tr>\n",
       "  </thead>\n",
       "  <tbody>\n",
       "    <tr>\n",
       "      <th>probs</th>\n",
       "      <td>0.980330</td>\n",
       "      <td>0.008036</td>\n",
       "      <td>0.002761</td>\n",
       "      <td>0.001660</td>\n",
       "      <td>0.000979</td>\n",
       "      <td>0.000785</td>\n",
       "      <td>0.000717</td>\n",
       "      <td>0.000589</td>\n",
       "      <td>0.000567</td>\n",
       "      <td>0.000438</td>\n",
       "      <td>0.000435</td>\n",
       "      <td>0.000376</td>\n",
       "      <td>0.000342</td>\n",
       "      <td>0.000338</td>\n",
       "      <td>0.000337</td>\n",
       "      <td>0.000323</td>\n",
       "      <td>0.000282</td>\n",
       "      <td>0.000266</td>\n",
       "      <td>0.000260</td>\n",
       "      <td>0.000179</td>\n",
       "    </tr>\n",
       "    <tr>\n",
       "      <th>probs</th>\n",
       "      <td>0.952112</td>\n",
       "      <td>0.032972</td>\n",
       "      <td>0.001446</td>\n",
       "      <td>0.001746</td>\n",
       "      <td>0.000784</td>\n",
       "      <td>0.001091</td>\n",
       "      <td>0.002563</td>\n",
       "      <td>0.001015</td>\n",
       "      <td>0.000741</td>\n",
       "      <td>0.000861</td>\n",
       "      <td>0.000526</td>\n",
       "      <td>0.000478</td>\n",
       "      <td>0.000544</td>\n",
       "      <td>0.000500</td>\n",
       "      <td>0.000396</td>\n",
       "      <td>0.000460</td>\n",
       "      <td>0.000612</td>\n",
       "      <td>0.000520</td>\n",
       "      <td>0.000361</td>\n",
       "      <td>0.000272</td>\n",
       "    </tr>\n",
       "    <tr>\n",
       "      <th>probs</th>\n",
       "      <td>0.991620</td>\n",
       "      <td>0.003089</td>\n",
       "      <td>0.000679</td>\n",
       "      <td>0.000732</td>\n",
       "      <td>0.000312</td>\n",
       "      <td>0.000327</td>\n",
       "      <td>0.000688</td>\n",
       "      <td>0.000520</td>\n",
       "      <td>0.000257</td>\n",
       "      <td>0.000241</td>\n",
       "      <td>0.000279</td>\n",
       "      <td>0.000146</td>\n",
       "      <td>0.000159</td>\n",
       "      <td>0.000138</td>\n",
       "      <td>0.000183</td>\n",
       "      <td>0.000172</td>\n",
       "      <td>0.000123</td>\n",
       "      <td>0.000142</td>\n",
       "      <td>0.000098</td>\n",
       "      <td>0.000095</td>\n",
       "    </tr>\n",
       "    <tr>\n",
       "      <th>probs</th>\n",
       "      <td>0.630160</td>\n",
       "      <td>0.063085</td>\n",
       "      <td>0.000748</td>\n",
       "      <td>0.001596</td>\n",
       "      <td>0.000722</td>\n",
       "      <td>0.002011</td>\n",
       "      <td>0.282004</td>\n",
       "      <td>0.004172</td>\n",
       "      <td>0.001099</td>\n",
       "      <td>0.003056</td>\n",
       "      <td>0.001077</td>\n",
       "      <td>0.000666</td>\n",
       "      <td>0.000635</td>\n",
       "      <td>0.000428</td>\n",
       "      <td>0.000902</td>\n",
       "      <td>0.002836</td>\n",
       "      <td>0.001782</td>\n",
       "      <td>0.001757</td>\n",
       "      <td>0.000719</td>\n",
       "      <td>0.000546</td>\n",
       "    </tr>\n",
       "    <tr>\n",
       "      <th>probs</th>\n",
       "      <td>0.989994</td>\n",
       "      <td>0.001874</td>\n",
       "      <td>0.001389</td>\n",
       "      <td>0.000991</td>\n",
       "      <td>0.000397</td>\n",
       "      <td>0.000295</td>\n",
       "      <td>0.001613</td>\n",
       "      <td>0.001491</td>\n",
       "      <td>0.000189</td>\n",
       "      <td>0.000246</td>\n",
       "      <td>0.000213</td>\n",
       "      <td>0.000137</td>\n",
       "      <td>0.000133</td>\n",
       "      <td>0.000136</td>\n",
       "      <td>0.000188</td>\n",
       "      <td>0.000202</td>\n",
       "      <td>0.000173</td>\n",
       "      <td>0.000165</td>\n",
       "      <td>0.000097</td>\n",
       "      <td>0.000074</td>\n",
       "    </tr>\n",
       "    <tr>\n",
       "      <th>...</th>\n",
       "      <td>...</td>\n",
       "      <td>...</td>\n",
       "      <td>...</td>\n",
       "      <td>...</td>\n",
       "      <td>...</td>\n",
       "      <td>...</td>\n",
       "      <td>...</td>\n",
       "      <td>...</td>\n",
       "      <td>...</td>\n",
       "      <td>...</td>\n",
       "      <td>...</td>\n",
       "      <td>...</td>\n",
       "      <td>...</td>\n",
       "      <td>...</td>\n",
       "      <td>...</td>\n",
       "      <td>...</td>\n",
       "      <td>...</td>\n",
       "      <td>...</td>\n",
       "      <td>...</td>\n",
       "      <td>...</td>\n",
       "    </tr>\n",
       "    <tr>\n",
       "      <th>probs</th>\n",
       "      <td>0.983912</td>\n",
       "      <td>0.002450</td>\n",
       "      <td>0.000782</td>\n",
       "      <td>0.000944</td>\n",
       "      <td>0.000421</td>\n",
       "      <td>0.000462</td>\n",
       "      <td>0.007413</td>\n",
       "      <td>0.001028</td>\n",
       "      <td>0.000300</td>\n",
       "      <td>0.000308</td>\n",
       "      <td>0.000308</td>\n",
       "      <td>0.000121</td>\n",
       "      <td>0.000190</td>\n",
       "      <td>0.000149</td>\n",
       "      <td>0.000204</td>\n",
       "      <td>0.000328</td>\n",
       "      <td>0.000235</td>\n",
       "      <td>0.000201</td>\n",
       "      <td>0.000126</td>\n",
       "      <td>0.000119</td>\n",
       "    </tr>\n",
       "    <tr>\n",
       "      <th>probs</th>\n",
       "      <td>0.979904</td>\n",
       "      <td>0.003887</td>\n",
       "      <td>0.000559</td>\n",
       "      <td>0.000851</td>\n",
       "      <td>0.000389</td>\n",
       "      <td>0.000501</td>\n",
       "      <td>0.009524</td>\n",
       "      <td>0.001453</td>\n",
       "      <td>0.000273</td>\n",
       "      <td>0.000403</td>\n",
       "      <td>0.000363</td>\n",
       "      <td>0.000141</td>\n",
       "      <td>0.000194</td>\n",
       "      <td>0.000144</td>\n",
       "      <td>0.000234</td>\n",
       "      <td>0.000384</td>\n",
       "      <td>0.000287</td>\n",
       "      <td>0.000244</td>\n",
       "      <td>0.000129</td>\n",
       "      <td>0.000133</td>\n",
       "    </tr>\n",
       "    <tr>\n",
       "      <th>probs</th>\n",
       "      <td>0.001655</td>\n",
       "      <td>0.001456</td>\n",
       "      <td>0.000062</td>\n",
       "      <td>0.000224</td>\n",
       "      <td>0.000102</td>\n",
       "      <td>0.000267</td>\n",
       "      <td>0.994197</td>\n",
       "      <td>0.000204</td>\n",
       "      <td>0.000041</td>\n",
       "      <td>0.000441</td>\n",
       "      <td>0.000085</td>\n",
       "      <td>0.000098</td>\n",
       "      <td>0.000130</td>\n",
       "      <td>0.000054</td>\n",
       "      <td>0.000159</td>\n",
       "      <td>0.000255</td>\n",
       "      <td>0.000118</td>\n",
       "      <td>0.000200</td>\n",
       "      <td>0.000171</td>\n",
       "      <td>0.000082</td>\n",
       "    </tr>\n",
       "    <tr>\n",
       "      <th>probs</th>\n",
       "      <td>0.959303</td>\n",
       "      <td>0.005453</td>\n",
       "      <td>0.007857</td>\n",
       "      <td>0.008369</td>\n",
       "      <td>0.002927</td>\n",
       "      <td>0.000971</td>\n",
       "      <td>0.003237</td>\n",
       "      <td>0.004363</td>\n",
       "      <td>0.000376</td>\n",
       "      <td>0.001665</td>\n",
       "      <td>0.000988</td>\n",
       "      <td>0.000544</td>\n",
       "      <td>0.000427</td>\n",
       "      <td>0.000439</td>\n",
       "      <td>0.001118</td>\n",
       "      <td>0.000437</td>\n",
       "      <td>0.000343</td>\n",
       "      <td>0.000413</td>\n",
       "      <td>0.000418</td>\n",
       "      <td>0.000353</td>\n",
       "    </tr>\n",
       "    <tr>\n",
       "      <th>probs</th>\n",
       "      <td>0.970119</td>\n",
       "      <td>0.006599</td>\n",
       "      <td>0.000522</td>\n",
       "      <td>0.003251</td>\n",
       "      <td>0.000654</td>\n",
       "      <td>0.000856</td>\n",
       "      <td>0.011594</td>\n",
       "      <td>0.001421</td>\n",
       "      <td>0.000389</td>\n",
       "      <td>0.001416</td>\n",
       "      <td>0.000442</td>\n",
       "      <td>0.000194</td>\n",
       "      <td>0.000276</td>\n",
       "      <td>0.000224</td>\n",
       "      <td>0.000568</td>\n",
       "      <td>0.000468</td>\n",
       "      <td>0.000247</td>\n",
       "      <td>0.000359</td>\n",
       "      <td>0.000205</td>\n",
       "      <td>0.000196</td>\n",
       "    </tr>\n",
       "  </tbody>\n",
       "</table>\n",
       "<p>24935 rows × 20 columns</p>\n",
       "</div>"
      ],
      "text/plain": [
       "       General News | Opinion  Stock Commentary  ...  Personnel Change  Earnings\n",
       "probs                0.980330          0.008036  ...          0.000260  0.000179\n",
       "probs                0.952112          0.032972  ...          0.000361  0.000272\n",
       "probs                0.991620          0.003089  ...          0.000098  0.000095\n",
       "probs                0.630160          0.063085  ...          0.000719  0.000546\n",
       "probs                0.989994          0.001874  ...          0.000097  0.000074\n",
       "...                       ...               ...  ...               ...       ...\n",
       "probs                0.983912          0.002450  ...          0.000126  0.000119\n",
       "probs                0.979904          0.003887  ...          0.000129  0.000133\n",
       "probs                0.001655          0.001456  ...          0.000171  0.000082\n",
       "probs                0.959303          0.005453  ...          0.000418  0.000353\n",
       "probs                0.970119          0.006599  ...          0.000205  0.000196\n",
       "\n",
       "[24935 rows x 20 columns]"
      ]
     },
     "execution_count": 45,
     "metadata": {},
     "output_type": "execute_result"
    }
   ],
   "source": [
    "res"
   ]
  },
  {
   "cell_type": "code",
   "execution_count": 47,
   "id": "a893598d",
   "metadata": {},
   "outputs": [],
   "source": [
    "# Get the top 5 columns with highest probability for each row\n",
    "top_5_cols = res.apply(lambda x: sorted(range(len(x)), key=lambda i: x[i], reverse=True)[:3], axis=1)\n",
    "\n",
    "# Create a new dataframe to store the top 5 columns for each row\n",
    "top_5_df = pd.DataFrame(top_5_cols.tolist(), columns=['Top_1', 'Top_2', 'Top_3'])\n",
    "\n",
    "\n",
    "\n",
    "#PCA"
   ]
  },
  {
   "cell_type": "code",
   "execution_count": 52,
   "id": "d6de810a",
   "metadata": {},
   "outputs": [],
   "source": [
    "res.to_csv('topic.csv')"
   ]
  },
  {
   "cell_type": "code",
   "execution_count": 51,
   "id": "b3f55ab3",
   "metadata": {},
   "outputs": [
    {
     "data": {
      "text/plain": [
       "Top_1  Top_2  Top_3\n",
       "0      1      6        7914\n",
       "              2        3201\n",
       "       6      1        2545\n",
       "       1      3        1999\n",
       "1      0      6        1657\n",
       "                       ... \n",
       "6      0      15          1\n",
       "       1      11          1\n",
       "              12          1\n",
       "              14          1\n",
       "18     6      2           1\n",
       "Length: 335, dtype: int64"
      ]
     },
     "execution_count": 51,
     "metadata": {},
     "output_type": "execute_result"
    }
   ],
   "source": [
    "top_5_df.value_counts()"
   ]
  },
  {
   "cell_type": "code",
   "execution_count": 88,
   "id": "cafb3a87",
   "metadata": {},
   "outputs": [
    {
     "data": {
      "text/plain": [
       "array(['i love waking up to a marked set and hit Chong https://t.co/UQhHi2Blec',\n",
       "       '@Bitboy_Crypto \"alot of these people, we dont even know who the f they are\" LOL man you had me laugh on that one.  takem out bro you are the true crusader of crypto',\n",
       "       '@PhutureThe this one was a little more of a front run, not somethin that was clear as day so to speak, didnt trade for a week, saw a chance to get in a little early and wanted to fire off a barrel',\n",
       "       'LET HERRR RIIIIPPPP BABBBBYYYY SHES JUST GETTING STARTED HOPEFULLY',\n",
       "       '@JG33Crypto lol'], dtype=object)"
      ]
     },
     "execution_count": 88,
     "metadata": {},
     "output_type": "execute_result"
    }
   ],
   "source": [
    "cryptoface_tweets.values[0:5]"
   ]
  },
  {
   "cell_type": "code",
   "execution_count": 19,
   "id": "70b50e48",
   "metadata": {},
   "outputs": [
    {
     "ename": "SyntaxError",
     "evalue": "invalid syntax (704826932.py, line 1)",
     "output_type": "error",
     "traceback": [
      "\u001b[1;36m  Cell \u001b[1;32mIn[19], line 1\u001b[1;36m\u001b[0m\n\u001b[1;33m    predire plusieurs classes => court terme : positif et long terme : negatif (juste variable : court terme / long terme / moyen terme manuellement)\u001b[0m\n\u001b[1;37m            ^\u001b[0m\n\u001b[1;31mSyntaxError\u001b[0m\u001b[1;31m:\u001b[0m invalid syntax\n"
     ]
    }
   ],
   "source": []
  },
  {
   "cell_type": "code",
   "execution_count": null,
   "id": "b59e7a17",
   "metadata": {},
   "outputs": [],
   "source": [
    "classif pr comprendre quelle crypto"
   ]
  },
  {
   "cell_type": "code",
   "execution_count": null,
   "id": "a33d8542",
   "metadata": {},
   "outputs": [],
   "source": [
    "features comme vues des tweets pas importants car stockes seulmement une fois fini or on veut une estimation des la publication du sentiment créé et sentiment créable"
   ]
  },
  {
   "cell_type": "code",
   "execution_count": null,
   "id": "a14bd90e",
   "metadata": {},
   "outputs": [],
   "source": [
    "voir recommandation apres\n",
    "donner plus dimportance aux scores de tweet de fin  d'heure comparée au début lors du groupy"
   ]
  },
  {
   "cell_type": "code",
   "execution_count": null,
   "id": "2167162c",
   "metadata": {},
   "outputs": [],
   "source": [
    "mettre une restriction de prob cumulée sur une liste de topics (ex + de  80% cumulé d'etre dans ces trois topics)\n",
    "demanbder a chatgpt de faire un resumé et en fonction des indicateurs, faire une decision"
   ]
  }
 ],
 "metadata": {
  "kernelspec": {
   "display_name": "Python 3 (Spyder)",
   "language": "python3",
   "name": "python3"
  },
  "language_info": {
   "codemirror_mode": {
    "name": "ipython",
    "version": 3
   },
   "file_extension": ".py",
   "mimetype": "text/x-python",
   "name": "python",
   "nbconvert_exporter": "python",
   "pygments_lexer": "ipython3",
   "version": "3.9.16"
  }
 },
 "nbformat": 4,
 "nbformat_minor": 5
}
