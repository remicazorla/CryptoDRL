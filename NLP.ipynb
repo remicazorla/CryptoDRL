{
 "cells": [
  {
   "cell_type": "code",
   "execution_count": 1,
   "id": "b09d9bc9",
   "metadata": {},
   "outputs": [
    {
     "name": "stderr",
     "output_type": "stream",
     "text": [
      "C:\\Users\\remik\\anaconda3\\envs\\tf-gpu\\lib\\site-packages\\tqdm\\auto.py:22: TqdmWarning: IProgress not found. Please update jupyter and ipywidgets. See https://ipywidgets.readthedocs.io/en/stable/user_install.html\n",
      "  from .autonotebook import tqdm as notebook_tqdm\n",
      "Importing plotly failed. Interactive plots will not work.\n"
     ]
    }
   ],
   "source": [
    "import sys\n",
    "sys.path.append('..')\n",
    "from lib.download import *\n",
    "from tqdm import tqdm\n",
    "import numpy as np\n",
    "\n",
    "from selenium import webdriver\n",
    "from selenium.webdriver.firefox.options import Options\n",
    "from selenium.webdriver.common.desired_capabilities import DesiredCapabilities\n",
    "from selenium.webdriver.common.by import By\n",
    "\n",
    "import concurrent.futures\n",
    "import queue\n",
    "\n",
    "import torch\n",
    "from transformers import AutoTokenizer, AutoModelForSequenceClassification\n",
    "tokenizer = AutoTokenizer.from_pretrained(\"ProsusAI/finbert\")\n",
    "model = AutoModelForSequenceClassification.from_pretrained(\"ProsusAI/finbert\")"
   ]
  },
  {
   "cell_type": "code",
   "execution_count": 2,
   "id": "a53f767e",
   "metadata": {},
   "outputs": [],
   "source": [
    "#### DRIVER ####\n",
    "\n",
    "def get_driver():\n",
    "    options = Options()\n",
    "    options.binary_location = r\"C:\\Program Files\\Mozilla Firefox\\firefox.exe\"\n",
    "    capabilities = DesiredCapabilities().FIREFOX\n",
    "    capabilities[\"marionette\"] = False\n",
    "    capabilities[\"firefoxOptions\"] = {\"args\": [\"--headless\"]}\n",
    "    headers = {\n",
    "        \"User-Agent\": \"Mozilla/5.0 (Windows NT 10.0; Win64; x64) AppleWebKit/537.36 (KHTML, like Gecko) Chrome/83.0.4103.116 Safari/537.36\",\n",
    "        \"Accept\": \"text/html,application/xhtml+xml,application/xml;q=0.9,image/webp,*/*;q=0.8\",\n",
    "        \"Accept-Encoding\": \"gzip, deflate, br\",\n",
    "        \"Accept-Language\": \"en-US,en;q=0.5\",\n",
    "    }\n",
    "    for header, value in headers.items():\n",
    "        options.set_preference(f\"general.useragent.override\", headers[\"User-Agent\"])\n",
    "    driver = webdriver.Firefox(options=options)\n",
    "    return driver\n",
    "\n",
    "#### HREFS ####\n",
    "\n",
    "def get_page_hrefs(page_number, driver, ticker):\n",
    "    url = f\"https://www.tradingview.com/symbols/{ticker}/ideas/page-{page_number}/?sort=recent\"\n",
    "    driver.get(url)\n",
    "    hrefs = [hrf.get_attribute(\"href\") for hrf in driver.find_elements(By.CLASS_NAME, 'tv-widget-idea__title')]\n",
    "    return hrefs\n",
    "\n",
    "def worker(url_queue, result_queue, driver, ticker):\n",
    "    while not url_queue.empty():\n",
    "        page_number = url_queue.get()\n",
    "        hrefs = get_page_hrefs(page_number, driver, ticker)\n",
    "        result_queue.put(hrefs)        \n",
    "        \n",
    "def get_all_pages_hrefs(max_workers=6, start_page=2, end_page=500, ticker='BTCUSDT'):\n",
    "    hrefs = []\n",
    "    url_queue = queue.Queue()\n",
    "    result_queue = queue.Queue()\n",
    "\n",
    "    with concurrent.futures.ThreadPoolExecutor(max_workers=max_workers) as executor:\n",
    "        drivers = [get_driver() for i in range(max_workers)]\n",
    "        for page_number in range(start_page, end_page):\n",
    "            url_queue.put(page_number)\n",
    "\n",
    "        future_to_worker = [executor.submit(worker, url_queue, result_queue, drivers[i], ticker) for i in range(max_workers)]\n",
    "\n",
    "        concurrent.futures.wait(future_to_worker)\n",
    "\n",
    "    while not result_queue.empty():\n",
    "        hrefs.extend(result_queue.get())\n",
    "\n",
    "    for driver in drivers:\n",
    "        driver.quit()\n",
    "\n",
    "    return hrefs\n",
    "\n",
    "#### IDEAS ####\n",
    "\n",
    "def worker_ideas(href_queue, result_queue, driver):\n",
    "    while not href_queue.empty():\n",
    "        href = href_queue.get()\n",
    "        driver.get(href)\n",
    "        user = driver.find_element(By.CLASS_NAME, \"tv-chart-view__title-user-name\").text\n",
    "        time = driver.find_element(By.CLASS_NAME, \"tv-chart-view__title-time\").get_attribute('title')\n",
    "        title = driver.find_element(By.CLASS_NAME, 'tv-chart-view__title-name').text\n",
    "        content = driver.find_element(By.CLASS_NAME, 'tv-chart-view__description').text.replace('\\n','')\n",
    "        result_queue.put((time, title, user, content))   \n",
    "\n",
    "def get_data_from_hrefs(hrefs, max_workers=6):\n",
    "    result_queue = queue.Queue()\n",
    "    href_queue = queue.Queue()\n",
    "    for href in hrefs:\n",
    "        href_queue.put(href)\n",
    "\n",
    "    with concurrent.futures.ThreadPoolExecutor(max_workers=max_workers) as executor:\n",
    "        drivers = [get_driver() for i in range(max_workers)]\n",
    "        future_to_worker = [executor.submit(worker_ideas, href_queue, result_queue, drivers[i]) for i in range(max_workers)]\n",
    "        concurrent.futures.wait(future_to_worker)\n",
    "\n",
    "    times, titles, contents, users = [], [], [], []\n",
    "    while not result_queue.empty():\n",
    "        time, title, user, content = result_queue.get()\n",
    "        corresps = [[times,time],[contents,content],[titles,title],[users,user]]  \n",
    "        for corresp in corresps:\n",
    "            corresp[0].append(corresp[1]) \n",
    "    \n",
    "    for driver in drivers:\n",
    "        driver.quit()\n",
    "\n",
    "    data = pd.DataFrame({'time': times, 'title': titles, 'user': users, 'article': contents})\n",
    "    data[[\"pos\", \"neg\", \"neut\"]] = np.nan\n",
    "    \n",
    "    return data\n",
    "\n",
    "\n",
    "#### NEWS ####\n",
    "\n",
    "def ticker_news_dataset(ticker):\n",
    "    driver = get_driver()\n",
    "    url = f\"https://www.tradingview.com/symbols/{ticker}/news/?sort=recent\"\n",
    "    driver.get(url)\n",
    "    times, titles, contents, sources = [], [], [], [] \n",
    "    hrefs =[hrf.get_attribute(\"href\") for hrf in driver.find_elements(By.CLASS_NAME, 'card-gaCYEutU')] \n",
    "    for href in tqdm(hrefs): \n",
    "        driver.get(href)\n",
    "        source = driver.find_elements(By.CLASS_NAME,\"logoLight-cR1GoJcP\")[0].get_attribute(\"alt\")\n",
    "        time = driver.find_elements(By.CSS_SELECTOR,\"time[datetime]\")[0].text\n",
    "        title = driver.find_elements(By.CLASS_NAME, 'title-jEK_kEtx')[0].text\n",
    "        content = [text.text for text in driver.find_elements(By.CSS_SELECTOR, \"div.body-jEK_kEtx.body-op4L5uvo.content-op4L5uvo span p\")]\n",
    "        corresps = [[times,time],[contents,content],[titles,title],[sources,source]]  \n",
    "        for corresp in corresps:\n",
    "            corresp[0].append(corresp[1])\n",
    "    contents = [' '.join(content) for content in contents]\n",
    "    data = pd.DataFrame({'time' : times, 'title' : titles, 'source' : sources, 'article' : contents})\n",
    "    data['time'] = pd.to_datetime(data['time'], format=\"%b %d, %Y%H:%M\") + pd.Timedelta(hours=1)\n",
    "    data['time'] = data['time'].dt.strftime('%Y-%m-%d %H:%M')\n",
    "    data[[\"pos\",\"neg\",\"neut\"]] = np.nan\n",
    "    return data\n",
    "\n",
    "#### FinBERT ####\n",
    "\n",
    "def chunk_weights(chunk_len):\n",
    "    return [512] * (chunk_len // 512) + [chunk_len % 512] if chunk_len else []\n",
    "\n",
    "def article_sentiment(df, article_index):\n",
    "    txt = df['article'][article_index]\n",
    "    window_size = 510\n",
    "    tokens = tokenizer.encode_plus(txt, add_special_tokens=False)\n",
    "    input_ids = tokens['input_ids']\n",
    "    attention_mask = tokens['attention_mask']\n",
    "    total_len = len(input_ids)\n",
    "    \n",
    "    probs_list = []\n",
    "    for start in range(0, total_len, window_size):\n",
    "        end = min(start + window_size, total_len)\n",
    "        input_ids_chunk = input_ids[start:end]\n",
    "        attention_mask_chunk = attention_mask[start:end]\n",
    "        input_ids_chunk = [101] + input_ids_chunk + [102]\n",
    "        attention_mask_chunk = [1] + attention_mask_chunk + [1]\n",
    "        padding = [0] * (window_size - len(input_ids_chunk) + 2)\n",
    "        input_ids_chunk += padding\n",
    "        attention_mask_chunk += padding\n",
    "        input_dict = {\n",
    "            'input_ids': torch.LongTensor([input_ids_chunk]),\n",
    "            'attention_mask': torch.IntTensor([attention_mask_chunk])\n",
    "        }\n",
    "        outputs = model(**input_dict)\n",
    "        probs = torch.nn.functional.softmax(outputs[0], dim=-1)\n",
    "        probs_list.append(probs)\n",
    "\n",
    "    cw = chunk_weights(total_len)\n",
    "    weights = [x/total_len for x in cw]\n",
    "    weighted_probs = torch.FloatTensor(probs_list[0].shape)\n",
    "    for chunk, weight in zip(probs_list, weights):\n",
    "        weighted_probs += chunk * weight\n",
    "    weighted_probs = weighted_probs.detach().cpu().numpy()[0] \n",
    "    df['pos'].iloc[article_index] = weighted_probs[0]\n",
    "    df['neg'].iloc[article_index] = weighted_probs[1]\n",
    "    df['neut'].iloc[article_index] = weighted_probs[2]\n",
    "    return df"
   ]
  },
  {
   "cell_type": "code",
   "execution_count": 11,
   "id": "8a7a6b96",
   "metadata": {},
   "outputs": [],
   "source": [
    "#hrefs = get_all_pages_hrefs()\n",
    "#pd.DataFrame(hrefs).to_csv('hrfs.csv')"
   ]
  },
  {
   "cell_type": "code",
   "execution_count": 19,
   "id": "2296ebb7",
   "metadata": {},
   "outputs": [],
   "source": [
    "hrefs = pd.read_csv('hrfs.csv').iloc[:,-1:]\n",
    "hrefs = [href[0] for href in hrefs.values.tolist()]"
   ]
  },
  {
   "cell_type": "code",
   "execution_count": 20,
   "id": "3fe1f781",
   "metadata": {},
   "outputs": [],
   "source": [
    "#data = get_data_from_hrefs(hrefs)\n",
    "#data.to_csv('btcinfos.csv'"
   ]
  },
  {
   "cell_type": "code",
   "execution_count": 5,
   "id": "6c3040a2",
   "metadata": {},
   "outputs": [],
   "source": [
    "data = pd.read_csv('btcinfos.csv').iloc[:,1:]"
   ]
  },
  {
   "cell_type": "code",
   "execution_count": 10,
   "id": "7966a013",
   "metadata": {},
   "outputs": [
    {
     "data": {
      "text/plain": [
       "<AxesSubplot:>"
      ]
     },
     "execution_count": 10,
     "metadata": {},
     "output_type": "execute_result"
    },
    {
     "data": {
      "image/png": "[encoded data removed]",
      "text/plain": [
       "<Figure size 432x288 with 1 Axes>"
      ]
     },
     "metadata": {},
     "output_type": "display_data"
    }
   ],
   "source": [
    "data['user'].value_counts().plot()"
   ]
  },
  {
   "cell_type": "code",
   "execution_count": 29,
   "id": "f6163415",
   "metadata": {},
   "outputs": [
    {
     "data": {
      "text/plain": [
       "8962"
      ]
     },
     "execution_count": 29,
     "metadata": {},
     "output_type": "execute_result"
    }
   ],
   "source": [
    "len(data)"
   ]
  },
  {
   "cell_type": "code",
   "execution_count": 13,
   "id": "739d4c11",
   "metadata": {},
   "outputs": [
    {
     "name": "stderr",
     "output_type": "stream",
     "text": [
      "  0%|          | 0/8962 [00:00<?, ?it/s]Token indices sequence length is longer than the specified maximum sequence length for this model (615 > 512). Running this sequence through the model will result in indexing errors\n",
      "100%|██████████| 8962/8962 [3:36:31<00:00,  1.45s/it]  \n"
     ]
    }
   ],
   "source": [
    "from tqdm import tqdm\n",
    "for i in tqdm(range(0,len(data))):\n",
    "    try:\n",
    "        data = article_sentiment(data,i)   \n",
    "    except:\n",
    "        None"
   ]
  },
  {
   "cell_type": "code",
   "execution_count": 14,
   "id": "a3657f54",
   "metadata": {},
   "outputs": [
    {
     "data": {
      "text/html": [
       "<div>\n",
       "<style scoped>\n",
       "    .dataframe tbody tr th:only-of-type {\n",
       "        vertical-align: middle;\n",
       "    }\n",
       "\n",
       "    .dataframe tbody tr th {\n",
       "        vertical-align: top;\n",
       "    }\n",
       "\n",
       "    .dataframe thead th {\n",
       "        text-align: right;\n",
       "    }\n",
       "</style>\n",
       "<table border=\"1\" class=\"dataframe\">\n",
       "  <thead>\n",
       "    <tr style=\"text-align: right;\">\n",
       "      <th></th>\n",
       "      <th>time</th>\n",
       "      <th>title</th>\n",
       "      <th>user</th>\n",
       "      <th>article</th>\n",
       "      <th>pos</th>\n",
       "      <th>neg</th>\n",
       "      <th>neut</th>\n",
       "    </tr>\n",
       "  </thead>\n",
       "  <tbody>\n",
       "    <tr>\n",
       "      <th>8957</th>\n",
       "      <td>NaN</td>\n",
       "      <td>btc usdt</td>\n",
       "      <td>BullsFinance</td>\n",
       "      <td>looking for this zone for a long setup, i thin...</td>\n",
       "      <td>0.236987</td>\n",
       "      <td>0.016421</td>\n",
       "      <td>0.746593</td>\n",
       "    </tr>\n",
       "    <tr>\n",
       "      <th>8958</th>\n",
       "      <td>18:29 - Oct 7, 2022</td>\n",
       "      <td>btcusdt 4h uptade</td>\n",
       "      <td>Crypto_Players</td>\n",
       "      <td>BTC /USDT :- 4h 🕘Update ::Btc currently trade ...</td>\n",
       "      <td>0.335169</td>\n",
       "      <td>0.099860</td>\n",
       "      <td>0.564970</td>\n",
       "    </tr>\n",
       "    <tr>\n",
       "      <th>8959</th>\n",
       "      <td>18:20 - Oct 7, 2022</td>\n",
       "      <td>12K FOR BITCOIN? VERY MUCH LIKELY.</td>\n",
       "      <td>patlaka2000</td>\n",
       "      <td>We are moving through thin air. It is a matter...</td>\n",
       "      <td>0.036937</td>\n",
       "      <td>0.104326</td>\n",
       "      <td>0.858737</td>\n",
       "    </tr>\n",
       "    <tr>\n",
       "      <th>8960</th>\n",
       "      <td>17:57 - Oct 7, 2022</td>\n",
       "      <td>BTCUSDT Down Trend.!</td>\n",
       "      <td>TRADiNG_Club_</td>\n",
       "      <td>#BTCUSDT Looking for Sell trade setup as I men...</td>\n",
       "      <td>0.108842</td>\n",
       "      <td>0.017997</td>\n",
       "      <td>0.873161</td>\n",
       "    </tr>\n",
       "    <tr>\n",
       "      <th>8961</th>\n",
       "      <td>18:07 - Oct 7, 2022</td>\n",
       "      <td>BTC</td>\n",
       "      <td>PUMPmaps</td>\n",
       "      <td>The price fell to the ascending trend line aft...</td>\n",
       "      <td>0.104066</td>\n",
       "      <td>0.784580</td>\n",
       "      <td>0.111354</td>\n",
       "    </tr>\n",
       "  </tbody>\n",
       "</table>\n",
       "</div>"
      ],
      "text/plain": [
       "                     time  ...      neut\n",
       "8957                  NaN  ...  0.746593\n",
       "8958  18:29 - Oct 7, 2022  ...  0.564970\n",
       "8959  18:20 - Oct 7, 2022  ...  0.858737\n",
       "8960  17:57 - Oct 7, 2022  ...  0.873161\n",
       "8961  18:07 - Oct 7, 2022  ...  0.111354\n",
       "\n",
       "[5 rows x 7 columns]"
      ]
     },
     "execution_count": 14,
     "metadata": {},
     "output_type": "execute_result"
    }
   ],
   "source": [
    "data.tail()"
   ]
  },
  {
   "cell_type": "code",
   "execution_count": null,
   "id": "56c86707",
   "metadata": {},
   "outputs": [],
   "source": [
    "# Calculating the hourly average sentiment score\n",
    "def get_daily_average_sentiment_score(df):\n",
    "    return df.groupby(\"date\")[\"sentiment_score\"].mean()"
   ]
  },
  {
   "cell_type": "code",
   "execution_count": null,
   "id": "e891d4f6",
   "metadata": {},
   "outputs": [],
   "source": [
    "output => sentiment moyen par journal + poids  + changer usd/eur + vader (twitter reddit ideas)"
   ]
  },
  {
   "cell_type": "code",
   "execution_count": null,
   "id": "11446682",
   "metadata": {},
   "outputs": [],
   "source": [
    "essayer avec btcusd aussi, essayer avec ideas, essayer de pondérer par paragraphe (pour eviter biais des sentiumlents qui peuvnt changer en fonction de la ccl)"
   ]
  },
  {
   "cell_type": "code",
   "execution_count": null,
   "id": "d2fc1c69",
   "metadata": {},
   "outputs": [],
   "source": [
    "historical features"
   ]
  }
 ],
 "metadata": {
  "kernelspec": {
   "display_name": "Python 3 (Spyder)",
   "language": "python3",
   "name": "python3"
  },
  "language_info": {
   "codemirror_mode": {
    "name": "ipython",
    "version": 3
   },
   "file_extension": ".py",
   "mimetype": "text/x-python",
   "name": "python",
   "nbconvert_exporter": "python",
   "pygments_lexer": "ipython3",
   "version": "3.8.16"
  }
 },
 "nbformat": 4,
 "nbformat_minor": 5
}
